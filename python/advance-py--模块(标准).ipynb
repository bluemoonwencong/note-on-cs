{
 "cells": [
  {
   "cell_type": "markdown",
   "metadata": {},
   "source": [
    "# collections\n",
    "\n",
    "Python 的数据类型有 list, tuple, dict, str 等，collections 模块提供了额外 5 个高性能的数据类型\n",
    "\n",
    "* Counter: 计数器\n",
    "* OrderedDict: 有序字典\n",
    "* defaultdict: 带有默认值的字典\n",
    "* namedtuple: 生成可以通过属性访问元素内容的 tuple 子类\n",
    "* deque: 双端队列，能够在队列两端添加或删除元素\n"
   ]
  },
  {
   "cell_type": "code",
   "execution_count": 6,
   "metadata": {},
   "outputs": [
    {
     "data": {
      "text/plain": [
       "\u001b[1;31mType:\u001b[0m        module\n",
       "\u001b[1;31mString form:\u001b[0m <module 'collections' from 'd:\\\\software\\\\Anaconda3\\\\envs\\\\ai\\\\lib\\\\collections\\\\__init__.py'>\n",
       "\u001b[1;31mFile:\u001b[0m        d:\\software\\anaconda3\\envs\\ai\\lib\\collections\\__init__.py\n",
       "\u001b[1;31mDocstring:\u001b[0m  \n",
       "This module implements specialized container datatypes providing\n",
       "alternatives to Python's general purpose built-in containers, dict,\n",
       "list, set, and tuple.\n",
       "\n",
       "* namedtuple   factory function for creating tuple subclasses with named fields\n",
       "* deque        list-like container with fast appends and pops on either end\n",
       "* ChainMap     dict-like class for creating a single view of multiple mappings\n",
       "* Counter      dict subclass for counting hashable objects\n",
       "* OrderedDict  dict subclass that remembers the order entries were added\n",
       "* defaultdict  dict subclass that calls a factory function to supply missing values\n",
       "* UserDict     wrapper around dictionary objects for easier dict subclassing\n",
       "* UserList     wrapper around list objects for easier list subclassing\n",
       "* UserString   wrapper around string objects for easier string subclassing\n"
      ]
     },
     "metadata": {},
     "output_type": "display_data"
    }
   ],
   "source": [
    "import collections\n",
    "from collections import Counter\n",
    "from collections import OrderedDict\n",
    "from collections import defaultdict\n",
    "from collections import namedtuple\n",
    "from collections import deque\n",
    "collections?"
   ]
  },
  {
   "cell_type": "code",
   "execution_count": 11,
   "metadata": {},
   "outputs": [
    {
     "data": {
      "text/plain": [
       "[1, 2.3]"
      ]
     },
     "execution_count": 11,
     "metadata": {},
     "output_type": "execute_result"
    }
   ],
   "source": [
    "Point = namedtuple('Point',['x','y'])\n",
    "p = Point(1,2.3)\n",
    "[p.x, p.y]"
   ]
  },
  {
   "cell_type": "code",
   "execution_count": 21,
   "metadata": {},
   "outputs": [
    {
     "name": "stdout",
     "output_type": "stream",
     "text": [
      "[1, 2, 3]\n",
      "3\n",
      "[1, 2]\n",
      "[1, 2, 'hh']\n"
     ]
    }
   ],
   "source": [
    "a = [1,2,3]\n",
    "print(a)\n",
    "print(a.pop())\n",
    "print(a)\n",
    "a.append('hh')\n",
    "print(a)"
   ]
  },
  {
   "cell_type": "code",
   "execution_count": 29,
   "metadata": {},
   "outputs": [
    {
     "name": "stdout",
     "output_type": "stream",
     "text": [
      "deque([1, 2, 3, 4, 5])\n"
     ]
    },
    {
     "data": {
      "text/plain": [
       "deque(['y', 1, 2, 3, 4, 5, 'x'])"
      ]
     },
     "execution_count": 29,
     "metadata": {},
     "output_type": "execute_result"
    }
   ],
   "source": [
    "b = deque([1,2,3,4,5])\n",
    "print(b)\n",
    "b.append('x')\n",
    "b.appendleft('y')\n",
    "b"
   ]
  },
  {
   "cell_type": "code",
   "execution_count": 31,
   "metadata": {},
   "outputs": [
    {
     "data": {
      "text/plain": [
       "'N/A'"
      ]
     },
     "execution_count": 31,
     "metadata": {},
     "output_type": "execute_result"
    }
   ],
   "source": [
    "from collections import defaultdict\n",
    "d = defaultdict(lambda:'N/A')\n",
    "d['k1'] = 23\n",
    "d['k2']"
   ]
  },
  {
   "cell_type": "code",
   "execution_count": 35,
   "metadata": {},
   "outputs": [
    {
     "data": {
      "text/plain": [
       "OrderedDict([('k1', 23), ('k3', 32), ('k2', 22)])"
      ]
     },
     "execution_count": 35,
     "metadata": {},
     "output_type": "execute_result"
    }
   ],
   "source": [
    "from collections import OrderedDict\n",
    "d = OrderedDict()\n",
    "d['k1'] = 23\n",
    "d['k3'] = 32\n",
    "d['k2'] = 22\n",
    "d"
   ]
  },
  {
   "cell_type": "code",
   "execution_count": 106,
   "metadata": {},
   "outputs": [],
   "source": [
    "# 先进先出\n",
    "from collections import OrderedDict\n",
    "class LastUpdatedOrderedDict(OrderedDict):\n",
    "    def __init__(self, capacity):\n",
    "#       ???\n",
    "        super(LastUpdatedOrderedDict, self).__init__()\n",
    "        self._capacity = capacity\n",
    "#     继承自 OrderedDict, 可以自如使用 len, popitem, pop\n",
    "    def __setitem__(self, key, value):\n",
    "        containKey = 1 if key in self else 0\n",
    "        if len(self) - containKey >= self._capacity:\n",
    "            last = self.popitem(last=False)\n",
    "            print('remove:',last)\n",
    "        if containKey:\n",
    "            self.pop(key)\n",
    "            print('set:',(key,value))\n",
    "        else:\n",
    "            print('add:',(key,value))\n",
    "#       ???\n",
    "        OrderedDict.__setitem__(self,key,value)"
   ]
  },
  {
   "cell_type": "code",
   "execution_count": 107,
   "metadata": {},
   "outputs": [
    {
     "name": "stdout",
     "output_type": "stream",
     "text": [
      "LastUpdatedOrderedDict()\n",
      "add: ('key1', 12)\n",
      "add: ('key2', 21)\n",
      "add: ('key3', 34)\n",
      "LastUpdatedOrderedDict([('key1', 12), ('key2', 21), ('key3', 34)])\n",
      "remove: ('key1', 12)\n",
      "add: ('key4', 55)\n",
      "remove: ('key2', 21)\n",
      "add: ('key5', 1)\n",
      "LastUpdatedOrderedDict([('key3', 34), ('key4', 55), ('key5', 1)])\n"
     ]
    }
   ],
   "source": [
    "c = LastUpdatedOrderedDict(3)\n",
    "print(c)\n",
    "c['key1'] = 12\n",
    "c['key2'] = 21\n",
    "c['key3'] = 34\n",
    "print(c)\n",
    "c['key4'] = 55\n",
    "c.__setitem__('key5',1)\n",
    "print(c)"
   ]
  },
  {
   "cell_type": "code",
   "execution_count": 108,
   "metadata": {},
   "outputs": [
    {
     "data": {
      "text/plain": [
       "Counter({'h': 1,\n",
       "         'e': 1,\n",
       "         'l': 3,\n",
       "         'o': 2,\n",
       "         ' ': 1,\n",
       "         'w': 1,\n",
       "         'r': 1,\n",
       "         'd': 1,\n",
       "         '!': 1})"
      ]
     },
     "execution_count": 108,
     "metadata": {},
     "output_type": "execute_result"
    }
   ],
   "source": [
    "from collections import Counter\n",
    "c = Counter()\n",
    "for i in 'hello world!':\n",
    "    c[i] += 1\n",
    "c"
   ]
  },
  {
   "cell_type": "markdown",
   "metadata": {},
   "source": [
    "# itertools, operator"
   ]
  },
  {
   "cell_type": "code",
   "execution_count": 77,
   "metadata": {},
   "outputs": [],
   "source": [
    "import itertools\n",
    "import operator"
   ]
  },
  {
   "cell_type": "code",
   "execution_count": 93,
   "metadata": {},
   "outputs": [
    {
     "data": {
      "text/plain": [
       "\u001b[1;31mDocstring:\u001b[0m getitem(a, b) -- Same as a[b].\n",
       "\u001b[1;31mType:\u001b[0m      builtin_function_or_method\n"
      ]
     },
     "metadata": {},
     "output_type": "display_data"
    }
   ],
   "source": [
    "operator.getitem?"
   ]
  },
  {
   "cell_type": "code",
   "execution_count": 94,
   "metadata": {},
   "outputs": [
    {
     "data": {
      "text/plain": [
       "\u001b[1;31mInit signature:\u001b[0m \u001b[0moperator\u001b[0m\u001b[1;33m.\u001b[0m\u001b[0mattrgetter\u001b[0m\u001b[1;33m(\u001b[0m\u001b[0mself\u001b[0m\u001b[1;33m,\u001b[0m \u001b[1;33m/\u001b[0m\u001b[1;33m,\u001b[0m \u001b[1;33m*\u001b[0m\u001b[0margs\u001b[0m\u001b[1;33m,\u001b[0m \u001b[1;33m**\u001b[0m\u001b[0mkwargs\u001b[0m\u001b[1;33m)\u001b[0m\u001b[1;33m\u001b[0m\u001b[1;33m\u001b[0m\u001b[0m\n",
       "\u001b[1;31mDocstring:\u001b[0m     \n",
       "attrgetter(attr, ...) --> attrgetter object\n",
       "\n",
       "Return a callable object that fetches the given attribute(s) from its operand.\n",
       "After f = attrgetter('name'), the call f(r) returns r.name.\n",
       "After g = attrgetter('name', 'date'), the call g(r) returns (r.name, r.date).\n",
       "After h = attrgetter('name.first', 'name.last'), the call h(r) returns\n",
       "(r.name.first, r.name.last).\n",
       "\u001b[1;31mFile:\u001b[0m           d:\\software\\anaconda3\\envs\\ai\\lib\\operator.py\n",
       "\u001b[1;31mType:\u001b[0m           type\n"
      ]
     },
     "metadata": {},
     "output_type": "display_data"
    }
   ],
   "source": [
    "operator.attrgetter?"
   ]
  },
  {
   "cell_type": "code",
   "execution_count": null,
   "metadata": {},
   "outputs": [],
   "source": []
  },
  {
   "cell_type": "code",
   "execution_count": null,
   "metadata": {},
   "outputs": [],
   "source": []
  },
  {
   "cell_type": "code",
   "execution_count": null,
   "metadata": {},
   "outputs": [],
   "source": []
  },
  {
   "cell_type": "code",
   "execution_count": null,
   "metadata": {},
   "outputs": [],
   "source": []
  },
  {
   "cell_type": "code",
   "execution_count": null,
   "metadata": {},
   "outputs": [],
   "source": []
  },
  {
   "cell_type": "markdown",
   "metadata": {},
   "source": [
    "# base64"
   ]
  },
  {
   "cell_type": "code",
   "execution_count": 120,
   "metadata": {},
   "outputs": [
    {
     "name": "stdout",
     "output_type": "stream",
     "text": [
      "b'YmluYXJ5AHO3Hfvv/w=='\n"
     ]
    },
    {
     "data": {
      "text/plain": [
       "b'binary\\x00s\\xb7\\x1d\\xfb\\xef\\xff'"
      ]
     },
     "execution_count": 120,
     "metadata": {},
     "output_type": "execute_result"
    }
   ],
   "source": [
    "# Base64 是一种用 64 个字符来表示任意二进制数据的方法。\n",
    "# Base64 是一种任意二进制到文本字符串的编码方法，常用于在 URL、Cookie、网页中传输少量二进制数据.\n",
    "import base64\n",
    "cache = base64.b64encode(b'binary\\x00s\\xb7\\x1d\\xfb\\xef\\xff')\n",
    "print(cache)\n",
    "base64.b64decode(cache)\n",
    "# Base64 是一种通过查表的编码方法，不能用于加密，即使使用自定义的编码表也不行。\n",
    "# 适用于小段内容的编码，比如数字证书签名、Cookie 的内容等。"
   ]
  },
  {
   "cell_type": "code",
   "execution_count": 130,
   "metadata": {},
   "outputs": [
    {
     "data": {
      "text/plain": [
       "b'\\x00\\x0f\\xa0\\t'"
      ]
     },
     "execution_count": 130,
     "metadata": {},
     "output_type": "execute_result"
    }
   ],
   "source": [
    "n = 1024009\n",
    "b1 = chr((n & 0xff000000) >> 24)\n",
    "import struct\n",
    "struct.pack('>I',n)\n",
    "# >表示字节顺序是 big­endian，也就是网络序，I 表示 4 字节无符号整数。\n"
   ]
  },
  {
   "cell_type": "markdown",
   "metadata": {},
   "source": [
    "# hashlib, hmac"
   ]
  },
  {
   "cell_type": "markdown",
   "metadata": {},
   "source": [
    "HMAC 是用于消息认证的加密哈希算法，全称是 keyed-Hash Message Authentication Code。HMAC 利用哈希算法，以一个密钥和一个消息作为输入，生成一个加密串作为输出。HMAC 可以有效防止类似 MD5 的彩虹表等攻击，比如将常见密码的 MD5 值存入数据库，可能被反向破解。"
   ]
  },
  {
   "cell_type": "code",
   "execution_count": 8,
   "metadata": {},
   "outputs": [
    {
     "data": {
      "text/plain": [
       "\u001b[1;31mType:\u001b[0m        module\n",
       "\u001b[1;31mString form:\u001b[0m <module 'hmac' from 'd:\\\\software\\\\Anaconda3\\\\envs\\\\ai\\\\lib\\\\hmac.py'>\n",
       "\u001b[1;31mFile:\u001b[0m        d:\\software\\anaconda3\\envs\\ai\\lib\\hmac.py\n",
       "\u001b[1;31mDocstring:\u001b[0m  \n",
       "HMAC (Keyed-Hashing for Message Authentication) Python module.\n",
       "\n",
       "Implements the HMAC algorithm as described by RFC 2104.\n"
      ]
     },
     "metadata": {},
     "output_type": "display_data"
    }
   ],
   "source": [
    "import hmac\n",
    "hmac?"
   ]
  },
  {
   "cell_type": "code",
   "execution_count": 39,
   "metadata": {},
   "outputs": [
    {
     "data": {
      "text/plain": [
       "'d26a53750bc40b38b65a520292f69306'"
      ]
     },
     "execution_count": 39,
     "metadata": {},
     "output_type": "execute_result"
    }
   ],
   "source": [
    "import hashlib\n",
    "md5 = hashlib.md5()\n",
    "md5.update(b'how to use md5 in python hashlib?')\n",
    "md5.hexdigest()\n",
    "# MD5速度很快，生成128bit，用一个32位16进制的数字表示"
   ]
  },
  {
   "cell_type": "code",
   "execution_count": 44,
   "metadata": {},
   "outputs": [
    {
     "data": {
      "text/plain": [
       "'a3753dbb0887493b5c194a81f897e3f03c817c05'"
      ]
     },
     "execution_count": 44,
     "metadata": {},
     "output_type": "execute_result"
    }
   ],
   "source": [
    "sha1 = hashlib.sha1()\n",
    "sha1.update('how to use'.encode('utf-8'))\n",
    "sha1.update('hash in python'.encode('utf-8'))\n",
    "sha1.hexdigest()\n",
    "# 160bit, 40位16进制表示"
   ]
  },
  {
   "cell_type": "code",
   "execution_count": 56,
   "metadata": {},
   "outputs": [
    {
     "data": {
      "text/plain": [
       "'a3753dbb0887493b5c194a81f897e3f03c817c05'"
      ]
     },
     "execution_count": 56,
     "metadata": {},
     "output_type": "execute_result"
    }
   ],
   "source": [
    "sha1 = hashlib.sha1()\n",
    "sha1.update('how to usehash in python'.encode('utf-8'))\n",
    "sha1.hexdigest()"
   ]
  },
  {
   "cell_type": "code",
   "execution_count": 60,
   "metadata": {},
   "outputs": [
    {
     "data": {
      "text/plain": [
       "b'sdsd'"
      ]
     },
     "execution_count": 60,
     "metadata": {},
     "output_type": "execute_result"
    }
   ],
   "source": [
    "'sdsd'.encode('utf8')"
   ]
  },
  {
   "cell_type": "code",
   "execution_count": 62,
   "metadata": {},
   "outputs": [
    {
     "data": {
      "text/plain": [
       "b'sssssaefwefa\\xe6\\x98\\xaf'"
      ]
     },
     "execution_count": 62,
     "metadata": {},
     "output_type": "execute_result"
    }
   ],
   "source": [
    "'sssssaefwefa是'.encode('utf8')"
   ]
  },
  {
   "cell_type": "code",
   "execution_count": null,
   "metadata": {},
   "outputs": [],
   "source": []
  },
  {
   "cell_type": "code",
   "execution_count": null,
   "metadata": {},
   "outputs": [],
   "source": []
  },
  {
   "cell_type": "markdown",
   "metadata": {},
   "source": [
    "# time, datetime, calender\n",
    "\n",
    "`datetime`是对`time`的封装"
   ]
  },
  {
   "cell_type": "code",
   "execution_count": 83,
   "metadata": {},
   "outputs": [
    {
     "ename": "ModuleNotFoundError",
     "evalue": "No module named 'calender'",
     "output_type": "error",
     "traceback": [
      "\u001b[1;31m---------------------------------------------------------------------------\u001b[0m",
      "\u001b[1;31mModuleNotFoundError\u001b[0m                       Traceback (most recent call last)",
      "\u001b[1;32m<ipython-input-83-a0942af39ac3>\u001b[0m in \u001b[0;36m<module>\u001b[1;34m\u001b[0m\n\u001b[1;32m----> 1\u001b[1;33m \u001b[1;32mimport\u001b[0m \u001b[0mtime\u001b[0m\u001b[1;33m,\u001b[0m \u001b[0mcalender\u001b[0m\u001b[1;33m\u001b[0m\u001b[1;33m\u001b[0m\u001b[0m\n\u001b[0m\u001b[0;32m      2\u001b[0m \u001b[1;32mimport\u001b[0m \u001b[0mdatetime\u001b[0m\u001b[1;33m\u001b[0m\u001b[1;33m\u001b[0m\u001b[0m\n\u001b[0;32m      3\u001b[0m \u001b[0mget_ipython\u001b[0m\u001b[1;33m(\u001b[0m\u001b[1;33m)\u001b[0m\u001b[1;33m.\u001b[0m\u001b[0mrun_line_magic\u001b[0m\u001b[1;33m(\u001b[0m\u001b[1;34m'pinfo'\u001b[0m\u001b[1;33m,\u001b[0m \u001b[1;34m'datetime'\u001b[0m\u001b[1;33m)\u001b[0m\u001b[1;33m\u001b[0m\u001b[1;33m\u001b[0m\u001b[0m\n",
      "\u001b[1;31mModuleNotFoundError\u001b[0m: No module named 'calender'"
     ]
    }
   ],
   "source": [
    "import time, calender\n",
    "import datetime\n",
    "datetime?"
   ]
  },
  {
   "cell_type": "code",
   "execution_count": 20,
   "metadata": {},
   "outputs": [
    {
     "data": {
      "text/plain": [
       "datetime.datetime(2018, 11, 30, 7, 0, 29, 743161)"
      ]
     },
     "execution_count": 20,
     "metadata": {},
     "output_type": "execute_result"
    }
   ],
   "source": [
    "datetime.datetime.now()"
   ]
  },
  {
   "cell_type": "code",
   "execution_count": 23,
   "metadata": {},
   "outputs": [
    {
     "data": {
      "text/plain": [
       "datetime.datetime(2018, 11, 29, 23, 1, 4, 569364)"
      ]
     },
     "execution_count": 23,
     "metadata": {},
     "output_type": "execute_result"
    }
   ],
   "source": [
    "datetime.datetime.utcnow()"
   ]
  },
  {
   "cell_type": "code",
   "execution_count": 38,
   "metadata": {},
   "outputs": [
    {
     "data": {
      "text/plain": [
       "(4, 2018, 11)"
      ]
     },
     "execution_count": 38,
     "metadata": {},
     "output_type": "execute_result"
    }
   ],
   "source": [
    "a = datetime.datetime.now()\n",
    "a.weekday(), a.year, a.month"
   ]
  },
  {
   "cell_type": "code",
   "execution_count": null,
   "metadata": {},
   "outputs": [],
   "source": []
  },
  {
   "cell_type": "code",
   "execution_count": null,
   "metadata": {},
   "outputs": [],
   "source": []
  },
  {
   "cell_type": "markdown",
   "metadata": {},
   "source": [
    "# argparse, click\n",
    "\n",
    "**Argparse** 是一个用于命令项选项与参数解析的内置模块。\n",
    "**Click** 是 **Flask** 的开发团队 **Pallets** 的另一款开源项目，它是用于快速创建命令行的第三方模块。我们知道，Python 内置了一个 **Argparse** 的标准库用于创建命令行，但使用起来有些繁琐。\n",
    "\n",
    "**Click 相比于 Argparse，就好比 requests 相比于 urllib**。\n"
   ]
  },
  {
   "cell_type": "code",
   "execution_count": 5,
   "metadata": {},
   "outputs": [
    {
     "data": {
      "text/plain": [
       "\u001b[1;31mType:\u001b[0m        module\n",
       "\u001b[1;31mString form:\u001b[0m <module 'click' from 'd:\\\\software\\\\Anaconda3\\\\envs\\\\ai\\\\lib\\\\site-packages\\\\click\\\\__init__.py'>\n",
       "\u001b[1;31mFile:\u001b[0m        d:\\software\\anaconda3\\envs\\ai\\lib\\site-packages\\click\\__init__.py\n",
       "\u001b[1;31mDocstring:\u001b[0m  \n",
       "click\n",
       "~~~~~\n",
       "\n",
       "Click is a simple Python module inspired by the stdlib optparse to make\n",
       "writing command line scripts fun. Unlike other modules, it's based\n",
       "around a simple API that does not come with too much magic and is\n",
       "composable.\n",
       "\n",
       ":copyright: © 2014 by the Pallets team.\n",
       ":license: BSD, see LICENSE.rst for more details.\n"
      ]
     },
     "metadata": {},
     "output_type": "display_data"
    }
   ],
   "source": [
    "import argparse, click\n",
    "click?"
   ]
  },
  {
   "cell_type": "code",
   "execution_count": null,
   "metadata": {},
   "outputs": [],
   "source": []
  },
  {
   "cell_type": "code",
   "execution_count": null,
   "metadata": {},
   "outputs": [],
   "source": []
  },
  {
   "cell_type": "markdown",
   "metadata": {},
   "source": [
    "# urllib, requests"
   ]
  },
  {
   "cell_type": "code",
   "execution_count": 7,
   "metadata": {},
   "outputs": [
    {
     "data": {
      "text/plain": [
       "\u001b[1;31mType:\u001b[0m        module\n",
       "\u001b[1;31mString form:\u001b[0m <module 'requests' from 'd:\\\\software\\\\Anaconda3\\\\envs\\\\ai\\\\lib\\\\site-packages\\\\requests\\\\__init__.py'>\n",
       "\u001b[1;31mFile:\u001b[0m        d:\\software\\anaconda3\\envs\\ai\\lib\\site-packages\\requests\\__init__.py\n",
       "\u001b[1;31mDocstring:\u001b[0m  \n",
       "Requests HTTP Library\n",
       "~~~~~~~~~~~~~~~~~~~~~\n",
       "\n",
       "Requests is an HTTP library, written in Python, for human beings. Basic GET\n",
       "usage:\n",
       "\n",
       "   >>> import requests\n",
       "   >>> r = requests.get('https://www.python.org')\n",
       "   >>> r.status_code\n",
       "   200\n",
       "   >>> 'Python is a programming language' in r.content\n",
       "   True\n",
       "\n",
       "... or POST:\n",
       "\n",
       "   >>> payload = dict(key1='value1', key2='value2')\n",
       "   >>> r = requests.post('https://httpbin.org/post', data=payload)\n",
       "   >>> print(r.text)\n",
       "   {\n",
       "     ...\n",
       "     \"form\": {\n",
       "       \"key2\": \"value2\",\n",
       "       \"key1\": \"value1\"\n",
       "     },\n",
       "     ...\n",
       "   }\n",
       "\n",
       "The other HTTP methods are supported - see `requests.api`. Full documentation\n",
       "is at <http://python-requests.org>.\n",
       "\n",
       ":copyright: (c) 2017 by Kenneth Reitz.\n",
       ":license: Apache 2.0, see LICENSE for more details.\n"
      ]
     },
     "metadata": {},
     "output_type": "display_data"
    }
   ],
   "source": [
    "import urllib\n",
    "import requests\n",
    "urllib?\n",
    "requests?"
   ]
  },
  {
   "cell_type": "code",
   "execution_count": 10,
   "metadata": {},
   "outputs": [],
   "source": [
    "with urllib.request.urlopen('http://python.org/') as response:\n",
    "   html = response.read()"
   ]
  },
  {
   "cell_type": "code",
   "execution_count": null,
   "metadata": {},
   "outputs": [],
   "source": []
  },
  {
   "cell_type": "code",
   "execution_count": 18,
   "metadata": {},
   "outputs": [
    {
     "name": "stdout",
     "output_type": "stream",
     "text": [
      "sds\n",
      "sfd\n"
     ]
    }
   ],
   "source": [
    "print('sds\\nsfd')"
   ]
  },
  {
   "cell_type": "code",
   "execution_count": null,
   "metadata": {},
   "outputs": [],
   "source": []
  },
  {
   "cell_type": "code",
   "execution_count": null,
   "metadata": {},
   "outputs": [],
   "source": []
  },
  {
   "cell_type": "code",
   "execution_count": null,
   "metadata": {},
   "outputs": [],
   "source": []
  },
  {
   "cell_type": "code",
   "execution_count": null,
   "metadata": {},
   "outputs": [],
   "source": []
  },
  {
   "cell_type": "code",
   "execution_count": null,
   "metadata": {},
   "outputs": [],
   "source": []
  },
  {
   "cell_type": "code",
   "execution_count": null,
   "metadata": {},
   "outputs": [],
   "source": []
  },
  {
   "cell_type": "code",
   "execution_count": null,
   "metadata": {},
   "outputs": [],
   "source": []
  },
  {
   "cell_type": "code",
   "execution_count": null,
   "metadata": {},
   "outputs": [],
   "source": []
  },
  {
   "cell_type": "code",
   "execution_count": null,
   "metadata": {},
   "outputs": [],
   "source": []
  }
 ],
 "metadata": {
  "kernelspec": {
   "display_name": "Python 3",
   "language": "python",
   "name": "python3"
  },
  "language_info": {
   "codemirror_mode": {
    "name": "ipython",
    "version": 3
   },
   "file_extension": ".py",
   "mimetype": "text/x-python",
   "name": "python",
   "nbconvert_exporter": "python",
   "pygments_lexer": "ipython3",
   "version": "3.6.7"
  }
 },
 "nbformat": 4,
 "nbformat_minor": 2
}
