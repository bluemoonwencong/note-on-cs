{
 "cells": [
  {
   "cell_type": "markdown",
   "metadata": {},
   "source": [
    "# \\*args"
   ]
  },
  {
   "cell_type": "code",
   "execution_count": 28,
   "metadata": {},
   "outputs": [
    {
     "name": "stdout",
     "output_type": "stream",
     "text": [
      "23 45\n",
      "('ds', 23, 56)\n",
      "ds 23 56\n"
     ]
    }
   ],
   "source": [
    "def f(x1,x2,*args):\n",
    "    print(x1,x2)\n",
    "    print(args)\n",
    "    print(*args)\n",
    "f(23,45,'ds',23,56)"
   ]
  },
  {
   "cell_type": "code",
   "execution_count": 44,
   "metadata": {},
   "outputs": [
    {
     "name": "stdout",
     "output_type": "stream",
     "text": [
      "[(23, 45)]\n",
      "[23, 45]\n",
      "23 45\n",
      "(23, 56)\n",
      "23 56\n"
     ]
    }
   ],
   "source": [
    "arg = (23,45)\n",
    "print([arg])\n",
    "print([*arg])\n",
    "f(*arg,23,56)"
   ]
  },
  {
   "cell_type": "markdown",
   "metadata": {},
   "source": [
    "# \\*\\*kwargs"
   ]
  },
  {
   "cell_type": "code",
   "execution_count": 61,
   "metadata": {},
   "outputs": [
    {
     "name": "stdout",
     "output_type": "stream",
     "text": [
      "23 45\n",
      "('ds', 23, 56)\n",
      "{'arg1': 1, 'arg2': 0}\n"
     ]
    }
   ],
   "source": [
    "def f(x1,x2,*args,**kwargs):\n",
    "    print(x1,x2)\n",
    "    print(args)\n",
    "    print(kwargs)\n",
    "kwargs = {'arg1':1,'arg2':0}\n",
    "f(23,45,'ds',23,56,**kwargs)"
   ]
  },
  {
   "cell_type": "code",
   "execution_count": 63,
   "metadata": {},
   "outputs": [
    {
     "name": "stdout",
     "output_type": "stream",
     "text": [
      "23 45\n",
      "('ds', 23, 56)\n",
      "{'arg1': 1, 'arg2': 0}\n"
     ]
    }
   ],
   "source": [
    "arg = (23,45)\n",
    "kwargs = {'arg1':1,'arg2':0}\n",
    "f(*arg,'ds',23,56,**kwargs)"
   ]
  },
  {
   "cell_type": "markdown",
   "metadata": {},
   "source": [
    "# 推导式"
   ]
  },
  {
   "cell_type": "code",
   "execution_count": 78,
   "metadata": {},
   "outputs": [
    {
     "data": {
      "text/plain": [
       "[range(1, 4),\n",
       " range(4, 7),\n",
       " range(7, 10),\n",
       " range(10, 13),\n",
       " range(13, 16),\n",
       " range(16, 19),\n",
       " range(19, 22),\n",
       " range(22, 25),\n",
       " range(25, 28),\n",
       " range(28, 31),\n",
       " range(31, 34),\n",
       " range(34, 37),\n",
       " range(37, 40),\n",
       " range(40, 43),\n",
       " range(43, 46),\n",
       " range(46, 49),\n",
       " range(49, 51)]"
      ]
     },
     "execution_count": 78,
     "metadata": {},
     "output_type": "execute_result"
    }
   ],
   "source": [
    "[range(1,51)[i:i+3] for i in range(0,50,3)]"
   ]
  },
  {
   "cell_type": "code",
   "execution_count": 110,
   "metadata": {},
   "outputs": [
    {
     "data": {
      "text/plain": [
       "[(0, 0),\n",
       " (0, 1),\n",
       " (0, 2),\n",
       " (0, 3),\n",
       " (0, 4),\n",
       " (1, 0),\n",
       " (1, 1),\n",
       " (1, 2),\n",
       " (1, 3),\n",
       " (1, 4),\n",
       " (2, 0),\n",
       " (2, 1),\n",
       " (2, 2),\n",
       " (2, 3),\n",
       " (3, 0),\n",
       " (3, 1),\n",
       " (3, 2),\n",
       " (4, 0),\n",
       " (4, 1)]"
      ]
     },
     "execution_count": 110,
     "metadata": {},
     "output_type": "execute_result"
    }
   ],
   "source": [
    "# 列表\n",
    "[(i,j) for i in range(5) for j in range(5) if i + j < 6]"
   ]
  },
  {
   "cell_type": "code",
   "execution_count": 121,
   "metadata": {},
   "outputs": [
    {
     "data": {
      "text/plain": [
       "{(0, 0),\n",
       " (0, 1),\n",
       " (0, 2),\n",
       " (0, 3),\n",
       " (0, 4),\n",
       " (1, 0),\n",
       " (1, 1),\n",
       " (1, 2),\n",
       " (1, 3),\n",
       " (1, 4),\n",
       " (2, 0),\n",
       " (2, 1),\n",
       " (2, 2),\n",
       " (2, 3),\n",
       " (3, 0),\n",
       " (3, 1),\n",
       " (3, 2),\n",
       " (4, 0),\n",
       " (4, 1)}"
      ]
     },
     "execution_count": 121,
     "metadata": {},
     "output_type": "execute_result"
    }
   ],
   "source": [
    "# 集合\n",
    "{(i,j) for i in range(5) for j in range(5) if i + j < 6}"
   ]
  },
  {
   "cell_type": "code",
   "execution_count": 112,
   "metadata": {},
   "outputs": [
    {
     "data": {
      "text/plain": [
       "{0: 4, 1: 4, 2: 3, 3: 2, 4: 1}"
      ]
     },
     "execution_count": 112,
     "metadata": {},
     "output_type": "execute_result"
    }
   ],
   "source": [
    "# 字典\n",
    "{i:j for i in range(5) for j in range(5) if i + j < 6}"
   ]
  },
  {
   "cell_type": "code",
   "execution_count": 117,
   "metadata": {},
   "outputs": [
    {
     "data": {
      "text/plain": [
       "(dict_keys(['sd', 'aq', 'qq']), dict_values([1, 5, 0]))"
      ]
     },
     "execution_count": 117,
     "metadata": {},
     "output_type": "execute_result"
    }
   ],
   "source": [
    "d = {'sd':1,'aq':5,'qq':0}\n",
    "d.keys(), d.values()"
   ]
  },
  {
   "cell_type": "code",
   "execution_count": 125,
   "metadata": {},
   "outputs": [
    {
     "data": {
      "text/plain": [
       "<generator object <genexpr> at 0x000001EB10712BA0>"
      ]
     },
     "execution_count": 125,
     "metadata": {},
     "output_type": "execute_result"
    }
   ],
   "source": [
    "# 生成器\n",
    "((i,j) for i in range(5) for j in range(5) if i + j < 6)"
   ]
  },
  {
   "cell_type": "markdown",
   "metadata": {},
   "source": [
    "# wtfpython\n",
    "\n",
    "https://github.com/satwikkansal/wtfpython\n",
    "\n",
    "https://github.com/leisurelicht/wtfpython-cn"
   ]
  },
  {
   "cell_type": "code",
   "execution_count": null,
   "metadata": {},
   "outputs": [],
   "source": []
  },
  {
   "cell_type": "code",
   "execution_count": null,
   "metadata": {},
   "outputs": [],
   "source": []
  },
  {
   "cell_type": "code",
   "execution_count": null,
   "metadata": {},
   "outputs": [],
   "source": []
  }
 ],
 "metadata": {
  "kernelspec": {
   "display_name": "Python 3",
   "language": "python",
   "name": "python3"
  },
  "language_info": {
   "codemirror_mode": {
    "name": "ipython",
    "version": 3
   },
   "file_extension": ".py",
   "mimetype": "text/x-python",
   "name": "python",
   "nbconvert_exporter": "python",
   "pygments_lexer": "ipython3",
   "version": "3.6.7"
  }
 },
 "nbformat": 4,
 "nbformat_minor": 2
}
