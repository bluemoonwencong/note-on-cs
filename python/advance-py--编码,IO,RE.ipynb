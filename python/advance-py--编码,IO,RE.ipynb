{
 "cells": [
  {
   "cell_type": "markdown",
   "metadata": {},
   "source": [
    "# 1. 字符编码"
   ]
  },
  {
   "cell_type": "code",
   "execution_count": 8,
   "metadata": {},
   "outputs": [],
   "source": [
    "import sys"
   ]
  },
  {
   "cell_type": "code",
   "execution_count": 10,
   "metadata": {},
   "outputs": [
    {
     "data": {
      "text/plain": [
       "'utf-8'"
      ]
     },
     "execution_count": 10,
     "metadata": {},
     "output_type": "execute_result"
    }
   ],
   "source": [
    "sys.getdefaultencoding()"
   ]
  },
  {
   "cell_type": "code",
   "execution_count": 52,
   "metadata": {},
   "outputs": [
    {
     "data": {
      "text/plain": [
       "\u001b[1;31mSignature:\u001b[0m \u001b[0mbytes\u001b[0m\u001b[1;33m.\u001b[0m\u001b[0mdecode\u001b[0m\u001b[1;33m(\u001b[0m\u001b[0mself\u001b[0m\u001b[1;33m,\u001b[0m \u001b[1;33m/\u001b[0m\u001b[1;33m,\u001b[0m \u001b[0mencoding\u001b[0m\u001b[1;33m=\u001b[0m\u001b[1;34m'utf-8'\u001b[0m\u001b[1;33m,\u001b[0m \u001b[0merrors\u001b[0m\u001b[1;33m=\u001b[0m\u001b[1;34m'strict'\u001b[0m\u001b[1;33m)\u001b[0m\u001b[1;33m\u001b[0m\u001b[1;33m\u001b[0m\u001b[0m\n",
       "\u001b[1;31mDocstring:\u001b[0m\n",
       "Decode the bytes using the codec registered for encoding.\n",
       "\n",
       "encoding\n",
       "  The encoding with which to decode the bytes.\n",
       "errors\n",
       "  The error handling scheme to use for the handling of decoding errors.\n",
       "  The default is 'strict' meaning that decoding errors raise a\n",
       "  UnicodeDecodeError. Other possible values are 'ignore' and 'replace'\n",
       "  as well as any other name registered with codecs.register_error that\n",
       "  can handle UnicodeDecodeErrors.\n",
       "\u001b[1;31mType:\u001b[0m      method_descriptor\n"
      ]
     },
     "metadata": {},
     "output_type": "display_data"
    }
   ],
   "source": [
    "bytes.decode?"
   ]
  },
  {
   "cell_type": "code",
   "execution_count": 72,
   "metadata": {},
   "outputs": [
    {
     "name": "stdout",
     "output_type": "stream",
     "text": [
      "b'\\xe4\\xb8\\xad\\xe6\\x96\\x87'\n",
      "b'haha'\n",
      "sdsdf\n",
      "中\n"
     ]
    }
   ],
   "source": [
    "# 文本总是Unicode, 由str类型进行表示，二进制数据使用bytes进行表示\n",
    "# 编码就是将字符串转换成字节码，涉及到字符串的内部表示。 \n",
    "# 解码就是将字节码转换为字符串，将比特位显示成字符。\n",
    "print('中文'.encode('utf-8'))\n",
    "print('haha'.encode('utf-8'))\n",
    "print(b'sdsdf'.decode('utf-8'))\n",
    "print(b'\\xe4\\xb8\\xad'.decode('utf-8'))\n"
   ]
  },
  {
   "cell_type": "markdown",
   "metadata": {},
   "source": [
    "![](\\img\\1.png)"
   ]
  },
  {
   "cell_type": "code",
   "execution_count": null,
   "metadata": {},
   "outputs": [],
   "source": []
  },
  {
   "cell_type": "code",
   "execution_count": null,
   "metadata": {},
   "outputs": [],
   "source": []
  },
  {
   "cell_type": "code",
   "execution_count": null,
   "metadata": {},
   "outputs": [],
   "source": []
  },
  {
   "cell_type": "markdown",
   "metadata": {},
   "source": [
    "# 2. IO"
   ]
  },
  {
   "cell_type": "code",
   "execution_count": 105,
   "metadata": {},
   "outputs": [
    {
     "data": {
      "text/plain": [
       "'nt'"
      ]
     },
     "execution_count": 105,
     "metadata": {},
     "output_type": "execute_result"
    }
   ],
   "source": [
    "import os\n",
    "import time\n",
    "os.name"
   ]
  },
  {
   "cell_type": "code",
   "execution_count": 89,
   "metadata": {},
   "outputs": [
    {
     "name": "stdout",
     "output_type": "stream",
     "text": [
      ".\n",
      "['.ipynb_checkpoints', 'build', 'img', '__pycache__']\n",
      "['.ipynb', '3 days review python for data science.ipynb', 'advance-py--Cython.ipynb', 'advance-py--encode,IO,RE.ipynb', 'advance-py--OOP.ipynb', 'advance-py--元编程.ipynb', 'advance-py--函数式.ipynb', 'advance-py--常用模块.ipynb', 'advance-py--模块,包,py内存管理.ipynb', 'advance-py--矩阵操作极限.ipynb', 'advance-py--进程,线程,协程.ipynb', 'advance-py--迭代器,生成器,协程.ipynb', 'cython1.c', 'cython1.cp36-win_amd64.pyd', 'cython1.pyx', 'cython_setup.py', 'HashLib.dll', 'HashLib.zip', 'img.png', 'libsvm.cp36-win_amd64.pyd', 'matplotlib-最常见的画图需求.ipynb', 'mm.py', 'numpy复习笔记1.ipynb', 'pickling.txt', 'python -复习.ipynb', 'python -语法练习.ipynb', 'python-advanced--常用模块.ipynb', 'test.db']\n",
      "\n",
      ".\\.ipynb_checkpoints\n",
      "[]\n",
      "['.ipynb-checkpoint', '3 days review python for data science-checkpoint.ipynb', 'advance-py--encode,IO,RE-checkpoint.ipynb', 'advance-py--模块,包,py内存管理-checkpoint.ipynb', 'python-advanced--Cython-checkpoint.ipynb', 'python-advanced--IO,RE-checkpoint.ipynb', 'python-advanced--OOP-checkpoint.ipynb', 'python-advanced--元编程-checkpoint.ipynb', 'python-advanced--函数式-checkpoint.ipynb', 'python-advanced--常用模块-checkpoint.ipynb', 'python-advanced--矩阵操作极限-checkpoint.ipynb', 'python-advanced--进程,线程,协程-checkpoint.ipynb', 'python-advanced--迭代器, 生成器, 协程-checkpoint.ipynb']\n",
      "\n",
      ".\\build\n",
      "['temp.win-amd64-3.6']\n",
      "[]\n",
      "\n",
      ".\\build\\temp.win-amd64-3.6\n",
      "['Release']\n",
      "[]\n",
      "\n",
      ".\\build\\temp.win-amd64-3.6\\Release\n",
      "[]\n",
      "['cython1.cp36-win_amd64.exp', 'cython1.cp36-win_amd64.lib', 'cython1.obj']\n",
      "\n",
      ".\\img\n",
      "[]\n",
      "['1.png']\n",
      "\n",
      ".\\__pycache__\n",
      "[]\n",
      "['mm.cpython-36.pyc']\n",
      "\n"
     ]
    }
   ],
   "source": [
    "# 遍历目录常用模块，返回值是 (dirpath, dirnames, filenames)\n",
    "for i,j,k in os.walk('.'):\n",
    "    print(i)\n",
    "    print(j)\n",
    "    print(k)\n",
    "    print()"
   ]
  },
  {
   "cell_type": "markdown",
   "metadata": {},
   "source": [
    "open的返回值是一个文件句柄，从操作系统托付给你的Python程序。一旦你处理完文件，\n",
    "你会想要归还这个文件句柄，只有这样你的程序不会超出一次能打开的文件句柄的数量上限。\n",
    "显式地调用close关闭了这个文件句柄，但前提是只有在read成功的情况下。如果有任意异常正好在\n",
    "f = open(...)之后产生，f.close()将不会被调用，所以用with最好\n",
    "\n",
    "* 如果你想读取文件，传入r\n",
    "* 如果你想读取并写入文件，传入r+\n",
    "* 如果你想覆盖写入文件，传入w\n",
    "* 如果你想在文件末尾附加内容，传入a\n"
   ]
  },
  {
   "cell_type": "code",
   "execution_count": 100,
   "metadata": {},
   "outputs": [
    {
     "name": "stdout",
     "output_type": "stream",
     "text": [
      "# -*- utf-8 -*-\n",
      "\n",
      "foo = 0\n",
      "\n",
      "def show():\n",
      "    print(foo)\n",
      "\n",
      "\n",
      "def fib_yield(n):\n",
      "    a, b = 0, 1\n",
      "    while b < n:\n",
      "        yield b\n",
      "        a, b = b, a+b\n",
      "\n",
      "def fib(n):\n",
      "    for num in fib_yield(n):\n",
      "        print(num)\n",
      "# write\n",
      "# write\n"
     ]
    }
   ],
   "source": [
    "f = open('mm.py','r')\n",
    "print(f.read())\n",
    "f.close()"
   ]
  },
  {
   "cell_type": "code",
   "execution_count": 178,
   "metadata": {},
   "outputs": [
    {
     "name": "stdout",
     "output_type": "stream",
     "text": [
      "['# -*- utf-8 -*-\\n', '\\n', 'foo = 0\\n', '\\n', 'def show():\\n', '    print(foo)\\n', '\\n', '\\n', 'def fib_yield(n):\\n', '    a, b = 0, 1\\n', '    while b < n:\\n', '        yield b\\n', '        a, b = b, a+b\\n', '\\n', 'def fib(n):\\n', '    for num in fib_yield(n):\\n', '        print(num)\\n', '# write\\n', '# write']\n",
      "line 0   # -*- utf-8 -*-\n",
      "line 1   \n",
      "line 2   foo = 0\n",
      "line 3   \n",
      "line 4   def show():\n",
      "line 5       print(foo)\n",
      "line 6   \n",
      "line 7   \n",
      "line 8   def fib_yield(n):\n",
      "line 9       a, b = 0, 1\n",
      "line 10       while b < n:\n",
      "line 11           yield b\n",
      "line 12           a, b = b, a+b\n",
      "line 13   \n",
      "line 14   def fib(n):\n",
      "line 15       for num in fib_yield(n):\n",
      "line 16           print(num)\n",
      "line 17   # write\n",
      "line 18   # write\n",
      "(0, '# -*- utf-8 -*-\\n')\n",
      "(0, '\\n')\n",
      "(0, 'foo = 0\\n')\n",
      "(0, '\\n')\n",
      "(0, 'def show():\\n')\n"
     ]
    }
   ],
   "source": [
    "# f不仅可以用read显示，f还是可迭代的对象\n",
    "with open('mm.py','r') as f:\n",
    "    print(list(f))\n",
    "with open('mm.py','r') as f:\n",
    "    for i,j in enumerate(f):\n",
    "        print('line',i,' ',j,end='')\n",
    "print()\n",
    "with open('mm.py','r') as f:\n",
    "    for i in range(5):\n",
    "        print(next(enumerate(f)),end='\\n')"
   ]
  },
  {
   "cell_type": "code",
   "execution_count": null,
   "metadata": {},
   "outputs": [],
   "source": []
  },
  {
   "cell_type": "code",
   "execution_count": 101,
   "metadata": {},
   "outputs": [
    {
     "name": "stdout",
     "output_type": "stream",
     "text": [
      "# -*- utf-8 -*-\n",
      "\n",
      "foo = 0\n",
      "\n",
      "def show():\n",
      "    print(foo)\n",
      "\n",
      "\n",
      "def fib_yield(n):\n",
      "  \n"
     ]
    }
   ],
   "source": [
    "# 只读75字节\n",
    "f = open('mm.py','r')\n",
    "print(f.read(75))\n",
    "f.close()"
   ]
  },
  {
   "cell_type": "code",
   "execution_count": 108,
   "metadata": {},
   "outputs": [
    {
     "name": "stdout",
     "output_type": "stream",
     "text": [
      "# -*- utf-8 -*-\n",
      "\n",
      "foo = 0\n",
      "\n",
      "def show():\n",
      "    print(foo)\n",
      "\n",
      "\n",
      "def fib_yield(n):\n",
      "    a, b = 0, 1\n"
     ]
    }
   ],
   "source": [
    "# readline\n",
    "with open('mm.py','r') as f:\n",
    "    for i in range(10):\n",
    "        print(f.readline(),end='')\n",
    "        time.sleep(1)"
   ]
  },
  {
   "cell_type": "code",
   "execution_count": 179,
   "metadata": {},
   "outputs": [
    {
     "name": "stdout",
     "output_type": "stream",
     "text": [
      "['# -*- utf-8 -*-\\n', '\\n', 'foo = 0\\n', '\\n', 'def show():\\n', '    print(foo)\\n', '\\n', '\\n', 'def fib_yield(n):\\n', '    a, b = 0, 1\\n', '    while b < n:\\n', '        yield b\\n', '        a, b = b, a+b\\n', '\\n', 'def fib(n):\\n', '    for num in fib_yield(n):\\n', '        print(num)\\n', '# write\\n', '# write']\n"
     ]
    }
   ],
   "source": [
    "# readlines\n",
    "with open('mm.py','r') as f:\n",
    "    print(f.readlines())"
   ]
  },
  {
   "cell_type": "markdown",
   "metadata": {},
   "source": [
    "* 如果文件很小，read()一次性读取最方便；如果不能确定文件大小，反复调用 read(size) 比较保险；如果是配置文件，调用 readlines()最方便\n",
    "* 像 open()函数返回的这种有个 read()方法的对象，在 Python 中统称为 file­like Object。除了 file 外，还可以是内存的字节流，网络流，自定义流等等。file­like Object 不要求从特定类继承，只要写个 read()方法就行。\n",
    "* 读取非ASCII编码的文本文件, 要用二进制打开, 如果是文本文件的话再解码比如GBK编码的文本。"
   ]
  },
  {
   "cell_type": "code",
   "execution_count": 19,
   "metadata": {},
   "outputs": [
    {
     "name": "stdout",
     "output_type": "stream",
     "text": [
      "b'\\x89PNG\\r\\n\\x1a\\n\\x00\\x00\\x00\\rIHDR\\x00\\x00\\x07~\\x00\\x00\\x048\\x08\\x06\\x00\\x00\\x00\\xe6V}i\\x00\\x00\\x00\\tpHYs\\x00\\x00\\x12t\\x00\\x00\\x12t\\x01\\xdef\\x1fx\\x00\\x00\\x00\\x11tEXtSoftware\\x00Snipaste]\\x17\\xce\\xdd\\x00\\x00 \\x00IDATx\\x9c\\xec\\xbdI\\xb3%\\xc9u\\xe7\\xf7\\xf3!\\xa6;\\xbd)_fVe%\\xabP\\x05\\xa00\\x15\\x00\\xa2\\x1b\\x04\\x08c\\xb7\\x1a\\xcdnY\\x93jIf\\x92L\\x0b}\\nm\\xf5%\\xb4\\xd3J\\x1b\\xc9\\xb8\\x90If\\xbd\\x90\\xc9d\\xd6\\xd2\\xa2Mm\\xad\\x16\\xd9@\\x13\\x00I\\x90\\x04\\x81*\\xd4\\x90\\x99\\x95\\xf9\\xf2\\xcd\\xef\\x0e1\\xf9\\xa0E\\\\\\xbf\\xe9\\xcf\\xf3\\xde\\xac\\x02M\\x0b-\\xe8i\\x91\\xf7\\xbe\\x1b\\x11\\x1e\\xc7\\x8f\\x1fw?\\xe7\\xfc\\x8f\\x9f\\x100\\xf2P\\x01\\x1e\\xe8\\x80\\x16\\xe8\\x01@\\x0c\\x1f:\\x13\\x14\\xb9\\xc6\\x18G\\xd7:\\xbc\\x17 \\x04(\\x87\\xae\\xe0[\\xdf\\xbd\\xcf\\x0f\\xff\\xc3w\\xb9\\x9e?\\xe7/~\\xfe\\x01O>\\xe9\\xe8\\x1a\\xcf\\xc1\\xde\\x1e\\x7f\\xf0\\x87?\\xe4\\xb7\\xde|\\x8d\\xff\\xe3\\xff\\xfc\\xdf\\xf9\\xf7?{\\x8c(\\x15N\\t\\xae\\x9e\\xf6\\xd8k\\x0f\\x0e\\xa63\\xcd\\xf1A\\xc9\\x9d\\xc3=\\x8cu|\\xf0\\xe1\\t.\\x13\\xfc\\xd7\\xff\\xcd?\\xe7w~\\xef\\x9b\\xa8R\\xf0/\\xff\\xd5\\xbf\\xe2G\\x7f\\xfas\\x9a\\xba\\xe7`o\\xc6t4\\xe6{\\x7f\\xefw\\xf8\\xc1w\\xbf\\xcf8+\\xb8:\\xbd@X\\xc7\\xd1\\xde\\x01\\xf7\\x8e\\xef\\xf1\\xfc\\xd3g\\xfc\\xe8O~\\xc4\\xff\\xf5\\xe3\\x9f\\xf0\\x97\\x8f\\x9erv9\\xe7\\xf4\\xd3\\x96\\xfe\\nT\\x06\\x07\\xf7\\xe0\\xddw\\xef\\xf1\\x1f\\xff\\xe1?\\xe3\\xdb\\xdf|\\x8f\\xd9x\\xcc\\x9d\\xa3C2-\\xe8\\x9a\\x8e\\xc2\\x16\\xa8\\x95F9\\x85\\x94\\x12!\\xc4\\xd6\\xe3V\\xf1\\xe0\\x9d\\xa2\\x109\\x85\\xf2\\xb8\\xc5\\xa7\\x9c\\xfe\\xfaO9\\xfd\\xe8\\xa7\\xb4\\xa7\\x1f\\x90\\xf7Wd\\xfd\\x92n\\xde\\xd1\\xcc\\x076W%\\x8c\\xc7\\x19z, \\xef@\\x0e\\xac5=4\\r\\xb4\\xedpX\\x03E\\x01\\xa3\\x91 \\xcfJ'\n"
     ]
    }
   ],
   "source": [
    "f = open('img.png','rb')\n",
    "print(f.read(500))\n",
    "f.close()"
   ]
  },
  {
   "cell_type": "code",
   "execution_count": 38,
   "metadata": {},
   "outputs": [
    {
     "name": "stdout",
     "output_type": "stream",
     "text": [
      "# -*- utf-8 -*-\n",
      "\n",
      "foo = 0\n",
      "\n",
      "def show():\n",
      "    print(foo)\n",
      "\n",
      "\n",
      "def fib_yield(n):\n"
     ]
    }
   ],
   "source": [
    "import codecs\n",
    "with codecs.open('mm.py','rb','gbk') as f:\n",
    "    print(f.read(80))"
   ]
  },
  {
   "cell_type": "code",
   "execution_count": 52,
   "metadata": {},
   "outputs": [],
   "source": [
    "# 如果是 w, 会重新写入. 如果文件不存在会创建,如果路径不存在会抛出错误.\n",
    "# a 模式\n",
    "with open('mm.py','a') as f:\n",
    "    f.writelines('\\n# write')"
   ]
  },
  {
   "cell_type": "code",
   "execution_count": 71,
   "metadata": {},
   "outputs": [
    {
     "data": {
      "text/plain": [
       "['nt',\n",
       " <module 'ntpath' from 'd:\\\\software\\\\Anaconda3\\\\envs\\\\ai\\\\lib\\\\ntpath.py'>,\n",
       " '.',\n",
       " '..',\n",
       " '\\\\']"
      ]
     },
     "execution_count": 71,
     "metadata": {},
     "output_type": "execute_result"
    }
   ],
   "source": [
    "[os.name, os.path, os.curdir, os.pardir, os.sep]"
   ]
  },
  {
   "cell_type": "code",
   "execution_count": 72,
   "metadata": {},
   "outputs": [
    {
     "data": {
      "text/plain": [
       "environ{'ADSK_3DSMAX_X64_2018': 'D:\\\\software\\\\3dmax\\\\3ds Max 2018\\\\',\n",
       "        'ADSK_CLM_WPAD_PROXY_CHECK': 'FALSE',\n",
       "        'ALLUSERSPROFILE': 'C:\\\\ProgramData',\n",
       "        'APPDATA': 'C:\\\\Users\\\\bluove\\\\AppData\\\\Roaming',\n",
       "        'CHOCOLATEYINSTALL': 'C:\\\\ProgramData\\\\chocolatey',\n",
       "        'CHOCOLATEYLASTPATHUPDATE': '周三 5月 23 10:24:46 2018',\n",
       "        'CHOCOLATEYTOOLSLOCATION': 'C:\\\\tools',\n",
       "        'COMMONPROGRAMFILES': 'C:\\\\Program Files\\\\Common Files',\n",
       "        'COMMONPROGRAMFILES(X86)': 'C:\\\\Program Files (x86)\\\\Common Files',\n",
       "        'COMMONPROGRAMW6432': 'C:\\\\Program Files\\\\Common Files',\n",
       "        'COMPUTERNAME': 'HASEE',\n",
       "        'COMSPEC': 'C:\\\\WINDOWS\\\\system32\\\\cmd.exe',\n",
       "        'CONDA_DEFAULT_ENV': 'ai',\n",
       "        'CONDA_EXE': 'd:\\\\software\\\\Anaconda3\\\\Scripts\\\\conda.exe',\n",
       "        'CONDA_PREFIX': 'd:\\\\software\\\\Anaconda3\\\\envs\\\\ai',\n",
       "        'CONDA_PROMPT_MODIFIER': '(ai) ',\n",
       "        'CONDA_PYTHON_EXE': 'd:\\\\software\\\\Anaconda3\\\\python.exe',\n",
       "        'CONDA_SHLVL': '1',\n",
       "        'CUDA_PATH': 'C:\\\\Program Files\\\\NVIDIA GPU Computing Toolkit\\\\CUDA\\\\v9.0',\n",
       "        'CUDA_PATH_V8_0': 'C:\\\\Program Files\\\\NVIDIA GPU Computing Toolkit\\\\CUDA\\\\v8.0',\n",
       "        'CUDA_PATH_V9_0': 'C:\\\\Program Files\\\\NVIDIA GPU Computing Toolkit\\\\CUDA\\\\v9.0',\n",
       "        'CUDA_PATH_V9_1': 'C:\\\\Program Files\\\\NVIDIA GPU Computing Toolkit\\\\CUDA\\\\v9.1',\n",
       "        'DXSDK_DIR': 'C:\\\\Program Files (x86)\\\\Microsoft DirectX SDK (June 2010)\\\\',\n",
       "        'FPS_BROWSER_APP_PROFILE_STRING': 'Internet Explorer',\n",
       "        'FPS_BROWSER_USER_PROFILE_STRING': 'Default',\n",
       "        'FSHARPINSTALLDIR': 'C:\\\\Program Files (x86)\\\\Microsoft SDKs\\\\F#\\\\10.1\\\\Framework\\\\v4.0\\\\',\n",
       "        'GOPATH': 'd:\\\\sync-cs\\\\GO\\\\',\n",
       "        'HOMEDRIVE': 'C:',\n",
       "        'HOMEPATH': '\\\\Users\\\\bluove',\n",
       "        'LOCALAPPDATA': 'C:\\\\Users\\\\bluove\\\\AppData\\\\Local',\n",
       "        'LOGONSERVER': '\\\\\\\\HASEE',\n",
       "        'MOZ_PLUGIN_PATH': 'D:\\\\software\\\\FoxitReader\\\\Foxit Editer\\\\Foxit Phantom\\\\plugins\\\\',\n",
       "        'MSMPI_BIN': 'C:\\\\Program Files\\\\Microsoft MPI\\\\Bin\\\\',\n",
       "        'NUMBER_OF_PROCESSORS': '8',\n",
       "        'NVCUDASAMPLES8_0_ROOT': 'C:\\\\ProgramData\\\\NVIDIA Corporation\\\\CUDA Samples\\\\v8.0',\n",
       "        'NVCUDASAMPLES9_0_ROOT': 'C:\\\\ProgramData\\\\NVIDIA Corporation\\\\CUDA Samples\\\\v9.0',\n",
       "        'NVCUDASAMPLES9_1_ROOT': 'C:\\\\ProgramData\\\\NVIDIA Corporation\\\\CUDA Samples\\\\v9.1',\n",
       "        'NVCUDASAMPLES_ROOT': 'C:\\\\ProgramData\\\\NVIDIA Corporation\\\\CUDA Samples\\\\v9.0',\n",
       "        'NVTOOLSEXT_PATH': 'C:\\\\Program Files\\\\NVIDIA Corporation\\\\NvToolsExt\\\\',\n",
       "        'ONEDRIVE': 'C:\\\\Users\\\\bluove\\\\OneDrive',\n",
       "        'OOMMF_THREADS': '7',\n",
       "        'OS': 'Windows_NT',\n",
       "        'PATH': 'd:\\\\software\\\\Anaconda3\\\\envs\\\\ai;d:\\\\software\\\\Anaconda3\\\\envs\\\\ai\\\\Library\\\\mingw-w64\\\\bin;d:\\\\software\\\\Anaconda3\\\\envs\\\\ai\\\\Library\\\\usr\\\\bin;d:\\\\software\\\\Anaconda3\\\\envs\\\\ai\\\\Library\\\\bin;d:\\\\software\\\\Anaconda3\\\\envs\\\\ai\\\\Scripts;d:\\\\software\\\\Anaconda3\\\\envs\\\\ai\\\\bin;C:\\\\Program Files (x86)\\\\Common Files\\\\Oracle\\\\Java\\\\javapath;C:\\\\Program Files\\\\Microsoft MPI\\\\Bin\\\\;C:\\\\Program Files\\\\NVIDIA GPU Computing Toolkit\\\\CUDA\\\\v9.0\\\\bin;C:\\\\Program Files\\\\NVIDIA GPU Computing Toolkit\\\\CUDA\\\\v9.0\\\\libnvvp;C:\\\\Program Files\\\\NVIDIA GPU Computing Toolkit\\\\CUDA\\\\v9.1\\\\bin;C:\\\\Program Files\\\\NVIDIA GPU Computing Toolkit\\\\CUDA\\\\v9.1\\\\libnvvp;c:\\\\Program Files\\\\NVIDIA GPU Computing Toolkit\\\\CUDA\\\\v9.0\\\\lib\\\\x64\\\\;c:\\\\cuda\\\\lib\\\\x64\\\\;c:\\\\Program Files\\\\NVIDIA GPU Computing Toolkit\\\\CUDA\\\\v8.0\\\\bin\\\\;c:\\\\Program Files\\\\NVIDIA GPU Computing Toolkit\\\\CUDA\\\\v8.0\\\\lib\\\\x64\\\\;C:\\\\Program Files\\\\NVIDIA GPU Computing Toolkit\\\\CUDA\\\\v8.0\\\\libnvvp;c:\\\\Program Files\\\\NVIDIA GPU Computing Toolkit\\\\CUDA\\\\v9.1\\\\lib\\\\x64\\\\;C:\\\\Program Files\\\\Docker\\\\Docker\\\\Resources\\\\bin;C:\\\\ActiveTcl\\\\bin;C:\\\\Program Files (x86)\\\\Intel\\\\iCLS Client\\\\;C:\\\\Program Files\\\\Intel\\\\iCLS Client\\\\;C:\\\\Windows\\\\system32;C:\\\\Windows;C:\\\\Windows\\\\System32\\\\Wbem;C:\\\\Windows\\\\System32\\\\WindowsPowerShell\\\\v1.0\\\\;C:\\\\Program Files (x86)\\\\NVIDIA Corporation\\\\PhysX\\\\Common;C:\\\\Program Files (x86)\\\\Intel\\\\Intel(R) Management Engine Components\\\\DAL;C:\\\\Program Files\\\\Intel\\\\Intel(R) Management Engine Components\\\\DAL;C:\\\\Program Files (x86)\\\\Intel\\\\Intel(R) Management Engine Components\\\\IPT;C:\\\\Program Files\\\\Intel\\\\Intel(R) Management Engine Components\\\\IPT;C:\\\\Program Files\\\\Intel\\\\WiFi\\\\bin\\\\;C:\\\\Program Files\\\\Common Files\\\\Intel\\\\WirelessCommon\\\\;C:\\\\Program Files\\\\Common Files\\\\Autodesk Shared\\\\;C:\\\\Program Files (x86)\\\\Autodesk\\\\Backburner\\\\;d:\\\\software\\\\shoutcuts;C:\\\\WINDOWS\\\\system32;C:\\\\WINDOWS;C:\\\\WINDOWS\\\\System32\\\\Wbem;C:\\\\WINDOWS\\\\System32\\\\WindowsPowerShell\\\\v1.0\\\\;D:\\\\software\\\\PuTTY\\\\;D:\\\\software\\\\Calibre\\\\;D:\\\\software\\\\install\\\\curl-7.60.0-win64-mingw\\\\bin;d:\\\\software\\\\Anaconda3\\\\Scripts\\\\;d:\\\\software\\\\Git\\\\cmd;d:\\\\software\\\\Chocolatey\\\\chocInstall\\\\tools\\\\chocolateyInstall\\\\;d:\\\\software\\\\mumax3\\\\;C:\\\\software\\\\Anaconda3\\\\Scripts;d:\\\\software\\\\gnuplot\\\\bin\\\\;c:\\\\Users\\\\bluove\\\\AppData\\\\Roaming\\\\Python\\\\Python36\\\\Scripts\\\\;d:\\\\software\\\\mumax3\\\\V3.9.1\\\\;d:\\\\software\\\\mumax3\\\\V3.9.1-copy1\\\\;d:\\\\software\\\\mumax3\\\\V3.9.1-copy2\\\\;D:\\\\software\\\\ActiveTcl\\\\bin;d:\\\\software\\\\shoutcuts;E:\\\\software\\\\Tcl\\\\bin;C:\\\\Users\\\\bluove\\\\AppData\\\\Local\\\\Microsoft\\\\WindowsApps;C:\\\\ActiveTcl\\\\bin;C:\\\\Program Files\\\\NVIDIA GPU Computing Toolkit\\\\CUDA\\\\v8.0\\\\bin;C:\\\\Program Files\\\\NVIDIA GPU Computing Toolkit\\\\CUDA\\\\v8.0\\\\libnvvp;C:\\\\Program Files (x86)\\\\Intel\\\\iCLS Client\\\\;C:\\\\Program Files\\\\Intel\\\\iCLS Client\\\\;C:\\\\Windows\\\\system32;C:\\\\Windows;C:\\\\Windows\\\\System32\\\\Wbem;C:\\\\Windows\\\\System32\\\\WindowsPowerShell\\\\v1.0\\\\;C:\\\\Program Files (x86)\\\\NVIDIA Corporation\\\\PhysX\\\\Common;C:\\\\Program Files (x86)\\\\Intel\\\\Intel(R) Management Engine Components\\\\DAL;C:\\\\Program Files\\\\Intel\\\\Intel(R) Management Engine Components\\\\DAL;C:\\\\Program Files (x86)\\\\Intel\\\\Intel(R) Management Engine Components\\\\IPT;C:\\\\Program Files\\\\Intel\\\\Intel(R) Management Engine Components\\\\IPT;C:\\\\Program Files\\\\Intel\\\\WiFi\\\\bin\\\\;C:\\\\Program Files\\\\Common Files\\\\Intel\\\\WirelessCommon\\\\;C:\\\\Program Files\\\\Common Files\\\\Autodesk Shared\\\\;C:\\\\Program Files (x86)\\\\Autodesk\\\\Backburner\\\\;C:\\\\WINDOWS\\\\system32;C:\\\\WINDOWS;C:\\\\WINDOWS\\\\System32\\\\Wbem;C:\\\\WINDOWS\\\\System32\\\\Window;C:\\\\Program Files\\\\Microsoft VS Code\\\\bin;C:\\\\software\\\\Microsoft VS Code\\\\bin;d:\\\\software\\\\mumax3\\\\V3.9.1-copy3\\\\;d:\\\\software\\\\mumax3\\\\V3.9.1-copy4\\\\;d:\\\\software\\\\VScode\\\\bin;d:\\\\software\\\\MiKTeX2.9\\\\miktex\\\\bin\\\\x64\\\\',\n",
       "        'PATHEXT': '.COM;.EXE;.BAT;.CMD;.VBS;.VBE;.JS;.JSE;.WSF;.WSH;.MSC',\n",
       "        'PROCESSOR_ARCHITECTURE': 'AMD64',\n",
       "        'PROCESSOR_IDENTIFIER': 'Intel64 Family 6 Model 158 Stepping 9, GenuineIntel',\n",
       "        'PROCESSOR_LEVEL': '6',\n",
       "        'PROCESSOR_REVISION': '9e09',\n",
       "        'PROGRAMDATA': 'C:\\\\ProgramData',\n",
       "        'PROGRAMFILES': 'C:\\\\Program Files',\n",
       "        'PROGRAMFILES(X86)': 'C:\\\\Program Files (x86)',\n",
       "        'PROGRAMW6432': 'C:\\\\Program Files',\n",
       "        'PROMPT': '(ai) $P$G',\n",
       "        'PSMODULEPATH': 'C:\\\\Program Files\\\\WindowsPowerShell\\\\Modules;C:\\\\WINDOWS\\\\system32\\\\WindowsPowerShell\\\\v1.0\\\\Modules',\n",
       "        'PUBLIC': 'C:\\\\Users\\\\Public',\n",
       "        'PYTHONIOENCODING': '936',\n",
       "        'SESSIONNAME': 'Console',\n",
       "        'SYSTEMDRIVE': 'C:',\n",
       "        'SYSTEMROOT': 'C:\\\\WINDOWS',\n",
       "        'TEMP': 'C:\\\\Users\\\\bluove\\\\AppData\\\\Local\\\\Temp',\n",
       "        'TMP': 'C:\\\\Users\\\\bluove\\\\AppData\\\\Local\\\\Temp',\n",
       "        'USERDOMAIN': 'HASEE',\n",
       "        'USERDOMAIN_ROAMINGPROFILE': 'HASEE',\n",
       "        'USERNAME': 'bluove',\n",
       "        'USERPROFILE': 'C:\\\\Users\\\\bluove',\n",
       "        'VBOX_MSI_INSTALL_PATH': 'C:\\\\Program Files\\\\Oracle\\\\VirtualBox\\\\',\n",
       "        'VS140COMNTOOLS': 'C:\\\\Program Files (x86)\\\\Microsoft Visual Studio 14.0\\\\Common7\\\\Tools\\\\',\n",
       "        'WINDIR': 'C:\\\\WINDOWS',\n",
       "        'JPY_INTERRUPT_EVENT': '3256',\n",
       "        'IPY_INTERRUPT_EVENT': '3256',\n",
       "        'JPY_PARENT_PID': '4080',\n",
       "        'TERM': 'xterm-color',\n",
       "        'CLICOLOR': '1',\n",
       "        'PAGER': 'cat',\n",
       "        'GIT_PAGER': 'cat',\n",
       "        'MPLBACKEND': 'module://ipykernel.pylab.backend_inline'}"
      ]
     },
     "execution_count": 72,
     "metadata": {},
     "output_type": "execute_result"
    }
   ],
   "source": [
    "os.environ"
   ]
  },
  {
   "cell_type": "code",
   "execution_count": 74,
   "metadata": {},
   "outputs": [
    {
     "data": {
      "text/plain": [
       "'d:\\\\software\\\\Anaconda3\\\\envs\\\\ai;d:\\\\software\\\\Anaconda3\\\\envs\\\\ai\\\\Library\\\\mingw-w64\\\\bin;d:\\\\software\\\\Anaconda3\\\\envs\\\\ai\\\\Library\\\\usr\\\\bin;d:\\\\software\\\\Anaconda3\\\\envs\\\\ai\\\\Library\\\\bin;d:\\\\software\\\\Anaconda3\\\\envs\\\\ai\\\\Scripts;d:\\\\software\\\\Anaconda3\\\\envs\\\\ai\\\\bin;C:\\\\Program Files (x86)\\\\Common Files\\\\Oracle\\\\Java\\\\javapath;C:\\\\Program Files\\\\Microsoft MPI\\\\Bin\\\\;C:\\\\Program Files\\\\NVIDIA GPU Computing Toolkit\\\\CUDA\\\\v9.0\\\\bin;C:\\\\Program Files\\\\NVIDIA GPU Computing Toolkit\\\\CUDA\\\\v9.0\\\\libnvvp;C:\\\\Program Files\\\\NVIDIA GPU Computing Toolkit\\\\CUDA\\\\v9.1\\\\bin;C:\\\\Program Files\\\\NVIDIA GPU Computing Toolkit\\\\CUDA\\\\v9.1\\\\libnvvp;c:\\\\Program Files\\\\NVIDIA GPU Computing Toolkit\\\\CUDA\\\\v9.0\\\\lib\\\\x64\\\\;c:\\\\cuda\\\\lib\\\\x64\\\\;c:\\\\Program Files\\\\NVIDIA GPU Computing Toolkit\\\\CUDA\\\\v8.0\\\\bin\\\\;c:\\\\Program Files\\\\NVIDIA GPU Computing Toolkit\\\\CUDA\\\\v8.0\\\\lib\\\\x64\\\\;C:\\\\Program Files\\\\NVIDIA GPU Computing Toolkit\\\\CUDA\\\\v8.0\\\\libnvvp;c:\\\\Program Files\\\\NVIDIA GPU Computing Toolkit\\\\CUDA\\\\v9.1\\\\lib\\\\x64\\\\;C:\\\\Program Files\\\\Docker\\\\Docker\\\\Resources\\\\bin;C:\\\\ActiveTcl\\\\bin;C:\\\\Program Files (x86)\\\\Intel\\\\iCLS Client\\\\;C:\\\\Program Files\\\\Intel\\\\iCLS Client\\\\;C:\\\\Windows\\\\system32;C:\\\\Windows;C:\\\\Windows\\\\System32\\\\Wbem;C:\\\\Windows\\\\System32\\\\WindowsPowerShell\\\\v1.0\\\\;C:\\\\Program Files (x86)\\\\NVIDIA Corporation\\\\PhysX\\\\Common;C:\\\\Program Files (x86)\\\\Intel\\\\Intel(R) Management Engine Components\\\\DAL;C:\\\\Program Files\\\\Intel\\\\Intel(R) Management Engine Components\\\\DAL;C:\\\\Program Files (x86)\\\\Intel\\\\Intel(R) Management Engine Components\\\\IPT;C:\\\\Program Files\\\\Intel\\\\Intel(R) Management Engine Components\\\\IPT;C:\\\\Program Files\\\\Intel\\\\WiFi\\\\bin\\\\;C:\\\\Program Files\\\\Common Files\\\\Intel\\\\WirelessCommon\\\\;C:\\\\Program Files\\\\Common Files\\\\Autodesk Shared\\\\;C:\\\\Program Files (x86)\\\\Autodesk\\\\Backburner\\\\;d:\\\\software\\\\shoutcuts;C:\\\\WINDOWS\\\\system32;C:\\\\WINDOWS;C:\\\\WINDOWS\\\\System32\\\\Wbem;C:\\\\WINDOWS\\\\System32\\\\WindowsPowerShell\\\\v1.0\\\\;D:\\\\software\\\\PuTTY\\\\;D:\\\\software\\\\Calibre\\\\;D:\\\\software\\\\install\\\\curl-7.60.0-win64-mingw\\\\bin;d:\\\\software\\\\Anaconda3\\\\Scripts\\\\;d:\\\\software\\\\Git\\\\cmd;d:\\\\software\\\\Chocolatey\\\\chocInstall\\\\tools\\\\chocolateyInstall\\\\;d:\\\\software\\\\mumax3\\\\;C:\\\\software\\\\Anaconda3\\\\Scripts;d:\\\\software\\\\gnuplot\\\\bin\\\\;c:\\\\Users\\\\bluove\\\\AppData\\\\Roaming\\\\Python\\\\Python36\\\\Scripts\\\\;d:\\\\software\\\\mumax3\\\\V3.9.1\\\\;d:\\\\software\\\\mumax3\\\\V3.9.1-copy1\\\\;d:\\\\software\\\\mumax3\\\\V3.9.1-copy2\\\\;D:\\\\software\\\\ActiveTcl\\\\bin;d:\\\\software\\\\shoutcuts;E:\\\\software\\\\Tcl\\\\bin;C:\\\\Users\\\\bluove\\\\AppData\\\\Local\\\\Microsoft\\\\WindowsApps;C:\\\\ActiveTcl\\\\bin;C:\\\\Program Files\\\\NVIDIA GPU Computing Toolkit\\\\CUDA\\\\v8.0\\\\bin;C:\\\\Program Files\\\\NVIDIA GPU Computing Toolkit\\\\CUDA\\\\v8.0\\\\libnvvp;C:\\\\Program Files (x86)\\\\Intel\\\\iCLS Client\\\\;C:\\\\Program Files\\\\Intel\\\\iCLS Client\\\\;C:\\\\Windows\\\\system32;C:\\\\Windows;C:\\\\Windows\\\\System32\\\\Wbem;C:\\\\Windows\\\\System32\\\\WindowsPowerShell\\\\v1.0\\\\;C:\\\\Program Files (x86)\\\\NVIDIA Corporation\\\\PhysX\\\\Common;C:\\\\Program Files (x86)\\\\Intel\\\\Intel(R) Management Engine Components\\\\DAL;C:\\\\Program Files\\\\Intel\\\\Intel(R) Management Engine Components\\\\DAL;C:\\\\Program Files (x86)\\\\Intel\\\\Intel(R) Management Engine Components\\\\IPT;C:\\\\Program Files\\\\Intel\\\\Intel(R) Management Engine Components\\\\IPT;C:\\\\Program Files\\\\Intel\\\\WiFi\\\\bin\\\\;C:\\\\Program Files\\\\Common Files\\\\Intel\\\\WirelessCommon\\\\;C:\\\\Program Files\\\\Common Files\\\\Autodesk Shared\\\\;C:\\\\Program Files (x86)\\\\Autodesk\\\\Backburner\\\\;C:\\\\WINDOWS\\\\system32;C:\\\\WINDOWS;C:\\\\WINDOWS\\\\System32\\\\Wbem;C:\\\\WINDOWS\\\\System32\\\\Window;C:\\\\Program Files\\\\Microsoft VS Code\\\\bin;C:\\\\software\\\\Microsoft VS Code\\\\bin;d:\\\\software\\\\mumax3\\\\V3.9.1-copy3\\\\;d:\\\\software\\\\mumax3\\\\V3.9.1-copy4\\\\;d:\\\\software\\\\VScode\\\\bin;d:\\\\software\\\\MiKTeX2.9\\\\miktex\\\\bin\\\\x64\\\\'"
      ]
     },
     "execution_count": 74,
     "metadata": {},
     "output_type": "execute_result"
    }
   ],
   "source": [
    "os.getenv('PATH')"
   ]
  },
  {
   "cell_type": "code",
   "execution_count": 188,
   "metadata": {},
   "outputs": [],
   "source": [
    "os.path.abspath(os.curdir)\n",
    "os.mkdir( os.path.join('d:\\\\sync-cs\\\\bluoveGitHub\\\\note-on-cs\\\\python', 'testdir') )"
   ]
  },
  {
   "cell_type": "code",
   "execution_count": 187,
   "metadata": {},
   "outputs": [],
   "source": [
    "os.rmdir( os.path.join('d:\\\\sync-cs\\\\bluoveGitHub\\\\note-on-cs\\\\python', 'testdir') )"
   ]
  },
  {
   "cell_type": "code",
   "execution_count": 189,
   "metadata": {},
   "outputs": [
    {
     "name": "stdout",
     "output_type": "stream",
     "text": [
      "('d:\\\\a\\\\b\\\\c', 'd.py')\n",
      "('d:\\\\a\\\\b\\\\c\\\\d', '.py')\n"
     ]
    }
   ],
   "source": [
    "print(os.path.split('d:\\\\a\\\\b\\\\c\\\\d.py'))\n",
    "print(os.path.splitext('d:\\\\a\\\\b\\\\c\\\\d.py'))"
   ]
  },
  {
   "cell_type": "code",
   "execution_count": 190,
   "metadata": {},
   "outputs": [
    {
     "data": {
      "text/plain": [
       "['.ipynb_checkpoints', 'build', 'img', 'testdir', '__pycache__']"
      ]
     },
     "execution_count": 190,
     "metadata": {},
     "output_type": "execute_result"
    }
   ],
   "source": [
    "[x for x in os.listdir('.') if os.path.isdir(x)]"
   ]
  },
  {
   "cell_type": "code",
   "execution_count": 104,
   "metadata": {},
   "outputs": [
    {
     "data": {
      "text/plain": [
       "['mm.py']"
      ]
     },
     "execution_count": 104,
     "metadata": {},
     "output_type": "execute_result"
    }
   ],
   "source": [
    "[x for x in os.listdir('.') if os.path.isfile(x) and os.path.splitext(x)[1]=='.py']"
   ]
  },
  {
   "cell_type": "code",
   "execution_count": 191,
   "metadata": {},
   "outputs": [
    {
     "data": {
      "text/plain": [
       "['.ipynb',\n",
       " '.ipynb_checkpoints',\n",
       " '3 days review python for data science.ipynb',\n",
       " 'advance-py--Cython.ipynb',\n",
       " 'advance-py--encode,IO,RE.ipynb',\n",
       " 'advance-py--OOP.ipynb',\n",
       " 'advance-py--元编程.ipynb',\n",
       " 'advance-py--函数式.ipynb',\n",
       " 'advance-py--常用模块.ipynb',\n",
       " 'advance-py--模块,包,py内存管理.ipynb',\n",
       " 'advance-py--矩阵操作极限.ipynb',\n",
       " 'advance-py--进程,线程,协程.ipynb',\n",
       " 'advance-py--迭代器,生成器,协程.ipynb',\n",
       " 'build',\n",
       " 'cython1.c',\n",
       " 'cython1.cp36-win_amd64.pyd',\n",
       " 'cython1.pyx',\n",
       " 'cython_setup.py',\n",
       " 'HashLib.dll',\n",
       " 'HashLib.zip',\n",
       " 'img',\n",
       " 'img.png',\n",
       " 'libsvm.cp36-win_amd64.pyd',\n",
       " 'matplotlib-最常见的画图需求.ipynb',\n",
       " 'mm.py',\n",
       " 'numpy复习笔记1.ipynb',\n",
       " 'pickling.txt',\n",
       " 'python -复习.ipynb',\n",
       " 'python -语法练习.ipynb',\n",
       " 'python-advanced--常用模块.ipynb',\n",
       " 'test.db',\n",
       " 'testdir',\n",
       " '__pycache__']"
      ]
     },
     "execution_count": 191,
     "metadata": {},
     "output_type": "execute_result"
    }
   ],
   "source": [
    "os.listdir('.')"
   ]
  },
  {
   "cell_type": "markdown",
   "metadata": {},
   "source": [
    "## 2.1 序列化\n",
    "\n",
    "我们把变量从内存中变成可存储或传输的过程称之为序列化，在 Python 中叫 pickling，在\n",
    "其他语言中也被称之为 serialization，marshalling，flattening 等等，都是一个意思。"
   ]
  },
  {
   "cell_type": "code",
   "execution_count": 192,
   "metadata": {},
   "outputs": [],
   "source": [
    "try:\n",
    "    import cPickle as pickle\n",
    "except ImportError:\n",
    "    import pickle"
   ]
  },
  {
   "cell_type": "code",
   "execution_count": 195,
   "metadata": {},
   "outputs": [],
   "source": [
    "d = dict(name='haha', age=99)"
   ]
  },
  {
   "cell_type": "code",
   "execution_count": 201,
   "metadata": {},
   "outputs": [
    {
     "name": "stdout",
     "output_type": "stream",
     "text": [
      "{'name': 'haha', 'age': 99}\n"
     ]
    }
   ],
   "source": [
    "with open('.\\\\pickling','wb') as f:\n",
    "    pickle.dump(d,f)\n",
    "with open('.\\\\pickling','rb') as f:\n",
    "    print(pickle.load(f))"
   ]
  },
  {
   "cell_type": "code",
   "execution_count": 220,
   "metadata": {},
   "outputs": [
    {
     "name": "stdout",
     "output_type": "stream",
     "text": [
      "b'\\x80\\x03}q\\x00(X\\x04\\x00\\x00\\x00nameq\\x01X\\x04\\x00\\x00\\x00hahaq\\x02X\\x03\\x00\\x00\\x00ageq\\x03Kcu.'\n",
      "{'name': 'haha', 'age': 99}\n"
     ]
    }
   ],
   "source": [
    "cache = pickle.dumps(d)\n",
    "print(cache)\n",
    "print(pickle.loads(cache))"
   ]
  },
  {
   "cell_type": "markdown",
   "metadata": {},
   "source": [
    "## 2.2 json序列化"
   ]
  },
  {
   "cell_type": "code",
   "execution_count": 223,
   "metadata": {},
   "outputs": [
    {
     "name": "stdout",
     "output_type": "stream",
     "text": [
      "{\"name\": \"haha\", \"age\": 99}\n"
     ]
    },
    {
     "data": {
      "text/plain": [
       "{'name': 'haha', 'age': 99}"
      ]
     },
     "execution_count": 223,
     "metadata": {},
     "output_type": "execute_result"
    }
   ],
   "source": [
    "import json\n",
    "cache = json.dumps(d)\n",
    "print(cache)\n",
    "json.loads(cache)"
   ]
  },
  {
   "cell_type": "code",
   "execution_count": null,
   "metadata": {},
   "outputs": [],
   "source": []
  },
  {
   "cell_type": "code",
   "execution_count": null,
   "metadata": {},
   "outputs": [],
   "source": []
  },
  {
   "cell_type": "markdown",
   "metadata": {},
   "source": [
    "## 2.3 其它对象的序列化"
   ]
  },
  {
   "cell_type": "code",
   "execution_count": 231,
   "metadata": {},
   "outputs": [],
   "source": [
    "class Student(object):\n",
    "    def __init__(self,a,b):\n",
    "        self.a = a\n",
    "        self.b = b"
   ]
  },
  {
   "cell_type": "code",
   "execution_count": 232,
   "metadata": {},
   "outputs": [
    {
     "name": "stdout",
     "output_type": "stream",
     "text": [
      "b'\\x80\\x03c__main__\\nStudent\\nq\\x00)\\x81q\\x01}q\\x02(X\\x01\\x00\\x00\\x00aq\\x03K\\x02X\\x01\\x00\\x00\\x00bq\\x04K\\x03ub.'\n"
     ]
    },
    {
     "data": {
      "text/plain": [
       "<__main__.Student at 0x20bd8da3a90>"
      ]
     },
     "execution_count": 232,
     "metadata": {},
     "output_type": "execute_result"
    }
   ],
   "source": [
    "s = Student(2,3)\n",
    "cache = pickle.dumps(s)\n",
    "print(cache)\n",
    "pickle.loads(cache)\n",
    "# 从硬盘读取后，就可以直接拿来用了，就像已经定义好的一样\n",
    "# 但是这只针对python方便，对其它环境就不行"
   ]
  },
  {
   "cell_type": "code",
   "execution_count": 235,
   "metadata": {},
   "outputs": [
    {
     "name": "stdout",
     "output_type": "stream",
     "text": [
      "{\"a\": 2, \"b\": 3}\n"
     ]
    },
    {
     "data": {
      "text/plain": [
       "<__main__.Student at 0x20bd8dbe6d8>"
      ]
     },
     "execution_count": 235,
     "metadata": {},
     "output_type": "execute_result"
    }
   ],
   "source": [
    "# Studeng 不是一个课序列化为JSON的对象\n",
    "# cache = json.dumps(s)\n",
    "def student2dict(ss):\n",
    "    return {'a':ss.a, 'b':ss.b}\n",
    "cache = json.dumps(s, default=student2dict)\n",
    "print(cache)\n",
    "def dict2student(dd):\n",
    "    return Student(dd['a'], dd['b'])\n",
    "json.loads(cache, object_hook=dict2student)"
   ]
  },
  {
   "cell_type": "code",
   "execution_count": null,
   "metadata": {},
   "outputs": [],
   "source": []
  },
  {
   "cell_type": "code",
   "execution_count": null,
   "metadata": {},
   "outputs": [],
   "source": []
  },
  {
   "cell_type": "code",
   "execution_count": null,
   "metadata": {},
   "outputs": [],
   "source": []
  },
  {
   "cell_type": "code",
   "execution_count": null,
   "metadata": {},
   "outputs": [],
   "source": []
  },
  {
   "cell_type": "markdown",
   "metadata": {},
   "source": [
    "# 3. RE\n",
    "\n",
    "字符串是编程时涉及到的最多的一种数据结构，对字符串进行操作的需求几乎无处不在。\n",
    "\n",
    "`\\d` 匹配一个数字\n",
    "\n",
    "`\\w` 匹配一个数字或字母\n",
    "\n",
    "`.`  匹配任意字符\n",
    "\n",
    "`*` 任意数量任意字符(包括0个)\n",
    "`+` 至少1个\n",
    "`?` 0个或1个\n",
    "\n",
    "`{n}` 表示n个\n",
    "`{n,m}` n~m个\n",
    "\n",
    "`(P|p)ython` 匹配P或者p，python或Python\n",
    "\n",
    "`^` 表示行的开头，`^/d`表示必须以数字开头\n",
    "\n",
    "`$` 表示行的结束，`/d$`表示以数字结尾\n",
    "\n",
    "要做更精确地匹配，可以用`[]`表示范围\n",
    "\n",
    "`[0-9a-zA-Z\\_]`匹配一个数字，字母或下划线\n",
    "\n",
    "`[0-9a-zA-Z\\_]+` 至少1个\n",
    "\n",
    "`[a-zA-Z\\_][0-9a-zA-Z\\_]*` 以字母或下划线开头，后面任意数量的数字字母下划线，也就是合法的py变量\n",
    "\n",
    "`[a-zA-Z\\_][0-9a-zA-Z\\_]{0,19}`\n",
    "\n"
   ]
  },
  {
   "cell_type": "code",
   "execution_count": 290,
   "metadata": {},
   "outputs": [],
   "source": [
    "import re"
   ]
  },
  {
   "cell_type": "markdown",
   "metadata": {},
   "source": [
    "### 匹配"
   ]
  },
  {
   "cell_type": "code",
   "execution_count": 306,
   "metadata": {},
   "outputs": [
    {
     "data": {
      "text/plain": [
       "<_sre.SRE_Match object; span=(0, 11), match='010 - 12345'>"
      ]
     },
     "execution_count": 306,
     "metadata": {},
     "output_type": "execute_result"
    }
   ],
   "source": [
    "re.match(r'\\d{3}[- ]+\\d{5}$', '010 - 12345')"
   ]
  },
  {
   "cell_type": "markdown",
   "metadata": {},
   "source": [
    "### 切分"
   ]
  },
  {
   "cell_type": "code",
   "execution_count": 307,
   "metadata": {},
   "outputs": [
    {
     "name": "stdout",
     "output_type": "stream",
     "text": [
      "['a', 'b', 'c', ',', '', ',,,d', '', 'e']\n",
      "['a', 'b', 'c', 'd', 'e']\n"
     ]
    }
   ],
   "source": [
    "print('a b c ,  ,,,d  e'.split(' '))\n",
    "print(re.split(r'[\\s\\,]+', 'a b c ,  ,,,d  e'))\n"
   ]
  },
  {
   "cell_type": "markdown",
   "metadata": {},
   "source": [
    "### 分组\n",
    "\n",
    "除了简单地判断是否匹配之外，正则表达式还有提取子串的强大功能。用()表示的就是要提取的分组（group）"
   ]
  },
  {
   "cell_type": "code",
   "execution_count": 314,
   "metadata": {},
   "outputs": [
    {
     "data": {
      "text/plain": [
       "'010 - 12345'"
      ]
     },
     "execution_count": 314,
     "metadata": {},
     "output_type": "execute_result"
    }
   ],
   "source": [
    "m = re.match(r'\\d{3}[- ]+\\d{5}$', '010 - 12345')\n",
    "m.group(0)"
   ]
  },
  {
   "cell_type": "code",
   "execution_count": 329,
   "metadata": {},
   "outputs": [
    {
     "name": "stdout",
     "output_type": "stream",
     "text": [
      "['010 - 12345', '010', '12345']\n"
     ]
    },
    {
     "data": {
      "text/plain": [
       "('010', '12345')"
      ]
     },
     "execution_count": 329,
     "metadata": {},
     "output_type": "execute_result"
    }
   ],
   "source": [
    "m = re.match(r'^(\\d{3})[- ]+(\\d{5})$', '010 - 12345')\n",
    "print([m.group(i) for i in range(3)])\n",
    "m.groups()"
   ]
  },
  {
   "cell_type": "code",
   "execution_count": 332,
   "metadata": {},
   "outputs": [
    {
     "data": {
      "text/plain": [
       "('19', '05', '34')"
      ]
     },
     "execution_count": 332,
     "metadata": {},
     "output_type": "execute_result"
    }
   ],
   "source": [
    "t = '19:05:34'\n",
    "m = re.match(r'^(0[0-9]|1[0-9]|2[0-3]|[0-9])\\:(0[0-9]|1[0-9]|2[0-9]|3[0-9]|4[0-9]|5[0-9]|[0-9])\\:(0[0-9]|1[0-9]|2[0-9]|3[0-9]|4[0-9]|5[0-9]|[0-9])$', t)\n",
    "m.groups()"
   ]
  },
  {
   "cell_type": "code",
   "execution_count": 334,
   "metadata": {},
   "outputs": [
    {
     "data": {
      "text/plain": [
       "'^(0[1-9]|1[0-2]|[0-9])-(0[1-9]|1[0-9]|2[0-9]|3[0-1]|[0-9])$'"
      ]
     },
     "execution_count": 334,
     "metadata": {},
     "output_type": "execute_result"
    }
   ],
   "source": [
    "r'^(0[1-9]|1[0-2]|[0-9])-(0[1-9]|1[0-9]|2[0-9]|3[0-1]|[0-9])$'\n",
    "# 但对非法日期如 2-30， 4-31 无法简单实现，需要程序配合"
   ]
  },
  {
   "cell_type": "markdown",
   "metadata": {},
   "source": [
    "### 贪婪匹配\n",
    "\n",
    "默认是贪婪匹配，也就是匹配尽可能多的字符"
   ]
  },
  {
   "cell_type": "code",
   "execution_count": 339,
   "metadata": {},
   "outputs": [
    {
     "data": {
      "text/plain": [
       "('102300', '')"
      ]
     },
     "execution_count": 339,
     "metadata": {},
     "output_type": "execute_result"
    }
   ],
   "source": [
    "re.match(r'^(\\d+)(0*)$', '102300').groups()\n",
    "# /d+ 匹配了所有的数字"
   ]
  },
  {
   "cell_type": "markdown",
   "metadata": {},
   "source": [
    "### 编译\n",
    "\n",
    "如果一个正则表达式要重复使用几千次，出于效率的考虑，我们可以预编译该正则表达式。\n",
    "直接用 re.match(r'', '')的内部过程也是先编译再匹配。"
   ]
  },
  {
   "cell_type": "code",
   "execution_count": 346,
   "metadata": {},
   "outputs": [
    {
     "data": {
      "text/plain": [
       "<_sre.SRE_Match object; span=(0, 9), match='010-12345'>"
      ]
     },
     "execution_count": 346,
     "metadata": {},
     "output_type": "execute_result"
    }
   ],
   "source": [
    "re_tel = re.compile(r'^(\\d{3})[- ]+(\\d{5})$')\n",
    "re_tel.match('010-12345')"
   ]
  },
  {
   "cell_type": "code",
   "execution_count": null,
   "metadata": {},
   "outputs": [],
   "source": []
  },
  {
   "cell_type": "code",
   "execution_count": null,
   "metadata": {},
   "outputs": [],
   "source": []
  },
  {
   "cell_type": "markdown",
   "metadata": {},
   "source": [
    "### 附录\n",
    "![](\\img\\2.png)"
   ]
  },
  {
   "cell_type": "code",
   "execution_count": null,
   "metadata": {},
   "outputs": [],
   "source": []
  },
  {
   "cell_type": "code",
   "execution_count": null,
   "metadata": {},
   "outputs": [],
   "source": []
  },
  {
   "cell_type": "code",
   "execution_count": null,
   "metadata": {},
   "outputs": [],
   "source": []
  },
  {
   "cell_type": "code",
   "execution_count": null,
   "metadata": {},
   "outputs": [],
   "source": []
  },
  {
   "cell_type": "code",
   "execution_count": null,
   "metadata": {},
   "outputs": [],
   "source": []
  },
  {
   "cell_type": "code",
   "execution_count": null,
   "metadata": {},
   "outputs": [],
   "source": []
  },
  {
   "cell_type": "code",
   "execution_count": null,
   "metadata": {},
   "outputs": [],
   "source": []
  },
  {
   "cell_type": "code",
   "execution_count": null,
   "metadata": {},
   "outputs": [],
   "source": []
  },
  {
   "cell_type": "code",
   "execution_count": null,
   "metadata": {},
   "outputs": [],
   "source": []
  },
  {
   "cell_type": "code",
   "execution_count": null,
   "metadata": {},
   "outputs": [],
   "source": []
  },
  {
   "cell_type": "code",
   "execution_count": null,
   "metadata": {},
   "outputs": [],
   "source": []
  }
 ],
 "metadata": {
  "kernelspec": {
   "display_name": "Python 3",
   "language": "python",
   "name": "python3"
  },
  "language_info": {
   "codemirror_mode": {
    "name": "ipython",
    "version": 3
   },
   "file_extension": ".py",
   "mimetype": "text/x-python",
   "name": "python",
   "nbconvert_exporter": "python",
   "pygments_lexer": "ipython3",
   "version": "3.6.7"
  }
 },
 "nbformat": 4,
 "nbformat_minor": 2
}
