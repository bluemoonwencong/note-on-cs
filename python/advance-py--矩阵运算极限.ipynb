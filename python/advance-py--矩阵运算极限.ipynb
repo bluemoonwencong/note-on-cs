{
 "cells": [
  {
   "cell_type": "markdown",
   "metadata": {},
   "source": [
    "## Python, numpy, scipy, numba, tensorflow, pytorch, Cython, C++, CUDA"
   ]
  },
  {
   "cell_type": "code",
   "execution_count": 78,
   "metadata": {},
   "outputs": [],
   "source": [
    "import numpy as np\n",
    "import numba\n",
    "import tensorflow as tf\n",
    "import torch\n",
    "import scipy"
   ]
  },
  {
   "cell_type": "code",
   "execution_count": 69,
   "metadata": {},
   "outputs": [],
   "source": [
    "n = 1000\n",
    "x = np.random.randn(n,n)\n",
    "y = np.random.randn(n,n)\n",
    "b = np.random.rand(n,1)"
   ]
  },
  {
   "cell_type": "code",
   "execution_count": 93,
   "metadata": {},
   "outputs": [
    {
     "name": "stdout",
     "output_type": "stream",
     "text": [
      "26.4 ms ± 725 µs per loop (mean ± std. dev. of 7 runs, 10 loops each)\n",
      "25.9 ms ± 262 µs per loop (mean ± std. dev. of 7 runs, 10 loops each)\n"
     ]
    }
   ],
   "source": [
    "%timeit scipy.dot(x,y)\n",
    "%timeit x.dot(y)"
   ]
  },
  {
   "cell_type": "code",
   "execution_count": 87,
   "metadata": {},
   "outputs": [
    {
     "name": "stdout",
     "output_type": "stream",
     "text": [
      "237 ms ± 22.5 ms per loop (mean ± std. dev. of 7 runs, 1 loop each)\n",
      "93.3 ms ± 2.77 ms per loop (mean ± std. dev. of 7 runs, 10 loops each)\n"
     ]
    }
   ],
   "source": [
    "%timeit cache1 = np.linalg.inv(x.T.dot(x)).dot(x.T).dot(b)\n",
    "%timeit cache1 = scipy.linalg.inv(x.T.dot(x)).dot(x.T).dot(b)"
   ]
  },
  {
   "cell_type": "code",
   "execution_count": 92,
   "metadata": {},
   "outputs": [
    {
     "name": "stdout",
     "output_type": "stream",
     "text": [
      "165 ms ± 22.3 ms per loop (mean ± std. dev. of 7 runs, 10 loops each)\n",
      "59.9 ms ± 1.39 ms per loop (mean ± std. dev. of 7 runs, 10 loops each)\n"
     ]
    }
   ],
   "source": [
    "%timeit cache2 = np.linalg.solve(x.T.dot(x), x.T.dot(b))\n",
    "%timeit cache2 = scipy.linalg.solve(x.T.dot(x), x.T.dot(b))"
   ]
  },
  {
   "cell_type": "code",
   "execution_count": 83,
   "metadata": {},
   "outputs": [],
   "source": [
    "def best():\n",
    "    q,r = np.linalg.qr(x)\n",
    "    np.linalg.solve(r,q.T.dot(b))\n",
    "def best2():\n",
    "    q,r = scipy.linalg.qr(x)\n",
    "    scipy.linalg.solve(r,scipy.dot(q.T, b))"
   ]
  },
  {
   "cell_type": "code",
   "execution_count": 95,
   "metadata": {},
   "outputs": [
    {
     "name": "stdout",
     "output_type": "stream",
     "text": [
      "462 ms ± 74.9 ms per loop (mean ± std. dev. of 7 runs, 1 loop each)\n",
      "166 ms ± 11.7 ms per loop (mean ± std. dev. of 7 runs, 10 loops each)\n"
     ]
    }
   ],
   "source": [
    "%timeit best()\n",
    "%timeit best2()"
   ]
  },
  {
   "cell_type": "code",
   "execution_count": 74,
   "metadata": {},
   "outputs": [],
   "source": [
    "cache1 = np.linalg.inv(x.T.dot(x)).dot(x.T).dot(b)\n",
    "cache2 = np.linalg.solve(x.T.dot(x), x.T.dot(b))\n",
    "q,r = np.linalg.qr(x)\n",
    "cache3 = np.linalg.solve(r,q.T.dot(b))"
   ]
  },
  {
   "cell_type": "code",
   "execution_count": 77,
   "metadata": {},
   "outputs": [
    {
     "name": "stdout",
     "output_type": "stream",
     "text": [
      "-0.03960969222645883\n",
      "-1.5492104994685452e-14\n",
      "3.724526316702115e-13\n"
     ]
    }
   ],
   "source": [
    "print(cache1.mean())\n",
    "print((cache1 - cache2).mean())\n",
    "print((cache1 - cache3).mean())"
   ]
  },
  {
   "cell_type": "code",
   "execution_count": null,
   "metadata": {},
   "outputs": [],
   "source": []
  },
  {
   "cell_type": "code",
   "execution_count": null,
   "metadata": {},
   "outputs": [],
   "source": []
  },
  {
   "cell_type": "code",
   "execution_count": 102,
   "metadata": {},
   "outputs": [
    {
     "name": "stdout",
     "output_type": "stream",
     "text": [
      "Wall time: 256 ms\n",
      "Wall time: 1.87 s\n",
      "Wall time: 26 ms\n",
      "Wall time: 4 ms\n"
     ]
    }
   ],
   "source": [
    "def speed():\n",
    "    %time np.linalg.inv(x)\n",
    "    %time np.linalg.eig(x)\n",
    "    %time np.dot(x,y.T)\n",
    "    %time np.square(x)\n",
    "speed()"
   ]
  },
  {
   "cell_type": "code",
   "execution_count": 103,
   "metadata": {},
   "outputs": [
    {
     "name": "stdout",
     "output_type": "stream",
     "text": [
      "Wall time: 61 ms\n",
      "Wall time: 1.2 s\n",
      "Wall time: 28 ms\n",
      "Wall time: 5 ms\n"
     ]
    }
   ],
   "source": [
    "def speed():\n",
    "    %time scipy.linalg.inv(x)\n",
    "    %time scipy.linalg.eig(x)\n",
    "    %time scipy.dot(x,y.T)\n",
    "    %time scipy.square(x)\n",
    "speed()"
   ]
  },
  {
   "cell_type": "code",
   "execution_count": 104,
   "metadata": {
    "scrolled": false
   },
   "outputs": [
    {
     "name": "stdout",
     "output_type": "stream",
     "text": [
      "Wall time: 240 ms\n",
      "Wall time: 1.73 s\n",
      "Wall time: 25 ms\n",
      "Wall time: 3.96 ms\n"
     ]
    }
   ],
   "source": [
    "@numba.autojit\n",
    "def speed():\n",
    "    %time np.linalg.inv(x)\n",
    "    %time np.linalg.eig(x)\n",
    "    %time np.dot(x,y.T)\n",
    "    %time np.square(x)\n",
    "speed()"
   ]
  },
  {
   "cell_type": "code",
   "execution_count": 105,
   "metadata": {
    "scrolled": true
   },
   "outputs": [
    {
     "name": "stdout",
     "output_type": "stream",
     "text": [
      "Wall time: 72 ms\n",
      "Wall time: 1.39 s\n",
      "Wall time: 724 ms\n",
      "Wall time: 15 ms\n"
     ]
    }
   ],
   "source": [
    "A = tf.random_normal([n, n])\n",
    "with tf.Session() as sess:\n",
    "    %time sess.run(tf.matrix_inverse(A))\n",
    "    %time eigenvalues, eigenvectors = sess.run(tf.self_adjoint_eig(A))\n",
    "    %time sess.run(tf.matmul( A, tf.transpose(A) ))\n",
    "    %time sess.run(tf.multiply(A, A))"
   ]
  },
  {
   "cell_type": "code",
   "execution_count": null,
   "metadata": {},
   "outputs": [],
   "source": []
  },
  {
   "cell_type": "code",
   "execution_count": null,
   "metadata": {},
   "outputs": [],
   "source": []
  },
  {
   "cell_type": "code",
   "execution_count": null,
   "metadata": {},
   "outputs": [],
   "source": []
  }
 ],
 "metadata": {
  "kernelspec": {
   "display_name": "Python 3",
   "language": "python",
   "name": "python3"
  },
  "language_info": {
   "codemirror_mode": {
    "name": "ipython",
    "version": 3
   },
   "file_extension": ".py",
   "mimetype": "text/x-python",
   "name": "python",
   "nbconvert_exporter": "python",
   "pygments_lexer": "ipython3",
   "version": "3.6.7"
  }
 },
 "nbformat": 4,
 "nbformat_minor": 2
}
