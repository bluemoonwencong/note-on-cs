{
 "cells": [
  {
   "cell_type": "code",
   "execution_count": 5,
   "metadata": {},
   "outputs": [
    {
     "data": {
      "text/plain": [
       "2088603382712"
      ]
     },
     "execution_count": 5,
     "metadata": {},
     "output_type": "execute_result"
    }
   ],
   "source": [
    "id(mm)"
   ]
  },
  {
   "cell_type": "markdown",
   "metadata": {},
   "source": [
    "**1. 模块/包**"
   ]
  },
  {
   "cell_type": "code",
   "execution_count": 4,
   "metadata": {},
   "outputs": [],
   "source": [
    "import mm"
   ]
  },
  {
   "cell_type": "code",
   "execution_count": 18,
   "metadata": {},
   "outputs": [
    {
     "name": "stdout",
     "output_type": "stream",
     "text": [
      "1\n",
      "1\n",
      "2\n",
      "3\n"
     ]
    }
   ],
   "source": [
    "mm.fib(5)"
   ]
  },
  {
   "cell_type": "code",
   "execution_count": 3,
   "metadata": {},
   "outputs": [
    {
     "name": "stdout",
     "output_type": "stream",
     "text": [
      "['__builtins__', '__cached__', '__doc__', '__file__', '__loader__', '__name__', '__package__', '__spec__', 'fib', 'fib_yield', 'foo', 'show']\n",
      "d:\\sync-cs\\bluoveGitHub\\note-on-cs\\python\\__pycache__\\mm.cpython-36.pyc\n",
      "mm\n",
      "None\n"
     ]
    }
   ],
   "source": [
    "print(dir(mm))\n",
    "print(mm.__cached__)\n",
    "print(mm.__name__)\n",
    "print(mm.__doc__)"
   ]
  },
  {
   "cell_type": "markdown",
   "metadata": {},
   "source": [
    "值得一提的是，模块的初始化操作（这里指 foo = 0 这条语句），仅只在 Python 解释器第一次处理该模块的时候执行。也就是说，如果同一个模块被多次 import，它只会执行一次初始化。而且在 jupyter notebook 里面需要重启 kernel 才能正确读取倍修改过的 module"
   ]
  },
  {
   "cell_type": "code",
   "execution_count": 20,
   "metadata": {},
   "outputs": [
    {
     "name": "stdout",
     "output_type": "stream",
     "text": [
      "555\n",
      "0\n",
      "0\n"
     ]
    }
   ],
   "source": [
    "foo = 555\n",
    "print(foo)\n",
    "print(mm.foo)\n",
    "mm.show()"
   ]
  },
  {
   "cell_type": "code",
   "execution_count": 21,
   "metadata": {},
   "outputs": [],
   "source": [
    "del mm"
   ]
  },
  {
   "cell_type": "code",
   "execution_count": 2,
   "metadata": {
    "scrolled": true
   },
   "outputs": [
    {
     "name": "stdout",
     "output_type": "stream",
     "text": [
      "0\n"
     ]
    }
   ],
   "source": [
    "# 这样被导入的符号，如果引用了模块内部的变量\n",
    "# 那么在导入之后也依然会使用模块内的变量，而不是当前环境中的同名变量。\n",
    "from mm import show\n",
    "foo = 555\n",
    "show()\n",
    "# from mm import *\n",
    "# 导入模块内的所有公开符号（没有前缀 _ 的那些）"
   ]
  },
  {
   "cell_type": "markdown",
   "metadata": {},
   "source": [
    "Python 搜寻模块文件，也遵循了类似的思路。比如，用户在 Python 中尝试导入 import foobar，那么\n",
    "\n",
    "首先，Python 会在内建模块中搜寻 foobar；\n",
    "\n",
    "若未找到，则 Python 会在当前工作路径（当前脚本所在路径，或者执行 Python 解释器的路径）中搜寻 foobar；\n",
    "\n",
    "若仍未找到，则 Python 会在环境变量 PYTHONPATH 中指示的路径中搜寻 foobar；\n",
    "\n",
    "若依旧未能找到，则 Python 会在安装时指定的路径中搜寻 foobar；\n",
    "\n",
    "若仍旧失败，则 Python 会报错，提示找不到 foobar 这个模块。"
   ]
  },
  {
   "cell_type": "code",
   "execution_count": 1,
   "metadata": {
    "scrolled": true
   },
   "outputs": [
    {
     "ename": "ModuleNotFoundError",
     "evalue": "No module named 'foobar'",
     "output_type": "error",
     "traceback": [
      "\u001b[1;31m---------------------------------------------------------------------------\u001b[0m",
      "\u001b[1;31mModuleNotFoundError\u001b[0m                       Traceback (most recent call last)",
      "\u001b[1;32m<ipython-input-1-cc8dfa1d0002>\u001b[0m in \u001b[0;36m<module>\u001b[1;34m\u001b[0m\n\u001b[1;32m----> 1\u001b[1;33m \u001b[1;32mimport\u001b[0m \u001b[0mfoobar\u001b[0m\u001b[1;33m\u001b[0m\u001b[1;33m\u001b[0m\u001b[0m\n\u001b[0m",
      "\u001b[1;31mModuleNotFoundError\u001b[0m: No module named 'foobar'"
     ]
    }
   ],
   "source": [
    "import foobar"
   ]
  },
  {
   "cell_type": "markdown",
   "metadata": {},
   "source": [
    "**包** 包就是文件夹"
   ]
  },
  {
   "cell_type": "code",
   "execution_count": null,
   "metadata": {},
   "outputs": [],
   "source": []
  },
  {
   "cell_type": "code",
   "execution_count": null,
   "metadata": {},
   "outputs": [],
   "source": []
  },
  {
   "cell_type": "markdown",
   "metadata": {},
   "source": [
    "**4. python的内存管理**"
   ]
  },
  {
   "cell_type": "code",
   "execution_count": 130,
   "metadata": {},
   "outputs": [
    {
     "name": "stdout",
     "output_type": "stream",
     "text": [
      "abc 2009735183696\n",
      "abc 2009735183696\n",
      "after:\n",
      "xyz 2009783295088\n",
      "abc 2009735183696\n"
     ]
    }
   ],
   "source": [
    "a = 'abc'\n",
    "b = a\n",
    "print(a,id(a))\n",
    "print(b,id(b))\n",
    "# 相当于\n",
    "# string a, b\n",
    "# a = new string('abc')\n",
    "# b = a\n",
    "\n",
    "print('after:')\n",
    "a = 'xyz'\n",
    "print(a,id(a))\n",
    "print(b,id(b))\n",
    "# a = new string('xyz')"
   ]
  },
  {
   "cell_type": "code",
   "execution_count": 156,
   "metadata": {},
   "outputs": [
    {
     "name": "stdout",
     "output_type": "stream",
     "text": [
      "2009783362088\n",
      "2009783362088\n"
     ]
    },
    {
     "data": {
      "text/plain": [
       "True"
      ]
     },
     "execution_count": 156,
     "metadata": {},
     "output_type": "execute_result"
    }
   ],
   "source": [
    "string_1 = 'hahaha'\n",
    "string_2 = 'hahaha'\n",
    "print(id(string_1))\n",
    "print(id(string_2))\n",
    "# 相同的字符串其实同一块内存，池子。\n",
    "# 这也是python推荐用join不推荐用+来连接字符串的原因：\n",
    "# 拼接10000个字符串，用+需要创建10000个对象。但是用join只要创建一个。\n",
    "\n",
    "# The operator a is b returns True if a and b are bound to the same object, otherwise False.可以看作比较内存地址的意思\n",
    "string_1 is string_2"
   ]
  },
  {
   "cell_type": "code",
   "execution_count": 157,
   "metadata": {
    "scrolled": false
   },
   "outputs": [
    {
     "name": "stdout",
     "output_type": "stream",
     "text": [
      "Help on built-in function id in module builtins:\n",
      "\n",
      "id(obj, /)\n",
      "    Return the identity of an object.\n",
      "    \n",
      "    This is guaranteed to be unique among simultaneously existing objects.\n",
      "    (CPython uses the object's memory address.)\n",
      "\n"
     ]
    }
   ],
   "source": [
    "help(id)"
   ]
  },
  {
   "cell_type": "code",
   "execution_count": 158,
   "metadata": {},
   "outputs": [
    {
     "name": "stdout",
     "output_type": "stream",
     "text": [
      "True\n",
      "False\n"
     ]
    }
   ],
   "source": [
    "int_1 = 25\n",
    "int_2 = 25\n",
    "print(int_1 is int_2)\n",
    "# 但是数字的池子有些奇怪\n",
    "int_1 = 300\n",
    "int_2 = 300\n",
    "print(int_1 is int_2)\n",
    "# 对于某个范围内的整数，python启动时就建好了，永不销毁。"
   ]
  }
 ],
 "metadata": {
  "kernelspec": {
   "display_name": "Python 3",
   "language": "python",
   "name": "python3"
  },
  "language_info": {
   "codemirror_mode": {
    "name": "ipython",
    "version": 3
   },
   "file_extension": ".py",
   "mimetype": "text/x-python",
   "name": "python",
   "nbconvert_exporter": "python",
   "pygments_lexer": "ipython3",
   "version": "3.6.7"
  }
 },
 "nbformat": 4,
 "nbformat_minor": 2
}
