{
 "cells": [
  {
   "cell_type": "markdown",
   "metadata": {},
   "source": []
  },
  {
   "cell_type": "code",
   "execution_count": 5,
   "metadata": {},
   "outputs": [
    {
     "data": {
      "text/plain": [
       "2.5"
      ]
     },
     "execution_count": 5,
     "metadata": {},
     "output_type": "execute_result"
    }
   ],
   "source": [
    "f = abs\n",
    "f(-2.5)"
   ]
  },
  {
   "cell_type": "code",
   "execution_count": 6,
   "metadata": {},
   "outputs": [
    {
     "data": {
      "text/plain": [
       "5.9"
      ]
     },
     "execution_count": 6,
     "metadata": {},
     "output_type": "execute_result"
    }
   ],
   "source": [
    "def my_abs(x):\n",
    "    if x<0:\n",
    "        return -x\n",
    "    return x\n",
    "my_abs(-5.9)"
   ]
  },
  {
   "cell_type": "code",
   "execution_count": 7,
   "metadata": {},
   "outputs": [
    {
     "ename": "TypeError",
     "evalue": "'int' object is not callable",
     "output_type": "error",
     "traceback": [
      "\u001b[1;31m---------------------------------------------------------------------------\u001b[0m",
      "\u001b[1;31mTypeError\u001b[0m                                 Traceback (most recent call last)",
      "\u001b[1;32m<ipython-input-7-8cc415ce07eb>\u001b[0m in \u001b[0;36m<module>\u001b[1;34m\u001b[0m\n\u001b[0;32m      1\u001b[0m \u001b[0mmy_abs\u001b[0m \u001b[1;33m=\u001b[0m \u001b[1;36m56\u001b[0m\u001b[1;33m\u001b[0m\u001b[1;33m\u001b[0m\u001b[0m\n\u001b[1;32m----> 2\u001b[1;33m \u001b[0mmy_abs\u001b[0m\u001b[1;33m(\u001b[0m\u001b[1;33m-\u001b[0m\u001b[1;36m8.4\u001b[0m\u001b[1;33m)\u001b[0m\u001b[1;33m\u001b[0m\u001b[1;33m\u001b[0m\u001b[0m\n\u001b[0m",
      "\u001b[1;31mTypeError\u001b[0m: 'int' object is not callable"
     ]
    }
   ],
   "source": [
    "my_abs = 56\n",
    "my_abs(-8.4)"
   ]
  },
  {
   "cell_type": "markdown",
   "metadata": {},
   "source": [
    "可见：变量可以指向函数，函数名本身就是变量。（python内置的函数名变量不能更改，但是自定义的可以）"
   ]
  },
  {
   "cell_type": "code",
   "execution_count": 9,
   "metadata": {},
   "outputs": [
    {
     "data": {
      "text/plain": [
       "9.7"
      ]
     },
     "execution_count": 9,
     "metadata": {},
     "output_type": "execute_result"
    }
   ],
   "source": [
    "# 函数也可以传入另一个函数，对方叫高阶函数。\n",
    "f = abs\n",
    "def my_add(x,y,k):\n",
    "    return k(x) + k(y)\n",
    "my_add(-4,5.7,f)"
   ]
  },
  {
   "cell_type": "markdown",
   "metadata": {},
   "source": [
    "google 很有名的一篇paper：MapReduce: Simplified Data Processing on Large Clusters"
   ]
  },
  {
   "cell_type": "code",
   "execution_count": 50,
   "metadata": {},
   "outputs": [
    {
     "data": {
      "text/plain": [
       "[4, 3, 2, 1, 0, 1, 2, 3, 4, 5, 6, 7]"
      ]
     },
     "execution_count": 50,
     "metadata": {},
     "output_type": "execute_result"
    }
   ],
   "source": [
    "# map接受一个函数和一个Iterable，返回一个Iterator\n",
    "# map作为高阶函数，实际上把运算规则抽象了，就像求和 / 连乘 / 积分这些符号\n",
    "[i for i in map(abs,range(-4,8))]"
   ]
  },
  {
   "cell_type": "code",
   "execution_count": 51,
   "metadata": {},
   "outputs": [
    {
     "data": {
      "text/plain": [
       "1674"
      ]
     },
     "execution_count": 51,
     "metadata": {},
     "output_type": "execute_result"
    }
   ],
   "source": [
    "# reduce接受一个函数和一个Iterable，返回一个Iterator\n",
    "# reduce(f, [x1, x2, x3, x4]) = f(f(f(x1, x2), x3), x4)\n",
    "# 可以这样，原本 lambda 也会被干掉的\n",
    "from functools import reduce\n",
    "def cache(x,y): return 10*x+y\n",
    "reduce(cache,[1,6,7,4])"
   ]
  },
  {
   "cell_type": "code",
   "execution_count": 52,
   "metadata": {},
   "outputs": [
    {
     "data": {
      "text/plain": [
       "1232198"
      ]
     },
     "execution_count": 52,
     "metadata": {},
     "output_type": "execute_result"
    }
   ],
   "source": [
    "def char2num(s):\n",
    "    digts = {'0': 0, '1': 1, '2': 2, '3': 3, '4': 4, '5': 5, '6': 6, '7': 7, '8': 8, '9': 9}\n",
    "    return digts[s]\n",
    "reduce(cache, map(char2num,'1232198'))"
   ]
  },
  {
   "cell_type": "code",
   "execution_count": 53,
   "metadata": {},
   "outputs": [
    {
     "data": {
      "text/plain": [
       "0"
      ]
     },
     "execution_count": 53,
     "metadata": {},
     "output_type": "execute_result"
    }
   ],
   "source": [
    "3//10"
   ]
  },
  {
   "cell_type": "code",
   "execution_count": 79,
   "metadata": {},
   "outputs": [],
   "source": [
    "def int_iter_last(a):\n",
    "    while a>0:\n",
    "        yield a % 10\n",
    "        a = a // 10"
   ]
  },
  {
   "cell_type": "code",
   "execution_count": 86,
   "metadata": {},
   "outputs": [],
   "source": [
    "import math\n",
    "math.log10(12304)\n",
    "# 必须知道一个 int 的数量级才能从头开始\n",
    "# 最好还是从程序上入手，过后再反过来，以避免依赖math包\n",
    "def int_iter_first(a):\n",
    "    pass"
   ]
  },
  {
   "cell_type": "code",
   "execution_count": 88,
   "metadata": {},
   "outputs": [
    {
     "data": {
      "text/plain": [
       "[8, 9, 2, 3, 3, 2, 1]"
      ]
     },
     "execution_count": 88,
     "metadata": {},
     "output_type": "execute_result"
    }
   ],
   "source": [
    "list(int_iter_last(1233298))"
   ]
  },
  {
   "cell_type": "code",
   "execution_count": 100,
   "metadata": {},
   "outputs": [
    {
     "name": "stdout",
     "output_type": "stream",
     "text": [
      "['8', '9', '2', '3', '0', '0', '3', '2', '1']\n"
     ]
    },
    {
     "data": {
      "text/plain": [
       "'123003298'"
      ]
     },
     "execution_count": 100,
     "metadata": {},
     "output_type": "execute_result"
    }
   ],
   "source": [
    "# 怎样把整数拆成一个位数字列表呢？\n",
    "# 关键是 int 不具有可迭代性质无法直接带入 map\n",
    "def num2char(s):\n",
    "    digts = {0: '0', 1: '1', 2: '2', 3: '3', 4: '4', 5: '5', 6: '6', 7: '7', 8: '8', 9: '9'}\n",
    "    return digts[s]\n",
    "print(list(map(num2char, int_iter_last(123003298))))\n",
    "ans = ''.join(map(num2char, int_iter_last(123003298)))\n",
    "ans[::-1]"
   ]
  },
  {
   "cell_type": "code",
   "execution_count": 122,
   "metadata": {},
   "outputs": [
    {
     "data": {
      "text/plain": [
       "[[1, 2, 3],\n",
       " [4, 5, 6],\n",
       " [7, 8, 9],\n",
       " [10, 11, 12],\n",
       " [13, 14, 15],\n",
       " [16, 17, 18],\n",
       " [19, 20, 21],\n",
       " [22, 23, 24],\n",
       " [25, 26, 27],\n",
       " [28, 29, 30],\n",
       " [31, 32, 33],\n",
       " [34, 35, 36],\n",
       " [37, 38, 39],\n",
       " [40, 41, 42],\n",
       " [43, 44, 45],\n",
       " [46, 47, 48],\n",
       " [49, 50, 51],\n",
       " [52, 53, 54],\n",
       " [55, 56, 57],\n",
       " [58, 59, 60],\n",
       " [61, 62, 63],\n",
       " [64, 65, 66],\n",
       " [67, 68, 69],\n",
       " [70, 71, 72],\n",
       " [73, 74, 75],\n",
       " [76, 77, 78],\n",
       " [79, 80, 81],\n",
       " [82, 83, 84],\n",
       " [85, 86, 87],\n",
       " [88, 89, 90],\n",
       " [91, 92, 93],\n",
       " [94, 95, 96],\n",
       " [97, 98, 99],\n",
       " [100]]"
      ]
     },
     "execution_count": 122,
     "metadata": {},
     "output_type": "execute_result"
    }
   ],
   "source": [
    "# 插曲\n",
    "# 一个面试题，一行code生成如下序列\n",
    "[list(range(1, 101)[i:i+3]) for i in range(0,100,3)]"
   ]
  },
  {
   "cell_type": "markdown",
   "metadata": {},
   "source": [
    "## 闭包"
   ]
  },
  {
   "cell_type": "code",
   "execution_count": 123,
   "metadata": {},
   "outputs": [],
   "source": [
    "def lazy_sum(*args):\n",
    "    def _sum():\n",
    "        a = 0\n",
    "        for i in args:\n",
    "            a += i\n",
    "        return a\n",
    "    return _sum"
   ]
  },
  {
   "cell_type": "code",
   "execution_count": 124,
   "metadata": {},
   "outputs": [
    {
     "name": "stdout",
     "output_type": "stream",
     "text": [
      "15\n"
     ]
    },
    {
     "data": {
      "text/plain": [
       "<function __main__.lazy_sum.<locals>._sum()>"
      ]
     },
     "execution_count": 124,
     "metadata": {},
     "output_type": "execute_result"
    }
   ],
   "source": [
    "func = lazy_sum(1,2,3,4,5)\n",
    "print(func())\n",
    "func"
   ]
  },
  {
   "cell_type": "markdown",
   "metadata": {},
   "source": [
    "我们在函数 lazy_sum 中又定义了函数 sum，并且，内部函数 sum 可以引用\n",
    "外部函数 lazy_sum 的参数和局部变量，**当 lazy_sum 返回函数 sum 时，相关参数和变量都保\n",
    "存在返回的函数中**.\n",
    "\n",
    "**这种称为“闭包（Closure）”的程序结构拥有极大的威力。   \n",
    "为什么呢, 有啥厉害之处???**"
   ]
  },
  {
   "cell_type": "code",
   "execution_count": 125,
   "metadata": {},
   "outputs": [],
   "source": [
    "f1 = lazy_sum(1,2,4,6,8,10)\n",
    "f2 = lazy_sum(1,1,2,3,3,4,4,5,5,5)"
   ]
  },
  {
   "cell_type": "markdown",
   "metadata": {},
   "source": [
    "注意到返回的函数在其定义内部引用了局部变量 args，所以，**当一个函数返回了一个函数\n",
    "后，其内部的局部变量还被新函数引用**，所以，闭包用起来简单，实现起来可不容易。比如:"
   ]
  },
  {
   "cell_type": "code",
   "execution_count": 130,
   "metadata": {},
   "outputs": [
    {
     "data": {
      "text/plain": [
       "[9, 9, 9]"
      ]
     },
     "execution_count": 130,
     "metadata": {},
     "output_type": "execute_result"
    }
   ],
   "source": [
    "def count():\n",
    "    fs = []\n",
    "    for i in range(1,4):\n",
    "        def f():\n",
    "            return i*i\n",
    "        fs.append(f)\n",
    "    return fs\n",
    "f1, f2, f3 = count()\n",
    "[f1(), f2(), f3()]"
   ]
  },
  {
   "cell_type": "markdown",
   "metadata": {},
   "source": [
    "原因就在于返回的函数引用了变量 i，但它并非立刻执行。等到 3 个函数都返\n",
    "回时，它们所引用的变量 i 已经变成了 3，因此最终结果为 9。\n",
    "\n",
    "返回闭包时牢记的一点就是：返回函数不要引用任何循环变量，或者后续会发生变化的变量\n",
    "\n",
    "如果一定要引用循环变量怎么办？方法是**再创建一个函数，用该函数的参数绑定循环变量\n",
    "当前的值**，无论该循环变量后续如何更改，已绑定到函数参数的值不变"
   ]
  },
  {
   "cell_type": "code",
   "execution_count": 131,
   "metadata": {},
   "outputs": [
    {
     "data": {
      "text/plain": [
       "[1, 4, 9]"
      ]
     },
     "execution_count": 131,
     "metadata": {},
     "output_type": "execute_result"
    }
   ],
   "source": [
    "def count():\n",
    "    fs = []\n",
    "    for i in range(1,4):\n",
    "        def g(other_i):#再创建一个函数 g, 用该函数的参数绑定循环变量当前值\n",
    "            def f():\n",
    "                return other_i*other_i\n",
    "            return f # 相当于给 f 套了一层函数\n",
    "        fs.append(g(i))\n",
    "    return fs\n",
    "f1, f2, f3 = count()\n",
    "[f1(), f2(), f3()]"
   ]
  },
  {
   "cell_type": "code",
   "execution_count": null,
   "metadata": {},
   "outputs": [],
   "source": []
  },
  {
   "cell_type": "markdown",
   "metadata": {},
   "source": [
    "### 修饰器（decorator）\n",
    "\n",
    "python中的装饰器是通过闭包实现的，简单地讲，闭包就是引用了外部变量的内部函数，而闭包的实现正是利用了以上函数特性"
   ]
  },
  {
   "cell_type": "code",
   "execution_count": 164,
   "metadata": {},
   "outputs": [
    {
     "data": {
      "text/plain": [
       "'log'"
      ]
     },
     "execution_count": 164,
     "metadata": {},
     "output_type": "execute_result"
    }
   ],
   "source": [
    "def log(func):\n",
    "    def wrapper(*args,**kw):\n",
    "        print('call %s'%func.__name__)\n",
    "        return(func(*args,**kw))\n",
    "    return wrapper\n",
    "log.__name__"
   ]
  },
  {
   "cell_type": "code",
   "execution_count": 165,
   "metadata": {},
   "outputs": [
    {
     "name": "stdout",
     "output_type": "stream",
     "text": [
      "abs\n",
      "abs\n"
     ]
    }
   ],
   "source": [
    "print(abs.__name__)\n",
    "my_abs = abs\n",
    "print(my_abs.__name__)"
   ]
  },
  {
   "cell_type": "markdown",
   "metadata": {},
   "source": [
    "一般，定义什么函数，它的名字就是什么。定义了之后，就算赋值给其它变量，该函数对象的名字也不变的。\n",
    "\n",
    "加上修饰器后，函数的名字就变了，变成wrapper。这当然是正常的，我们在定义修饰器的时候，内部是用一个叫\"wrapper\"的函数封装的，然后返回这个叫\"wrapper\"的函数给传入函数变量，名字当然会啦！\n",
    "\n",
    "但是在修饰器内部可以正常使用名字，这就不用解释了吧，，由此还可以看出来，修饰器有惰性求值的特性。\n"
   ]
  },
  {
   "cell_type": "code",
   "execution_count": 166,
   "metadata": {},
   "outputs": [
    {
     "name": "stdout",
     "output_type": "stream",
     "text": [
      "call now\n",
      "2018-01-01\n",
      "wrapper\n"
     ]
    }
   ],
   "source": [
    "@log\n",
    "def now():\n",
    "    print('2018-01-01')\n",
    "now()\n",
    "print(now.__name__)\n"
   ]
  },
  {
   "cell_type": "code",
   "execution_count": 169,
   "metadata": {},
   "outputs": [
    {
     "name": "stdout",
     "output_type": "stream",
     "text": [
      "call now\n",
      "2018-01-01\n",
      "wrapper\n"
     ]
    }
   ],
   "source": [
    "# 相当于 now = log(now)\n",
    "def now():\n",
    "    print('2018-01-01')\n",
    "now = log(now)\n",
    "now()\n",
    "print(now.__name__)\n"
   ]
  },
  {
   "cell_type": "markdown",
   "metadata": {},
   "source": [
    "### 带参数的修饰器，多个修饰器\n",
    "\n",
    "如果想把\"call now\"当作参数传入，需要写一个能返回修饰器的函数。\n",
    "\n",
    "被修饰的函数当然也可以带参数啊，一直都是默认这样写的，不信你看看下面的(*args,*kw)是干嘛的..."
   ]
  },
  {
   "cell_type": "code",
   "execution_count": 178,
   "metadata": {},
   "outputs": [
    {
     "data": {
      "text/plain": [
       "'log'"
      ]
     },
     "execution_count": 178,
     "metadata": {},
     "output_type": "execute_result"
    }
   ],
   "source": [
    "def ret_decorator(howcall):\n",
    "    def log(func):\n",
    "        def wrapper(*args,**kw):\n",
    "            print('%s %s'%(howcall,func.__name__))\n",
    "            return(func(*args,**kw))\n",
    "        return wrapper\n",
    "    return log\n",
    "\n",
    "log.__name__"
   ]
  },
  {
   "cell_type": "code",
   "execution_count": 181,
   "metadata": {},
   "outputs": [
    {
     "name": "stdout",
     "output_type": "stream",
     "text": [
      "my-call-stype3: wrapper\n",
      "my-call-stype2: wrapper\n",
      "my-call-stype1: now\n",
      "2018-01-01\n",
      "wrapper\n"
     ]
    }
   ],
   "source": [
    "@ret_decorator('my-call-stype3:')\n",
    "@ret_decorator('my-call-stype2:')\n",
    "@ret_decorator('my-call-stype1:')\n",
    "def now():\n",
    "    print('2018-01-01')\n",
    "now()\n",
    "print(now.__name__)\n"
   ]
  },
  {
   "cell_type": "code",
   "execution_count": null,
   "metadata": {},
   "outputs": [],
   "source": []
  },
  {
   "cell_type": "code",
   "execution_count": null,
   "metadata": {},
   "outputs": [],
   "source": []
  },
  {
   "cell_type": "code",
   "execution_count": null,
   "metadata": {},
   "outputs": [],
   "source": []
  }
 ],
 "metadata": {
  "kernelspec": {
   "display_name": "Python 3",
   "language": "python",
   "name": "python3"
  },
  "language_info": {
   "codemirror_mode": {
    "name": "ipython",
    "version": 3
   },
   "file_extension": ".py",
   "mimetype": "text/x-python",
   "name": "python",
   "nbconvert_exporter": "python",
   "pygments_lexer": "ipython3",
   "version": "3.6.7"
  }
 },
 "nbformat": 4,
 "nbformat_minor": 2
}
