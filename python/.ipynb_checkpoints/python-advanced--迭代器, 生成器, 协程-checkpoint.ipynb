{
 "cells": [
  {
   "cell_type": "markdown",
   "metadata": {},
   "source": [
    "Python 中的黑暗角落（一）：理解 yield 关键字 https://liam.page/2017/06/30/understanding-yield-in-python/\n",
    "\n",
    "Python 中的黑暗角落（二）：生成器协程的调度问题 https://liam.page/2017/06/30/generator-coroutine-in-python-basic-topics/\n",
    "\n",
    "Python 中的黑暗角落（三）：模块与包 https://liam.page/2017/07/23/modules-and-packages-of-python/"
   ]
  },
  {
   "cell_type": "code",
   "execution_count": null,
   "metadata": {},
   "outputs": [],
   "source": []
  },
  {
   "cell_type": "markdown",
   "metadata": {},
   "source": [
    "**0. playground**"
   ]
  },
  {
   "cell_type": "code",
   "execution_count": 6,
   "metadata": {},
   "outputs": [
    {
     "name": "stdout",
     "output_type": "stream",
     "text": [
      "(0, 7)\n",
      "(1, 8)\n",
      "(2, 9)\n"
     ]
    }
   ],
   "source": [
    "for i in enumerate([7,8,9]): print(i)"
   ]
  },
  {
   "cell_type": "code",
   "execution_count": 3,
   "metadata": {},
   "outputs": [
    {
     "name": "stdout",
     "output_type": "stream",
     "text": [
      "(0, 0)\n",
      "(1, 1)\n",
      "(2, 2)\n"
     ]
    }
   ],
   "source": [
    "for i in enumerate(range(3)): print(i)"
   ]
  },
  {
   "cell_type": "code",
   "execution_count": 12,
   "metadata": {},
   "outputs": [
    {
     "data": {
      "text/plain": [
       "[(0, 0), (1, 1), (2, 2)]"
      ]
     },
     "execution_count": 12,
     "metadata": {},
     "output_type": "execute_result"
    }
   ],
   "source": [
    "[i for i in enumerate(range(3))]"
   ]
  },
  {
   "cell_type": "code",
   "execution_count": 13,
   "metadata": {},
   "outputs": [
    {
     "data": {
      "text/plain": [
       "[1, 2, 3]"
      ]
     },
     "execution_count": 13,
     "metadata": {},
     "output_type": "execute_result"
    }
   ],
   "source": [
    "[i for i in [1,2,3]]"
   ]
  },
  {
   "cell_type": "code",
   "execution_count": 14,
   "metadata": {},
   "outputs": [
    {
     "data": {
      "text/plain": [
       "[0, 1, 2, 3]"
      ]
     },
     "execution_count": 14,
     "metadata": {},
     "output_type": "execute_result"
    }
   ],
   "source": [
    "[i for i in range(4)]"
   ]
  },
  {
   "cell_type": "code",
   "execution_count": 15,
   "metadata": {},
   "outputs": [
    {
     "data": {
      "text/plain": [
       "[1, 2, 3]"
      ]
     },
     "execution_count": 15,
     "metadata": {},
     "output_type": "execute_result"
    }
   ],
   "source": [
    "[i for i in (1,2,3)]"
   ]
  },
  {
   "cell_type": "code",
   "execution_count": 16,
   "metadata": {},
   "outputs": [
    {
     "data": {
      "text/plain": [
       "['a', 'i', ' ', 'c', 's']"
      ]
     },
     "execution_count": 16,
     "metadata": {},
     "output_type": "execute_result"
    }
   ],
   "source": [
    "[i for i in 'ai cs']"
   ]
  },
  {
   "cell_type": "code",
   "execution_count": 17,
   "metadata": {},
   "outputs": [
    {
     "data": {
      "text/plain": [
       "['ai', 'sf', 584]"
      ]
     },
     "execution_count": 17,
     "metadata": {},
     "output_type": "execute_result"
    }
   ],
   "source": [
    "[i for i in {'ai':2,'sf':56,584:36.5}]"
   ]
  },
  {
   "cell_type": "code",
   "execution_count": 28,
   "metadata": {},
   "outputs": [
    {
     "name": "stdout",
     "output_type": "stream",
     "text": [
      "dict_keys(['ai', 'sf', 584])\n",
      "dict_values([2, 56, 36.5])\n"
     ]
    },
    {
     "data": {
      "text/plain": [
       "['ai', 'sf', 584]"
      ]
     },
     "execution_count": 28,
     "metadata": {},
     "output_type": "execute_result"
    }
   ],
   "source": [
    "print({'ai':2,'sf':56,584:36.5}.keys())\n",
    "print({'ai':2,'sf':56,584:36.5}.values())\n",
    "[i for i in {'ai':2,'sf':56,584:36.5}]"
   ]
  },
  {
   "cell_type": "code",
   "execution_count": 34,
   "metadata": {},
   "outputs": [
    {
     "ename": "ValueError",
     "evalue": "must have exactly one of create/read/write/append mode",
     "output_type": "error",
     "traceback": [
      "\u001b[1;31m---------------------------------------------------------------------------\u001b[0m",
      "\u001b[1;31mValueError\u001b[0m                                Traceback (most recent call last)",
      "\u001b[1;32m<ipython-input-34-ffcb08097921>\u001b[0m in \u001b[0;36m<module>\u001b[1;34m\u001b[0m\n\u001b[1;32m----> 1\u001b[1;33m \u001b[1;32mwith\u001b[0m \u001b[0mopen\u001b[0m\u001b[1;33m(\u001b[0m\u001b[1;34m'mm.py'\u001b[0m\u001b[1;33m,\u001b[0m\u001b[1;34m'rw'\u001b[0m\u001b[1;33m)\u001b[0m \u001b[1;32mas\u001b[0m \u001b[0mf\u001b[0m\u001b[1;33m:\u001b[0m\u001b[1;33m\u001b[0m\u001b[1;33m\u001b[0m\u001b[0m\n\u001b[0m\u001b[0;32m      2\u001b[0m     \u001b[1;32mfor\u001b[0m \u001b[0mi\u001b[0m \u001b[1;32min\u001b[0m \u001b[0mf\u001b[0m\u001b[1;33m:\u001b[0m\u001b[1;33m\u001b[0m\u001b[1;33m\u001b[0m\u001b[0m\n\u001b[0;32m      3\u001b[0m         \u001b[0mprint\u001b[0m\u001b[1;33m(\u001b[0m\u001b[0mi\u001b[0m\u001b[1;33m)\u001b[0m\u001b[1;33m\u001b[0m\u001b[1;33m\u001b[0m\u001b[0m\n",
      "\u001b[1;31mValueError\u001b[0m: must have exactly one of create/read/write/append mode"
     ]
    }
   ],
   "source": [
    "with open('mm.py','rw') as f:\n",
    "    for i in f:\n",
    "        print(i)"
   ]
  },
  {
   "cell_type": "code",
   "execution_count": 40,
   "metadata": {},
   "outputs": [
    {
     "name": "stdout",
     "output_type": "stream",
     "text": [
      "1 3 h\n",
      "2 4 e\n",
      "3 5 l\n"
     ]
    }
   ],
   "source": [
    "a = [1,2,3]\n",
    "b = (3,4,5,6,7)\n",
    "c = 'hello'\n",
    "for i,j,k in zip(a,b,c):\n",
    "    print(i,j,k)"
   ]
  },
  {
   "cell_type": "markdown",
   "metadata": {},
   "source": [
    "python 的 list，tuple，string，dict，set，file都是可迭代的。\n",
    "对于用户自己实现的类型，如果提供了 __iter__() 或者 __getitem__() 方法，那么该类的对象也是可迭代的。"
   ]
  },
  {
   "cell_type": "markdown",
   "metadata": {},
   "source": [
    "**1.1 迭代(iteration)是一种操作，可迭代(iterable)是对象的一种特性，迭代器(iterator)是一种对象，迭代器协议(iterator protocol)指的是容器类需要包含一个特殊方法。** 如果一个容器类提供了 __iter__() 方法，并且该方法能返回一个能够逐个访问容器内所有元素的迭代器，则我们说该容器类实现了迭代器协议。"
   ]
  },
  {
   "cell_type": "markdown",
   "metadata": {},
   "source": [
    "for x in something: print(x)\n",
    "\n",
    "Python 处理 for 循环时，首先会调用内建函数 iter(something)，它实际上会调用 something.__iter__()，返回 something 对应的迭代器。而后，for 循环会调用内建函数 next()，作用在迭代器上，获取迭代器的下一个元素，并赋值给 x。此后，Python 才开始执行循环体。"
   ]
  },
  {
   "cell_type": "code",
   "execution_count": 11,
   "metadata": {},
   "outputs": [
    {
     "name": "stdout",
     "output_type": "stream",
     "text": [
      "1\n",
      "2\n",
      "3\n",
      "1\n",
      "2\n",
      "3\n"
     ]
    }
   ],
   "source": [
    "a = [1,2,3]\n",
    "for i in a: print(i)\n",
    "\n",
    "b = a.__iter__()\n",
    "print(next(b))\n",
    "print(next(b))\n",
    "print(next(b))"
   ]
  },
  {
   "cell_type": "markdown",
   "metadata": {},
   "source": [
    "**1.2 生成器函数(generator function)是一种特殊的函数；生成器(generator)则是特殊的迭代器。**"
   ]
  },
  {
   "cell_type": "code",
   "execution_count": 182,
   "metadata": {},
   "outputs": [
    {
     "name": "stdout",
     "output_type": "stream",
     "text": [
      "<class 'function'>\n",
      "<class 'generator'>\n",
      "True\n",
      "1\n",
      "2\n"
     ]
    },
    {
     "ename": "StopIteration",
     "evalue": "",
     "output_type": "error",
     "traceback": [
      "\u001b[1;31m---------------------------------------------------------------------------\u001b[0m",
      "\u001b[1;31mStopIteration\u001b[0m                             Traceback (most recent call last)",
      "\u001b[1;32m<ipython-input-182-05659277945c>\u001b[0m in \u001b[0;36m<module>\u001b[1;34m()\u001b[0m\n\u001b[0;32m      9\u001b[0m \u001b[0mprint\u001b[0m\u001b[1;33m(\u001b[0m\u001b[0mnext\u001b[0m\u001b[1;33m(\u001b[0m\u001b[0ma\u001b[0m\u001b[1;33m)\u001b[0m\u001b[1;33m)\u001b[0m\u001b[1;33m\u001b[0m\u001b[0m\n\u001b[0;32m     10\u001b[0m \u001b[0mprint\u001b[0m\u001b[1;33m(\u001b[0m\u001b[0mnext\u001b[0m\u001b[1;33m(\u001b[0m\u001b[0ma\u001b[0m\u001b[1;33m)\u001b[0m\u001b[1;33m)\u001b[0m\u001b[1;33m\u001b[0m\u001b[0m\n\u001b[1;32m---> 11\u001b[1;33m \u001b[0mprint\u001b[0m\u001b[1;33m(\u001b[0m\u001b[0mnext\u001b[0m\u001b[1;33m(\u001b[0m\u001b[0ma\u001b[0m\u001b[1;33m)\u001b[0m\u001b[1;33m)\u001b[0m\u001b[1;33m\u001b[0m\u001b[0m\n\u001b[0m",
      "\u001b[1;31mStopIteration\u001b[0m: "
     ]
    }
   ],
   "source": [
    "def func():\n",
    "    yield 1\n",
    "    yield 2\n",
    "print(type(func))\n",
    "print(type(func()))\n",
    "\n",
    "a = func()\n",
    "print( iter(iter(iter(a))) == a )\n",
    "print(next(a))\n",
    "print(next(a))\n",
    "print(next(a))"
   ]
  },
  {
   "cell_type": "markdown",
   "metadata": {},
   "source": [
    "与普通函数不同，生成器函数被调用后，其函数体内的代码并不会立即执行，而是返回一个生成器（generator-iterator）。\n",
    "当返回的生成器调用成员方法时，相应的生成器函数中的代码才会执行。\n",
    "若没有遇到 yield 表达式，生成器函数就已经退出，那么该方法会抛出 StopIterator 异常。"
   ]
  },
  {
   "cell_type": "code",
   "execution_count": 185,
   "metadata": {},
   "outputs": [
    {
     "name": "stdout",
     "output_type": "stream",
     "text": [
      "0\n",
      "1\n",
      "4\n",
      "9\n"
     ]
    }
   ],
   "source": [
    "def square():\n",
    "    for x in range(4):\n",
    "        yield x ** 2\n",
    "square_gen = square()\n",
    "for x in square_gen:\n",
    "    print(x)"
   ]
  },
  {
   "cell_type": "code",
   "execution_count": 186,
   "metadata": {},
   "outputs": [
    {
     "name": "stdout",
     "output_type": "stream",
     "text": [
      "0\n",
      "1\n",
      "4\n",
      "9\n"
     ]
    }
   ],
   "source": [
    "square_gen = square()\n",
    "print(next(square_gen))\n",
    "print(next(square_gen))\n",
    "print(next(square_gen))\n",
    "print(next(square_gen))"
   ]
  },
  {
   "cell_type": "markdown",
   "metadata": {},
   "source": [
    "每次执行到 print(next(square_gen)) 时，square 函数会从上一次暂停的位置开始，一直执行到下一个 yield 表达式，将 yield 关键字后的表达式列表返回给调用者，并再次暂停。注意，**每次从暂停恢复时，生成器函数的内部变量、指令指针、内部求值栈等内容和暂停时完全一致。(python没有指针，如何理解？)**"
   ]
  },
  {
   "cell_type": "markdown",
   "metadata": {},
   "source": [
    "**1.3 生成器的方法**\n",
    "\n",
    "generator.send(value)：和 generator.next() 类似，差别仅在与它会将当前 yield 表达式的值设置为 value。\n",
    "\n",
    "generator.throw(type[, value[, traceback]])：向生成器函数抛出一个类型为 type 值为 value 调用栈为 traceback 的异常，而后让生成器函数继续执行到下一个 yield 表达式。其余行为与 generator.next() 类似。\n",
    "\n",
    "next(generator)\n",
    "\n",
    "generator.close()"
   ]
  },
  {
   "cell_type": "code",
   "execution_count": 191,
   "metadata": {},
   "outputs": [
    {
     "ename": "StopIteration",
     "evalue": "",
     "output_type": "error",
     "traceback": [
      "\u001b[1;31m---------------------------------------------------------------------------\u001b[0m",
      "\u001b[1;31mStopIteration\u001b[0m                             Traceback (most recent call last)",
      "\u001b[1;32m<ipython-input-191-b0d77f52f440>\u001b[0m in \u001b[0;36m<module>\u001b[1;34m()\u001b[0m\n\u001b[0;32m      1\u001b[0m \u001b[0msquare_gen\u001b[0m \u001b[1;33m=\u001b[0m \u001b[0msquare\u001b[0m\u001b[1;33m(\u001b[0m\u001b[1;33m)\u001b[0m\u001b[1;33m\u001b[0m\u001b[0m\n\u001b[0;32m      2\u001b[0m \u001b[0msquare_gen\u001b[0m\u001b[1;33m.\u001b[0m\u001b[0mclose\u001b[0m\u001b[1;33m(\u001b[0m\u001b[1;33m)\u001b[0m\u001b[1;33m\u001b[0m\u001b[0m\n\u001b[1;32m----> 3\u001b[1;33m \u001b[0mnext\u001b[0m\u001b[1;33m(\u001b[0m\u001b[0msquare_gen\u001b[0m\u001b[1;33m)\u001b[0m\u001b[1;33m\u001b[0m\u001b[0m\n\u001b[0m",
      "\u001b[1;31mStopIteration\u001b[0m: "
     ]
    }
   ],
   "source": [
    "square_gen = square()\n",
    "square_gen.close()\n",
    "next(square_gen)"
   ]
  },
  {
   "cell_type": "code",
   "execution_count": 199,
   "metadata": {},
   "outputs": [
    {
     "name": "stdout",
     "output_type": "stream",
     "text": [
      "0\n",
      "1\n",
      "4\n",
      "9\n"
     ]
    }
   ],
   "source": [
    "square_gen = square()\n",
    "print(next(square_gen))\n",
    "print(square_gen.send(555))\n",
    "print(next(square_gen))\n",
    "print(next(square_gen))"
   ]
  },
  {
   "cell_type": "code",
   "execution_count": 230,
   "metadata": {},
   "outputs": [],
   "source": [
    "def func_send():\n",
    "    x = 1\n",
    "    while True:\n",
    "        y = yield x\n",
    "        x = x + y"
   ]
  },
  {
   "cell_type": "code",
   "execution_count": 231,
   "metadata": {},
   "outputs": [
    {
     "name": "stdout",
     "output_type": "stream",
     "text": [
      "1\n",
      "4\n",
      "14\n"
     ]
    }
   ],
   "source": [
    "geniter = func_send()\n",
    "print(next(geniter))\n",
    "print(geniter.send(3))\n",
    "print(geniter.send(10))"
   ]
  },
  {
   "cell_type": "markdown",
   "metadata": {},
   "source": [
    "生成器函数 func_send 用 yield 表达式，将处理好的 x 发送给生成器的调用者；与此同时，生成器的调用者通过 send 函数，将外部信息作为生成器函数内部的 yield 表达式的值，保存在 y 当中，并参与后续的处理。**这一特性是使用 yield 在 Python 中使用协程的基础**。"
   ]
  },
  {
   "cell_type": "code",
   "execution_count": null,
   "metadata": {},
   "outputs": [],
   "source": []
  },
  {
   "cell_type": "code",
   "execution_count": 41,
   "metadata": {},
   "outputs": [],
   "source": [
    "# 生成无限序列\n",
    "def get_prime(n):\n",
    "    while True:\n",
    "        if is_prime(n):\n",
    "            yield n\n",
    "            n +=1"
   ]
  },
  {
   "cell_type": "code",
   "execution_count": null,
   "metadata": {},
   "outputs": [],
   "source": []
  },
  {
   "cell_type": "markdown",
   "metadata": {},
   "source": [
    "**2. 协程** https://liam.page/2017/06/30/generator-coroutine-in-python-basic-topics/\n",
    "\n",
    "使用 yield 表达式，在 Python 中实现一个最基本的协程调度示例，避免 I/O 操作占用大量 CPU 计算时间。"
   ]
  },
  {
   "cell_type": "code",
   "execution_count": 561,
   "metadata": {},
   "outputs": [],
   "source": [
    "from collections import deque\n",
    "\n",
    "class Dispatcher(object):                   # 2.\n",
    "    def __init__(self, tasks):\n",
    "        self.tasks = deque(tasks)           # 3.\n",
    "    def next(self):\n",
    "        return self.tasks.pop()             # 4.\n",
    "    def run(self):\n",
    "        while len(self.tasks):              # 5.\n",
    "            task = self.next()\n",
    "            try:\n",
    "                next(task)                  # 6.\n",
    "            except StopIteration:\n",
    "                pass                        # 7.\n",
    "            else:\n",
    "                self.tasks.appendleft(task) # 8.\n",
    "\n",
    "def greeting(name, times):                  # 9.\n",
    "    for i in range(times):\n",
    "        yield                               # 10.\n",
    "        print(\"Hello, %s.%d!\" % (name, i))\n"
   ]
  },
  {
   "cell_type": "code",
   "execution_count": 563,
   "metadata": {
    "scrolled": true
   },
   "outputs": [],
   "source": [
    "dispatcher = Dispatcher([greeting('Liam', 5), greeting('Sophia', 4),\n",
    "                                            greeting('Cancan', 6)])"
   ]
  },
  {
   "cell_type": "code",
   "execution_count": 466,
   "metadata": {
    "scrolled": true
   },
   "outputs": [
    {
     "name": "stdout",
     "output_type": "stream",
     "text": [
      "Hello, Cancan.0!\n",
      "Hello, Sophia.0!\n",
      "Hello, Liam.0!\n",
      "Hello, Cancan.1!\n",
      "Hello, Sophia.1!\n",
      "Hello, Liam.1!\n",
      "Hello, Cancan.2!\n",
      "Hello, Sophia.2!\n",
      "Hello, Liam.2!\n",
      "Hello, Cancan.3!\n",
      "Hello, Sophia.3!\n",
      "Hello, Liam.3!\n",
      "Hello, Cancan.4!\n",
      "Hello, Liam.4!\n",
      "Hello, Cancan.5!\n"
     ]
    }
   ],
   "source": [
    "dispatcher.run()"
   ]
  },
  {
   "cell_type": "code",
   "execution_count": 570,
   "metadata": {
    "scrolled": true
   },
   "outputs": [
    {
     "data": {
      "text/plain": [
       "deque([<generator object greeting at 0x000001D3F07AECA8>,\n",
       "       <generator object greeting at 0x000001D3F07AE518>,\n",
       "       <generator object greeting at 0x000001D3F07AEB48>])"
      ]
     },
     "execution_count": 570,
     "metadata": {},
     "output_type": "execute_result"
    }
   ],
   "source": [
    "dispatcher.tasks"
   ]
  },
  {
   "cell_type": "code",
   "execution_count": null,
   "metadata": {},
   "outputs": [],
   "source": []
  },
  {
   "cell_type": "code",
   "execution_count": null,
   "metadata": {},
   "outputs": [],
   "source": []
  },
  {
   "cell_type": "code",
   "execution_count": 513,
   "metadata": {},
   "outputs": [],
   "source": [
    "from time import time as current_time\n",
    "from random import random as rd\n",
    "import time\n",
    "\n",
    "events_list = list()\n",
    "\n",
    "class Event(object):\n",
    "    def __init__(self, *args, **kwargs):\n",
    "        events_list.append(self)\n",
    "        self._callback = lambda:None\n",
    "    def is_ready(self):\n",
    "        ready = self._is_ready()\n",
    "        if ready:\n",
    "            self._callback()\n",
    "        return ready\n",
    "    def set_callback(self, callback):\n",
    "        self._callback = callback\n",
    "\n",
    "class SleepEvent(Event):\n",
    "    def __init__(self, duration):\n",
    "        super(SleepEvent, self).__init__(duration)\n",
    "        self._duration = 1 * 1 * duration\n",
    "        self._start_time = current_time()\n",
    "    def _is_ready(self):\n",
    "        return (current_time() - self._start_time >= self._duration)\n",
    "        # 为什么这里不直接用 sleep 直接实现呢？\n",
    "\n",
    "def coroutine_sleep(duration):\n",
    "    return SleepEvent(duration)\n",
    "\n",
    "def greeting(name, times, duration = 1):\n",
    "    for i in range(times):\n",
    "        yield coroutine_sleep(duration)\n",
    "        print(\"Hello, %s.%d!\" % (name, i))\n",
    "\n",
    "class Dispatcher(object):\n",
    "    def __init__(self, tasks):\n",
    "        self.tasks = tasks\n",
    "        self._start()\n",
    "    def _next(self, gen_task):\n",
    "        try:\n",
    "            yielded_event = next(gen_task)\n",
    "            yielded_event.set_callback(lambda: self._next(gen_task))\n",
    "        except StopIteration:\n",
    "            pass\n",
    "    def _start(self):\n",
    "        for task in self.tasks:\n",
    "            self._next(task)\n",
    "    def polling(self):\n",
    "        while len(events_list):\n",
    "            for event in events_list:\n",
    "                if event.is_ready():\n",
    "                    events_list.remove(event)\n",
    "                    break\n"
   ]
  },
  {
   "cell_type": "code",
   "execution_count": 550,
   "metadata": {
    "scrolled": false
   },
   "outputs": [
    {
     "name": "stdout",
     "output_type": "stream",
     "text": [
      "Hello, Sophia.0!\n",
      "Hello, Liam.0!\n",
      "Hello, Cancan.0!\n",
      "Hello, Liam.1!\n",
      "Hello, Sophia.1!\n",
      "Hello, Cancan.1!\n",
      "Hello, Cancan.2!\n",
      "Hello, Liam.2!\n",
      "Hello, Sophia.2!\n",
      "Hello, Sophia.3!\n",
      "Hello, Cancan.3!\n",
      "Hello, Liam.3!\n"
     ]
    },
    {
     "data": {
      "text/plain": [
       "4.0003818118962045"
      ]
     },
     "execution_count": 550,
     "metadata": {},
     "output_type": "execute_result"
    }
   ],
   "source": [
    "start = time.clock()\n",
    "dispatcher = Dispatcher([greeting('Liam', 4), greeting('Sophia', 4), greeting('Cancan', 4)])\n",
    "dispatcher.polling()\n",
    "end = time.clock()\n",
    "end - start"
   ]
  },
  {
   "cell_type": "code",
   "execution_count": 551,
   "metadata": {},
   "outputs": [],
   "source": [
    "def no_yield_greeting(name, times, duration = 1):\n",
    "    for i in range(times):\n",
    "        sleep(1 * 1 * duration)\n",
    "        print(\"Hello, %s.%d!\" % (name, i))\n",
    "class no_yield_dispatcher(object):\n",
    "    def __init__(self,task):\n",
    "        pass\n",
    "    def polling(self):\n",
    "        print(self)"
   ]
  },
  {
   "cell_type": "code",
   "execution_count": 552,
   "metadata": {},
   "outputs": [
    {
     "name": "stdout",
     "output_type": "stream",
     "text": [
      "Hello, Liam.0!\n",
      "Hello, Liam.1!\n",
      "Hello, Liam.2!\n",
      "Hello, Liam.3!\n",
      "Hello, Sophia.0!\n",
      "Hello, Sophia.1!\n",
      "Hello, Sophia.2!\n",
      "Hello, Sophia.3!\n",
      "Hello, Cancan.0!\n",
      "Hello, Cancan.1!\n",
      "Hello, Cancan.2!\n",
      "Hello, Cancan.3!\n"
     ]
    },
    {
     "data": {
      "text/plain": [
       "12.006480956083124"
      ]
     },
     "execution_count": 552,
     "metadata": {},
     "output_type": "execute_result"
    }
   ],
   "source": [
    "start = time.clock()\n",
    "no_yield_greeting('Liam', 4)\n",
    "no_yield_greeting('Sophia', 4)\n",
    "no_yield_greeting('Cancan', 4)\n",
    "end = time.clock()\n",
    "end - start"
   ]
  },
  {
   "cell_type": "code",
   "execution_count": null,
   "metadata": {},
   "outputs": [],
   "source": []
  },
  {
   "cell_type": "code",
   "execution_count": null,
   "metadata": {},
   "outputs": [],
   "source": []
  },
  {
   "cell_type": "code",
   "execution_count": null,
   "metadata": {},
   "outputs": [],
   "source": []
  },
  {
   "cell_type": "markdown",
   "metadata": {},
   "source": [
    "**3. 模块/包**"
   ]
  },
  {
   "cell_type": "code",
   "execution_count": 17,
   "metadata": {},
   "outputs": [],
   "source": [
    "import mm"
   ]
  },
  {
   "cell_type": "code",
   "execution_count": 18,
   "metadata": {},
   "outputs": [
    {
     "name": "stdout",
     "output_type": "stream",
     "text": [
      "1\n",
      "1\n",
      "2\n",
      "3\n"
     ]
    }
   ],
   "source": [
    "mm.fib(5)"
   ]
  },
  {
   "cell_type": "code",
   "execution_count": 19,
   "metadata": {},
   "outputs": [
    {
     "name": "stdout",
     "output_type": "stream",
     "text": [
      "['__builtins__', '__cached__', '__doc__', '__file__', '__loader__', '__name__', '__package__', '__spec__', 'fib', 'fib_yield', 'foo', 'show']\n",
      "d:\\sync-cs\\bluoveGitHub\\note-on-cs\\python\\__pycache__\\mm.cpython-36.pyc\n",
      "mm\n",
      "\n",
      "这是一个模块\n",
      "\n",
      "\n"
     ]
    }
   ],
   "source": [
    "print(dir(mm))\n",
    "print(mm.__cached__)\n",
    "print(mm.__name__)\n",
    "print(mm.__doc__)"
   ]
  },
  {
   "cell_type": "markdown",
   "metadata": {},
   "source": [
    "值得一提的是，模块的初始化操作（这里指 foo = 0 这条语句），仅只在 Python 解释器第一次处理该模块的时候执行。也就是说，如果同一个模块被多次 import，它只会执行一次初始化。而且在 jupyter notebook 里面需要重启 kernel 才能正确读取倍修改过的 module"
   ]
  },
  {
   "cell_type": "markdown",
   "metadata": {},
   "source": [
    "值得一提的是，模块的初始化操作（这里指 foo = 0 这条语句），仅只在 Python 解释器第一次处理该模块的时候执行。也就是说，如果同一个模块被多次 import，它只会执行一次初始化。而且在 jupyter notebook 里面需要重启 kernel 才能正确读取倍修改过的 module"
   ]
  },
  {
   "cell_type": "code",
   "execution_count": 20,
   "metadata": {},
   "outputs": [
    {
     "name": "stdout",
     "output_type": "stream",
     "text": [
      "555\n",
      "0\n",
      "0\n"
     ]
    }
   ],
   "source": [
    "foo = 555\n",
    "print(foo)\n",
    "print(mm.foo)\n",
    "mm.show()"
   ]
  },
  {
   "cell_type": "code",
   "execution_count": 21,
   "metadata": {},
   "outputs": [],
   "source": [
    "del mm"
   ]
  },
  {
   "cell_type": "code",
   "execution_count": 1,
   "metadata": {
    "scrolled": true
   },
   "outputs": [
    {
     "name": "stdout",
     "output_type": "stream",
     "text": [
      "0\n"
     ]
    }
   ],
   "source": [
    "# 这样被导入的符号，如果引用了模块内部的变量\n",
    "# 那么在导入之后也依然会使用模块内的变量，而不是当前环境中的同名变量。\n",
    "from mm import show\n",
    "foo = 555\n",
    "show()\n",
    "# from mm import *\n",
    "# 导入模块内的所有公开符号（没有前缀 _ 的那些）"
   ]
  },
  {
   "cell_type": "markdown",
   "metadata": {},
   "source": [
    "Python 搜寻模块文件，也遵循了类似的思路。比如，用户在 Python 中尝试导入 import foobar，那么\n",
    "\n",
    "首先，Python 会在内建模块中搜寻 foobar；\n",
    "\n",
    "若未找到，则 Python 会在当前工作路径（当前脚本所在路径，或者执行 Python 解释器的路径）中搜寻 foobar；\n",
    "\n",
    "若仍未找到，则 Python 会在环境变量 PYTHONPATH 中指示的路径中搜寻 foobar；\n",
    "\n",
    "若依旧未能找到，则 Python 会在安装时指定的路径中搜寻 foobar；\n",
    "\n",
    "若仍旧失败，则 Python 会报错，提示找不到 foobar 这个模块。"
   ]
  },
  {
   "cell_type": "code",
   "execution_count": 3,
   "metadata": {
    "scrolled": true
   },
   "outputs": [
    {
     "ename": "ModuleNotFoundError",
     "evalue": "No module named 'foobar'",
     "output_type": "error",
     "traceback": [
      "\u001b[1;31m---------------------------------------------------------------------------\u001b[0m",
      "\u001b[1;31mModuleNotFoundError\u001b[0m                       Traceback (most recent call last)",
      "\u001b[1;32m<ipython-input-3-cc8dfa1d0002>\u001b[0m in \u001b[0;36m<module>\u001b[1;34m()\u001b[0m\n\u001b[1;32m----> 1\u001b[1;33m \u001b[1;32mimport\u001b[0m \u001b[0mfoobar\u001b[0m\u001b[1;33m\u001b[0m\u001b[0m\n\u001b[0m",
      "\u001b[1;31mModuleNotFoundError\u001b[0m: No module named 'foobar'"
     ]
    }
   ],
   "source": [
    "import foobar"
   ]
  },
  {
   "cell_type": "markdown",
   "metadata": {},
   "source": [
    "**包** 包就是文件夹"
   ]
  },
  {
   "cell_type": "code",
   "execution_count": null,
   "metadata": {},
   "outputs": [],
   "source": []
  },
  {
   "cell_type": "code",
   "execution_count": null,
   "metadata": {},
   "outputs": [],
   "source": []
  },
  {
   "cell_type": "markdown",
   "metadata": {},
   "source": [
    "**4. python的内存管理**"
   ]
  },
  {
   "cell_type": "code",
   "execution_count": 130,
   "metadata": {},
   "outputs": [
    {
     "name": "stdout",
     "output_type": "stream",
     "text": [
      "abc 2009735183696\n",
      "abc 2009735183696\n",
      "after:\n",
      "xyz 2009783295088\n",
      "abc 2009735183696\n"
     ]
    }
   ],
   "source": [
    "a = 'abc'\n",
    "b = a\n",
    "print(a,id(a))\n",
    "print(b,id(b))\n",
    "# 相当于\n",
    "# string a, b\n",
    "# a = new string('abc')\n",
    "# b = a\n",
    "\n",
    "print('after:')\n",
    "a = 'xyz'\n",
    "print(a,id(a))\n",
    "print(b,id(b))\n",
    "# a = new string('xyz')"
   ]
  },
  {
   "cell_type": "code",
   "execution_count": 156,
   "metadata": {},
   "outputs": [
    {
     "name": "stdout",
     "output_type": "stream",
     "text": [
      "2009783362088\n",
      "2009783362088\n"
     ]
    },
    {
     "data": {
      "text/plain": [
       "True"
      ]
     },
     "execution_count": 156,
     "metadata": {},
     "output_type": "execute_result"
    }
   ],
   "source": [
    "string_1 = 'hahaha'\n",
    "string_2 = 'hahaha'\n",
    "print(id(string_1))\n",
    "print(id(string_2))\n",
    "# 相同的字符串其实同一块内存，池子。\n",
    "# 这也是python推荐用join不推荐用+来连接字符串的原因：\n",
    "# 拼接10000个字符串，用+需要创建10000个对象。但是用join只要创建一个。\n",
    "\n",
    "# The operator a is b returns True if a and b are bound to the same object, otherwise False.可以看作比较内存地址的意思\n",
    "string_1 is string_2"
   ]
  },
  {
   "cell_type": "code",
   "execution_count": 157,
   "metadata": {
    "scrolled": false
   },
   "outputs": [
    {
     "name": "stdout",
     "output_type": "stream",
     "text": [
      "Help on built-in function id in module builtins:\n",
      "\n",
      "id(obj, /)\n",
      "    Return the identity of an object.\n",
      "    \n",
      "    This is guaranteed to be unique among simultaneously existing objects.\n",
      "    (CPython uses the object's memory address.)\n",
      "\n"
     ]
    }
   ],
   "source": [
    "help(id)"
   ]
  },
  {
   "cell_type": "code",
   "execution_count": 158,
   "metadata": {},
   "outputs": [
    {
     "name": "stdout",
     "output_type": "stream",
     "text": [
      "True\n",
      "False\n"
     ]
    }
   ],
   "source": [
    "int_1 = 25\n",
    "int_2 = 25\n",
    "print(int_1 is int_2)\n",
    "# 但是数字的池子有些奇怪\n",
    "int_1 = 300\n",
    "int_2 = 300\n",
    "print(int_1 is int_2)\n",
    "# 对于某个范围内的整数，python启动时就建好了，永不销毁。"
   ]
  },
  {
   "cell_type": "code",
   "execution_count": null,
   "metadata": {},
   "outputs": [],
   "source": []
  },
  {
   "cell_type": "code",
   "execution_count": null,
   "metadata": {},
   "outputs": [],
   "source": []
  },
  {
   "cell_type": "code",
   "execution_count": null,
   "metadata": {},
   "outputs": [],
   "source": []
  },
  {
   "cell_type": "code",
   "execution_count": null,
   "metadata": {},
   "outputs": [],
   "source": []
  }
 ],
 "metadata": {
  "kernelspec": {
   "display_name": "Python 3",
   "language": "python",
   "name": "python3"
  },
  "language_info": {
   "codemirror_mode": {
    "name": "ipython",
    "version": 3
   },
   "file_extension": ".py",
   "mimetype": "text/x-python",
   "name": "python",
   "nbconvert_exporter": "python",
   "pygments_lexer": "ipython3",
   "version": "3.6.7"
  }
 },
 "nbformat": 4,
 "nbformat_minor": 2
}
