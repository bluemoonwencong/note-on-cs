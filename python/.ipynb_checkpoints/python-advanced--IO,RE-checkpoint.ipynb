{
 "cells": [
  {
   "cell_type": "markdown",
   "metadata": {},
   "source": [
    "Pythowizn 之旅\n",
    "http://funhacks.net/explore-python/Basic/character_encoding.html\n"
   ]
  },
  {
   "cell_type": "code",
   "execution_count": 1,
   "metadata": {},
   "outputs": [],
   "source": [
    "import os"
   ]
  },
  {
   "cell_type": "code",
   "execution_count": 22,
   "metadata": {},
   "outputs": [
    {
     "name": "stdout",
     "output_type": "stream",
     "text": [
      "# -*- utf-8 -*-\n",
      "\n",
      "foo = 0\n",
      "\n",
      "def show():\n",
      "    print(foo)\n",
      "\n",
      "\n",
      "def fib_yield(n):\n",
      "    a, b = 0, 1\n",
      "    while b < n:\n",
      "        yield b\n",
      "        a, b = b, a+b\n",
      "\n",
      "def fib(n):\n",
      "    for num in fib_yield(n):\n",
      "        print(num)\n",
      "\n",
      "\n",
      "\n",
      "\n",
      "\n"
     ]
    }
   ],
   "source": [
    "f = open('mm.py','r')\n",
    "print(f.read())\n",
    "f.close()"
   ]
  },
  {
   "cell_type": "code",
   "execution_count": 8,
   "metadata": {},
   "outputs": [
    {
     "name": "stdout",
     "output_type": "stream",
     "text": [
      "# -*- utf-8 -*-\n",
      "\n",
      "foo = 0\n",
      "\n",
      "def show():\n",
      "    print(foo)\n",
      "\n",
      "\n",
      "def fib_yield(n):\n",
      "  \n"
     ]
    }
   ],
   "source": [
    "f = open('mm.py','r')\n",
    "print(f.read(75))\n",
    "f.close()"
   ]
  },
  {
   "cell_type": "code",
   "execution_count": 51,
   "metadata": {},
   "outputs": [
    {
     "name": "stdout",
     "output_type": "stream",
     "text": [
      "# -*- utf-8 -*-\n",
      "\n",
      "\n",
      "\n",
      "foo = 0\n",
      "\n",
      "\n",
      "\n",
      "def show():\n",
      "\n",
      "    print(foo)\n",
      "\n",
      "\n",
      "\n"
     ]
    }
   ],
   "source": [
    "f = open('mm.py','r')\n",
    "print(f.readline())\n",
    "print(f.readline())\n",
    "print(f.readline())\n",
    "print(f.readline())\n",
    "print(f.readline())\n",
    "print(f.readline())\n",
    "print(f.readline())\n",
    "\n",
    "f.close()"
   ]
  },
  {
   "cell_type": "code",
   "execution_count": 46,
   "metadata": {},
   "outputs": [
    {
     "name": "stdout",
     "output_type": "stream",
     "text": [
      "['# -*- utf-8 -*-\\n', '\\n', 'foo = 0\\n', '\\n', 'def show():\\n', '    print(foo)\\n', '\\n', '\\n', 'def fib_yield(n):\\n', '    a, b = 0, 1\\n', '    while b < n:\\n', '        yield b\\n', '        a, b = b, a+b\\n', '\\n', 'def fib(n):\\n', '    for num in fib_yield(n):\\n', '        print(num)\\n', '\\n', '\\n', '\\n', '\\n']\n"
     ]
    }
   ],
   "source": [
    "f = open('mm.py','r')\n",
    "print(f.readlines())\n",
    "f.close()"
   ]
  },
  {
   "cell_type": "code",
   "execution_count": 48,
   "metadata": {},
   "outputs": [
    {
     "name": "stdout",
     "output_type": "stream",
     "text": [
      "['# -*- utf-8 -*-\\n', '\\n', 'foo = 0\\n', '\\n', 'def show():\\n', '    print(foo)\\n', '\\n', '\\n', 'def fib_yield(n):\\n', '    a, b = 0, 1\\n', '    while b < n:\\n', '        yield b\\n', '        a, b = b, a+b\\n', '\\n', 'def fib(n):\\n', '    for num in fib_yield(n):\\n', '        print(num)']\n",
      "# -*- utf-8 -*-\n",
      "\n",
      "\n",
      "\n",
      "foo = 0\n",
      "\n",
      "\n",
      "\n",
      "def show():\n",
      "\n",
      "    print(foo)\n",
      "\n",
      "\n",
      "\n",
      "\n",
      "\n",
      "def fib_yield(n):\n",
      "\n",
      "    a, b = 0, 1\n",
      "\n",
      "    while b < n:\n",
      "\n",
      "        yield b\n",
      "\n",
      "        a, b = b, a+b\n",
      "\n",
      "\n",
      "\n",
      "def fib(n):\n",
      "\n",
      "    for num in fib_yield(n):\n",
      "\n",
      "        print(num)\n"
     ]
    }
   ],
   "source": [
    "f = open('mm.py','r')\n",
    "print(list(f))\n",
    "f.close()\n",
    "f = open('mm.py','r')\n",
    "for i in f:\n",
    "    print(i)\n",
    "f.close()"
   ]
  },
  {
   "cell_type": "code",
   "execution_count": null,
   "metadata": {},
   "outputs": [],
   "source": []
  },
  {
   "cell_type": "markdown",
   "metadata": {},
   "source": [
    "* 如果文件很小，read()一次性读取最方便；如果不能确定文件大小，反复调用 read(size) 比较保险；如果是配置文件，调用 readlines()最方便\n",
    "* 像 open()函数返回的这种有个 read()方法的对象，在 Python 中统称为 file­like Object。除了 file 外，还可以是内存的字节流，网络流，自定义流等等。file­like Object 不要求从特定类继承，只要写个 read()方法就行。\n",
    "* 读取非ASCII编码的文本文件, 要用二进制打开, 如果是文本文件的话再解码比如GBK编码的文本。"
   ]
  },
  {
   "cell_type": "code",
   "execution_count": 19,
   "metadata": {},
   "outputs": [
    {
     "name": "stdout",
     "output_type": "stream",
     "text": [
      "b'\\x89PNG\\r\\n\\x1a\\n\\x00\\x00\\x00\\rIHDR\\x00\\x00\\x07~\\x00\\x00\\x048\\x08\\x06\\x00\\x00\\x00\\xe6V}i\\x00\\x00\\x00\\tpHYs\\x00\\x00\\x12t\\x00\\x00\\x12t\\x01\\xdef\\x1fx\\x00\\x00\\x00\\x11tEXtSoftware\\x00Snipaste]\\x17\\xce\\xdd\\x00\\x00 \\x00IDATx\\x9c\\xec\\xbdI\\xb3%\\xc9u\\xe7\\xf7\\xf3!\\xa6;\\xbd)_fVe%\\xabP\\x05\\xa00\\x15\\x00\\xa2\\x1b\\x04\\x08c\\xb7\\x1a\\xcdnY\\x93jIf\\x92L\\x0b}\\nm\\xf5%\\xb4\\xd3J\\x1b\\xc9\\xb8\\x90If\\xbd\\x90\\xc9d\\xd6\\xd2\\xa2Mm\\xad\\x16\\xd9@\\x13\\x00I\\x90\\x04\\x81*\\xd4\\x90\\x99\\x95\\xf9\\xf2\\xcd\\xef\\x0e1\\xf9\\xa0E\\\\\\xbf\\xe9\\xcf\\xf3\\xde\\xac\\x02M\\x0b-\\xe8i\\x91\\xf7\\xbe\\x1b\\x11\\x1e\\xc7\\x8f\\x1fw?\\xe7\\xfc\\x8f\\x9f\\x100\\xf2P\\x01\\x1e\\xe8\\x80\\x16\\xe8\\x01@\\x0c\\x1f:\\x13\\x14\\xb9\\xc6\\x18G\\xd7:\\xbc\\x17 \\x04(\\x87\\xae\\xe0[\\xdf\\xbd\\xcf\\x0f\\xff\\xc3w\\xb9\\x9e?\\xe7/~\\xfe\\x01O>\\xe9\\xe8\\x1a\\xcf\\xc1\\xde\\x1e\\x7f\\xf0\\x87?\\xe4\\xb7\\xde|\\x8d\\xff\\xe3\\xff\\xfc\\xdf\\xf9\\xf7?{\\x8c(\\x15N\\t\\xae\\x9e\\xf6\\xd8k\\x0f\\x0e\\xa63\\xcd\\xf1A\\xc9\\x9d\\xc3=\\x8cu|\\xf0\\xe1\\t.\\x13\\xfc\\xd7\\xff\\xcd?\\xe7w~\\xef\\x9b\\xa8R\\xf0/\\xff\\xd5\\xbf\\xe2G\\x7f\\xfas\\x9a\\xba\\xe7`o\\xc6t4\\xe6{\\x7f\\xefw\\xf8\\xc1w\\xbf\\xcf8+\\xb8:\\xbd@X\\xc7\\xd1\\xde\\x01\\xf7\\x8e\\xef\\xf1\\xfc\\xd3g\\xfc\\xe8O~\\xc4\\xff\\xf5\\xe3\\x9f\\xf0\\x97\\x8f\\x9erv9\\xe7\\xf4\\xd3\\x96\\xfe\\nT\\x06\\x07\\xf7\\xe0\\xddw\\xef\\xf1\\x1f\\xff\\xe1?\\xe3\\xdb\\xdf|\\x8f\\xd9x\\xcc\\x9d\\xa3C2-\\xe8\\x9a\\x8e\\xc2\\x16\\xa8\\x95F9\\x85\\x94\\x12!\\xc4\\xd6\\xe3V\\xf1\\xe0\\x9d\\xa2\\x109\\x85\\xf2\\xb8\\xc5\\xa7\\x9c\\xfe\\xfaO9\\xfd\\xe8\\xa7\\xb4\\xa7\\x1f\\x90\\xf7Wd\\xfd\\x92n\\xde\\xd1\\xcc\\x076W%\\x8c\\xc7\\x19z, \\xef@\\x0e\\xac5=4\\r\\xb4\\xedpX\\x03E\\x01\\xa3\\x91 \\xcfJ'\n"
     ]
    }
   ],
   "source": [
    "f = open('img.png','rb')\n",
    "print(f.read(500))\n",
    "f.close()"
   ]
  },
  {
   "cell_type": "code",
   "execution_count": 32,
   "metadata": {},
   "outputs": [
    {
     "name": "stdout",
     "output_type": "stream",
     "text": [
      "# -*- utf-8 -*-\n",
      "\n",
      "foo = 0\n",
      "\n",
      "def show():\n",
      "    print(foo)\n",
      "\n",
      "\n",
      "def fib_yield(n):\n"
     ]
    }
   ],
   "source": [
    "f = open('mm.py','rb')\n",
    "print(f.read(80).decode('ascii'))\n",
    "f.close()"
   ]
  },
  {
   "cell_type": "code",
   "execution_count": 38,
   "metadata": {},
   "outputs": [
    {
     "name": "stdout",
     "output_type": "stream",
     "text": [
      "# -*- utf-8 -*-\n",
      "\n",
      "foo = 0\n",
      "\n",
      "def show():\n",
      "    print(foo)\n",
      "\n",
      "\n",
      "def fib_yield(n):\n"
     ]
    }
   ],
   "source": [
    "import codecs\n",
    "with codecs.open('mm.py','rb','gbk') as f:\n",
    "    print(f.read(80))"
   ]
  },
  {
   "cell_type": "code",
   "execution_count": 52,
   "metadata": {},
   "outputs": [],
   "source": [
    "# 如果是 w, 会重新写入. 如果文件不存在会创建,如果路径不存在会抛出错误.\n",
    "# a 模式\n",
    "with open('mm.py','a') as f:\n",
    "    f.writelines('\\n# write')"
   ]
  },
  {
   "cell_type": "code",
   "execution_count": 71,
   "metadata": {},
   "outputs": [
    {
     "data": {
      "text/plain": [
       "['nt',\n",
       " <module 'ntpath' from 'd:\\\\software\\\\Anaconda3\\\\envs\\\\ai\\\\lib\\\\ntpath.py'>,\n",
       " '.',\n",
       " '..',\n",
       " '\\\\']"
      ]
     },
     "execution_count": 71,
     "metadata": {},
     "output_type": "execute_result"
    }
   ],
   "source": [
    "[os.name, os.path, os.curdir, os.pardir, os.sep]"
   ]
  },
  {
   "cell_type": "code",
   "execution_count": 72,
   "metadata": {},
   "outputs": [
    {
     "data": {
      "text/plain": [
       "environ{'ADSK_3DSMAX_X64_2018': 'D:\\\\software\\\\3dmax\\\\3ds Max 2018\\\\',\n",
       "        'ADSK_CLM_WPAD_PROXY_CHECK': 'FALSE',\n",
       "        'ALLUSERSPROFILE': 'C:\\\\ProgramData',\n",
       "        'APPDATA': 'C:\\\\Users\\\\bluove\\\\AppData\\\\Roaming',\n",
       "        'CHOCOLATEYINSTALL': 'C:\\\\ProgramData\\\\chocolatey',\n",
       "        'CHOCOLATEYLASTPATHUPDATE': '周三 5月 23 10:24:46 2018',\n",
       "        'CHOCOLATEYTOOLSLOCATION': 'C:\\\\tools',\n",
       "        'COMMONPROGRAMFILES': 'C:\\\\Program Files\\\\Common Files',\n",
       "        'COMMONPROGRAMFILES(X86)': 'C:\\\\Program Files (x86)\\\\Common Files',\n",
       "        'COMMONPROGRAMW6432': 'C:\\\\Program Files\\\\Common Files',\n",
       "        'COMPUTERNAME': 'HASEE',\n",
       "        'COMSPEC': 'C:\\\\WINDOWS\\\\system32\\\\cmd.exe',\n",
       "        'CONDA_DEFAULT_ENV': 'ai',\n",
       "        'CONDA_EXE': 'd:\\\\software\\\\Anaconda3\\\\Scripts\\\\conda.exe',\n",
       "        'CONDA_PREFIX': 'd:\\\\software\\\\Anaconda3\\\\envs\\\\ai',\n",
       "        'CONDA_PROMPT_MODIFIER': '(ai) ',\n",
       "        'CONDA_PYTHON_EXE': 'd:\\\\software\\\\Anaconda3\\\\python.exe',\n",
       "        'CONDA_SHLVL': '1',\n",
       "        'CUDA_PATH': 'C:\\\\Program Files\\\\NVIDIA GPU Computing Toolkit\\\\CUDA\\\\v9.0',\n",
       "        'CUDA_PATH_V8_0': 'C:\\\\Program Files\\\\NVIDIA GPU Computing Toolkit\\\\CUDA\\\\v8.0',\n",
       "        'CUDA_PATH_V9_0': 'C:\\\\Program Files\\\\NVIDIA GPU Computing Toolkit\\\\CUDA\\\\v9.0',\n",
       "        'CUDA_PATH_V9_1': 'C:\\\\Program Files\\\\NVIDIA GPU Computing Toolkit\\\\CUDA\\\\v9.1',\n",
       "        'DXSDK_DIR': 'C:\\\\Program Files (x86)\\\\Microsoft DirectX SDK (June 2010)\\\\',\n",
       "        'FPS_BROWSER_APP_PROFILE_STRING': 'Internet Explorer',\n",
       "        'FPS_BROWSER_USER_PROFILE_STRING': 'Default',\n",
       "        'FSHARPINSTALLDIR': 'C:\\\\Program Files (x86)\\\\Microsoft SDKs\\\\F#\\\\10.1\\\\Framework\\\\v4.0\\\\',\n",
       "        'GOPATH': 'd:\\\\sync-cs\\\\GO\\\\',\n",
       "        'HOMEDRIVE': 'C:',\n",
       "        'HOMEPATH': '\\\\Users\\\\bluove',\n",
       "        'LOCALAPPDATA': 'C:\\\\Users\\\\bluove\\\\AppData\\\\Local',\n",
       "        'LOGONSERVER': '\\\\\\\\HASEE',\n",
       "        'MOZ_PLUGIN_PATH': 'D:\\\\software\\\\FoxitReader\\\\Foxit Editer\\\\Foxit Phantom\\\\plugins\\\\',\n",
       "        'MSMPI_BIN': 'C:\\\\Program Files\\\\Microsoft MPI\\\\Bin\\\\',\n",
       "        'NUMBER_OF_PROCESSORS': '8',\n",
       "        'NVCUDASAMPLES8_0_ROOT': 'C:\\\\ProgramData\\\\NVIDIA Corporation\\\\CUDA Samples\\\\v8.0',\n",
       "        'NVCUDASAMPLES9_0_ROOT': 'C:\\\\ProgramData\\\\NVIDIA Corporation\\\\CUDA Samples\\\\v9.0',\n",
       "        'NVCUDASAMPLES9_1_ROOT': 'C:\\\\ProgramData\\\\NVIDIA Corporation\\\\CUDA Samples\\\\v9.1',\n",
       "        'NVCUDASAMPLES_ROOT': 'C:\\\\ProgramData\\\\NVIDIA Corporation\\\\CUDA Samples\\\\v9.0',\n",
       "        'NVTOOLSEXT_PATH': 'C:\\\\Program Files\\\\NVIDIA Corporation\\\\NvToolsExt\\\\',\n",
       "        'ONEDRIVE': 'C:\\\\Users\\\\bluove\\\\OneDrive',\n",
       "        'OOMMF_THREADS': '7',\n",
       "        'OS': 'Windows_NT',\n",
       "        'PATH': 'd:\\\\software\\\\Anaconda3\\\\envs\\\\ai;d:\\\\software\\\\Anaconda3\\\\envs\\\\ai\\\\Library\\\\mingw-w64\\\\bin;d:\\\\software\\\\Anaconda3\\\\envs\\\\ai\\\\Library\\\\usr\\\\bin;d:\\\\software\\\\Anaconda3\\\\envs\\\\ai\\\\Library\\\\bin;d:\\\\software\\\\Anaconda3\\\\envs\\\\ai\\\\Scripts;d:\\\\software\\\\Anaconda3\\\\envs\\\\ai\\\\bin;C:\\\\Program Files (x86)\\\\Common Files\\\\Oracle\\\\Java\\\\javapath;C:\\\\Program Files\\\\Microsoft MPI\\\\Bin\\\\;C:\\\\Program Files\\\\NVIDIA GPU Computing Toolkit\\\\CUDA\\\\v9.0\\\\bin;C:\\\\Program Files\\\\NVIDIA GPU Computing Toolkit\\\\CUDA\\\\v9.0\\\\libnvvp;C:\\\\Program Files\\\\NVIDIA GPU Computing Toolkit\\\\CUDA\\\\v9.1\\\\bin;C:\\\\Program Files\\\\NVIDIA GPU Computing Toolkit\\\\CUDA\\\\v9.1\\\\libnvvp;c:\\\\Program Files\\\\NVIDIA GPU Computing Toolkit\\\\CUDA\\\\v9.0\\\\lib\\\\x64\\\\;c:\\\\cuda\\\\lib\\\\x64\\\\;c:\\\\Program Files\\\\NVIDIA GPU Computing Toolkit\\\\CUDA\\\\v8.0\\\\bin\\\\;c:\\\\Program Files\\\\NVIDIA GPU Computing Toolkit\\\\CUDA\\\\v8.0\\\\lib\\\\x64\\\\;C:\\\\Program Files\\\\NVIDIA GPU Computing Toolkit\\\\CUDA\\\\v8.0\\\\libnvvp;c:\\\\Program Files\\\\NVIDIA GPU Computing Toolkit\\\\CUDA\\\\v9.1\\\\lib\\\\x64\\\\;C:\\\\Program Files\\\\Docker\\\\Docker\\\\Resources\\\\bin;C:\\\\ActiveTcl\\\\bin;C:\\\\Program Files (x86)\\\\Intel\\\\iCLS Client\\\\;C:\\\\Program Files\\\\Intel\\\\iCLS Client\\\\;C:\\\\Windows\\\\system32;C:\\\\Windows;C:\\\\Windows\\\\System32\\\\Wbem;C:\\\\Windows\\\\System32\\\\WindowsPowerShell\\\\v1.0\\\\;C:\\\\Program Files (x86)\\\\NVIDIA Corporation\\\\PhysX\\\\Common;C:\\\\Program Files (x86)\\\\Intel\\\\Intel(R) Management Engine Components\\\\DAL;C:\\\\Program Files\\\\Intel\\\\Intel(R) Management Engine Components\\\\DAL;C:\\\\Program Files (x86)\\\\Intel\\\\Intel(R) Management Engine Components\\\\IPT;C:\\\\Program Files\\\\Intel\\\\Intel(R) Management Engine Components\\\\IPT;C:\\\\Program Files\\\\Intel\\\\WiFi\\\\bin\\\\;C:\\\\Program Files\\\\Common Files\\\\Intel\\\\WirelessCommon\\\\;C:\\\\Program Files\\\\Common Files\\\\Autodesk Shared\\\\;C:\\\\Program Files (x86)\\\\Autodesk\\\\Backburner\\\\;d:\\\\software\\\\shoutcuts;C:\\\\WINDOWS\\\\system32;C:\\\\WINDOWS;C:\\\\WINDOWS\\\\System32\\\\Wbem;C:\\\\WINDOWS\\\\System32\\\\WindowsPowerShell\\\\v1.0\\\\;D:\\\\software\\\\PuTTY\\\\;D:\\\\software\\\\Calibre\\\\;D:\\\\software\\\\install\\\\curl-7.60.0-win64-mingw\\\\bin;d:\\\\software\\\\Anaconda3\\\\Scripts\\\\;d:\\\\software\\\\Git\\\\cmd;d:\\\\software\\\\Chocolatey\\\\chocInstall\\\\tools\\\\chocolateyInstall\\\\;d:\\\\software\\\\mumax3\\\\;C:\\\\software\\\\Anaconda3\\\\Scripts;d:\\\\software\\\\gnuplot\\\\bin\\\\;c:\\\\Users\\\\bluove\\\\AppData\\\\Roaming\\\\Python\\\\Python36\\\\Scripts\\\\;d:\\\\software\\\\mumax3\\\\V3.9.1\\\\;d:\\\\software\\\\mumax3\\\\V3.9.1-copy1\\\\;d:\\\\software\\\\mumax3\\\\V3.9.1-copy2\\\\;D:\\\\software\\\\ActiveTcl\\\\bin;d:\\\\software\\\\shoutcuts;E:\\\\software\\\\Tcl\\\\bin;C:\\\\Users\\\\bluove\\\\AppData\\\\Local\\\\Microsoft\\\\WindowsApps;C:\\\\ActiveTcl\\\\bin;C:\\\\Program Files\\\\NVIDIA GPU Computing Toolkit\\\\CUDA\\\\v8.0\\\\bin;C:\\\\Program Files\\\\NVIDIA GPU Computing Toolkit\\\\CUDA\\\\v8.0\\\\libnvvp;C:\\\\Program Files (x86)\\\\Intel\\\\iCLS Client\\\\;C:\\\\Program Files\\\\Intel\\\\iCLS Client\\\\;C:\\\\Windows\\\\system32;C:\\\\Windows;C:\\\\Windows\\\\System32\\\\Wbem;C:\\\\Windows\\\\System32\\\\WindowsPowerShell\\\\v1.0\\\\;C:\\\\Program Files (x86)\\\\NVIDIA Corporation\\\\PhysX\\\\Common;C:\\\\Program Files (x86)\\\\Intel\\\\Intel(R) Management Engine Components\\\\DAL;C:\\\\Program Files\\\\Intel\\\\Intel(R) Management Engine Components\\\\DAL;C:\\\\Program Files (x86)\\\\Intel\\\\Intel(R) Management Engine Components\\\\IPT;C:\\\\Program Files\\\\Intel\\\\Intel(R) Management Engine Components\\\\IPT;C:\\\\Program Files\\\\Intel\\\\WiFi\\\\bin\\\\;C:\\\\Program Files\\\\Common Files\\\\Intel\\\\WirelessCommon\\\\;C:\\\\Program Files\\\\Common Files\\\\Autodesk Shared\\\\;C:\\\\Program Files (x86)\\\\Autodesk\\\\Backburner\\\\;C:\\\\WINDOWS\\\\system32;C:\\\\WINDOWS;C:\\\\WINDOWS\\\\System32\\\\Wbem;C:\\\\WINDOWS\\\\System32\\\\Window;C:\\\\Program Files\\\\Microsoft VS Code\\\\bin;C:\\\\software\\\\Microsoft VS Code\\\\bin;d:\\\\software\\\\mumax3\\\\V3.9.1-copy3\\\\;d:\\\\software\\\\mumax3\\\\V3.9.1-copy4\\\\;d:\\\\software\\\\VScode\\\\bin;d:\\\\software\\\\MiKTeX2.9\\\\miktex\\\\bin\\\\x64\\\\',\n",
       "        'PATHEXT': '.COM;.EXE;.BAT;.CMD;.VBS;.VBE;.JS;.JSE;.WSF;.WSH;.MSC',\n",
       "        'PROCESSOR_ARCHITECTURE': 'AMD64',\n",
       "        'PROCESSOR_IDENTIFIER': 'Intel64 Family 6 Model 158 Stepping 9, GenuineIntel',\n",
       "        'PROCESSOR_LEVEL': '6',\n",
       "        'PROCESSOR_REVISION': '9e09',\n",
       "        'PROGRAMDATA': 'C:\\\\ProgramData',\n",
       "        'PROGRAMFILES': 'C:\\\\Program Files',\n",
       "        'PROGRAMFILES(X86)': 'C:\\\\Program Files (x86)',\n",
       "        'PROGRAMW6432': 'C:\\\\Program Files',\n",
       "        'PROMPT': '(ai) $P$G',\n",
       "        'PSMODULEPATH': 'C:\\\\Program Files\\\\WindowsPowerShell\\\\Modules;C:\\\\WINDOWS\\\\system32\\\\WindowsPowerShell\\\\v1.0\\\\Modules',\n",
       "        'PUBLIC': 'C:\\\\Users\\\\Public',\n",
       "        'PYTHONIOENCODING': '936',\n",
       "        'SESSIONNAME': 'Console',\n",
       "        'SYSTEMDRIVE': 'C:',\n",
       "        'SYSTEMROOT': 'C:\\\\WINDOWS',\n",
       "        'TEMP': 'C:\\\\Users\\\\bluove\\\\AppData\\\\Local\\\\Temp',\n",
       "        'TMP': 'C:\\\\Users\\\\bluove\\\\AppData\\\\Local\\\\Temp',\n",
       "        'USERDOMAIN': 'HASEE',\n",
       "        'USERDOMAIN_ROAMINGPROFILE': 'HASEE',\n",
       "        'USERNAME': 'bluove',\n",
       "        'USERPROFILE': 'C:\\\\Users\\\\bluove',\n",
       "        'VBOX_MSI_INSTALL_PATH': 'C:\\\\Program Files\\\\Oracle\\\\VirtualBox\\\\',\n",
       "        'VS140COMNTOOLS': 'C:\\\\Program Files (x86)\\\\Microsoft Visual Studio 14.0\\\\Common7\\\\Tools\\\\',\n",
       "        'WINDIR': 'C:\\\\WINDOWS',\n",
       "        'JPY_INTERRUPT_EVENT': '3256',\n",
       "        'IPY_INTERRUPT_EVENT': '3256',\n",
       "        'JPY_PARENT_PID': '4080',\n",
       "        'TERM': 'xterm-color',\n",
       "        'CLICOLOR': '1',\n",
       "        'PAGER': 'cat',\n",
       "        'GIT_PAGER': 'cat',\n",
       "        'MPLBACKEND': 'module://ipykernel.pylab.backend_inline'}"
      ]
     },
     "execution_count": 72,
     "metadata": {},
     "output_type": "execute_result"
    }
   ],
   "source": [
    "os.environ"
   ]
  },
  {
   "cell_type": "code",
   "execution_count": 74,
   "metadata": {},
   "outputs": [
    {
     "data": {
      "text/plain": [
       "'d:\\\\software\\\\Anaconda3\\\\envs\\\\ai;d:\\\\software\\\\Anaconda3\\\\envs\\\\ai\\\\Library\\\\mingw-w64\\\\bin;d:\\\\software\\\\Anaconda3\\\\envs\\\\ai\\\\Library\\\\usr\\\\bin;d:\\\\software\\\\Anaconda3\\\\envs\\\\ai\\\\Library\\\\bin;d:\\\\software\\\\Anaconda3\\\\envs\\\\ai\\\\Scripts;d:\\\\software\\\\Anaconda3\\\\envs\\\\ai\\\\bin;C:\\\\Program Files (x86)\\\\Common Files\\\\Oracle\\\\Java\\\\javapath;C:\\\\Program Files\\\\Microsoft MPI\\\\Bin\\\\;C:\\\\Program Files\\\\NVIDIA GPU Computing Toolkit\\\\CUDA\\\\v9.0\\\\bin;C:\\\\Program Files\\\\NVIDIA GPU Computing Toolkit\\\\CUDA\\\\v9.0\\\\libnvvp;C:\\\\Program Files\\\\NVIDIA GPU Computing Toolkit\\\\CUDA\\\\v9.1\\\\bin;C:\\\\Program Files\\\\NVIDIA GPU Computing Toolkit\\\\CUDA\\\\v9.1\\\\libnvvp;c:\\\\Program Files\\\\NVIDIA GPU Computing Toolkit\\\\CUDA\\\\v9.0\\\\lib\\\\x64\\\\;c:\\\\cuda\\\\lib\\\\x64\\\\;c:\\\\Program Files\\\\NVIDIA GPU Computing Toolkit\\\\CUDA\\\\v8.0\\\\bin\\\\;c:\\\\Program Files\\\\NVIDIA GPU Computing Toolkit\\\\CUDA\\\\v8.0\\\\lib\\\\x64\\\\;C:\\\\Program Files\\\\NVIDIA GPU Computing Toolkit\\\\CUDA\\\\v8.0\\\\libnvvp;c:\\\\Program Files\\\\NVIDIA GPU Computing Toolkit\\\\CUDA\\\\v9.1\\\\lib\\\\x64\\\\;C:\\\\Program Files\\\\Docker\\\\Docker\\\\Resources\\\\bin;C:\\\\ActiveTcl\\\\bin;C:\\\\Program Files (x86)\\\\Intel\\\\iCLS Client\\\\;C:\\\\Program Files\\\\Intel\\\\iCLS Client\\\\;C:\\\\Windows\\\\system32;C:\\\\Windows;C:\\\\Windows\\\\System32\\\\Wbem;C:\\\\Windows\\\\System32\\\\WindowsPowerShell\\\\v1.0\\\\;C:\\\\Program Files (x86)\\\\NVIDIA Corporation\\\\PhysX\\\\Common;C:\\\\Program Files (x86)\\\\Intel\\\\Intel(R) Management Engine Components\\\\DAL;C:\\\\Program Files\\\\Intel\\\\Intel(R) Management Engine Components\\\\DAL;C:\\\\Program Files (x86)\\\\Intel\\\\Intel(R) Management Engine Components\\\\IPT;C:\\\\Program Files\\\\Intel\\\\Intel(R) Management Engine Components\\\\IPT;C:\\\\Program Files\\\\Intel\\\\WiFi\\\\bin\\\\;C:\\\\Program Files\\\\Common Files\\\\Intel\\\\WirelessCommon\\\\;C:\\\\Program Files\\\\Common Files\\\\Autodesk Shared\\\\;C:\\\\Program Files (x86)\\\\Autodesk\\\\Backburner\\\\;d:\\\\software\\\\shoutcuts;C:\\\\WINDOWS\\\\system32;C:\\\\WINDOWS;C:\\\\WINDOWS\\\\System32\\\\Wbem;C:\\\\WINDOWS\\\\System32\\\\WindowsPowerShell\\\\v1.0\\\\;D:\\\\software\\\\PuTTY\\\\;D:\\\\software\\\\Calibre\\\\;D:\\\\software\\\\install\\\\curl-7.60.0-win64-mingw\\\\bin;d:\\\\software\\\\Anaconda3\\\\Scripts\\\\;d:\\\\software\\\\Git\\\\cmd;d:\\\\software\\\\Chocolatey\\\\chocInstall\\\\tools\\\\chocolateyInstall\\\\;d:\\\\software\\\\mumax3\\\\;C:\\\\software\\\\Anaconda3\\\\Scripts;d:\\\\software\\\\gnuplot\\\\bin\\\\;c:\\\\Users\\\\bluove\\\\AppData\\\\Roaming\\\\Python\\\\Python36\\\\Scripts\\\\;d:\\\\software\\\\mumax3\\\\V3.9.1\\\\;d:\\\\software\\\\mumax3\\\\V3.9.1-copy1\\\\;d:\\\\software\\\\mumax3\\\\V3.9.1-copy2\\\\;D:\\\\software\\\\ActiveTcl\\\\bin;d:\\\\software\\\\shoutcuts;E:\\\\software\\\\Tcl\\\\bin;C:\\\\Users\\\\bluove\\\\AppData\\\\Local\\\\Microsoft\\\\WindowsApps;C:\\\\ActiveTcl\\\\bin;C:\\\\Program Files\\\\NVIDIA GPU Computing Toolkit\\\\CUDA\\\\v8.0\\\\bin;C:\\\\Program Files\\\\NVIDIA GPU Computing Toolkit\\\\CUDA\\\\v8.0\\\\libnvvp;C:\\\\Program Files (x86)\\\\Intel\\\\iCLS Client\\\\;C:\\\\Program Files\\\\Intel\\\\iCLS Client\\\\;C:\\\\Windows\\\\system32;C:\\\\Windows;C:\\\\Windows\\\\System32\\\\Wbem;C:\\\\Windows\\\\System32\\\\WindowsPowerShell\\\\v1.0\\\\;C:\\\\Program Files (x86)\\\\NVIDIA Corporation\\\\PhysX\\\\Common;C:\\\\Program Files (x86)\\\\Intel\\\\Intel(R) Management Engine Components\\\\DAL;C:\\\\Program Files\\\\Intel\\\\Intel(R) Management Engine Components\\\\DAL;C:\\\\Program Files (x86)\\\\Intel\\\\Intel(R) Management Engine Components\\\\IPT;C:\\\\Program Files\\\\Intel\\\\Intel(R) Management Engine Components\\\\IPT;C:\\\\Program Files\\\\Intel\\\\WiFi\\\\bin\\\\;C:\\\\Program Files\\\\Common Files\\\\Intel\\\\WirelessCommon\\\\;C:\\\\Program Files\\\\Common Files\\\\Autodesk Shared\\\\;C:\\\\Program Files (x86)\\\\Autodesk\\\\Backburner\\\\;C:\\\\WINDOWS\\\\system32;C:\\\\WINDOWS;C:\\\\WINDOWS\\\\System32\\\\Wbem;C:\\\\WINDOWS\\\\System32\\\\Window;C:\\\\Program Files\\\\Microsoft VS Code\\\\bin;C:\\\\software\\\\Microsoft VS Code\\\\bin;d:\\\\software\\\\mumax3\\\\V3.9.1-copy3\\\\;d:\\\\software\\\\mumax3\\\\V3.9.1-copy4\\\\;d:\\\\software\\\\VScode\\\\bin;d:\\\\software\\\\MiKTeX2.9\\\\miktex\\\\bin\\\\x64\\\\'"
      ]
     },
     "execution_count": 74,
     "metadata": {},
     "output_type": "execute_result"
    }
   ],
   "source": [
    "os.getenv('PATH')"
   ]
  },
  {
   "cell_type": "code",
   "execution_count": 88,
   "metadata": {},
   "outputs": [],
   "source": [
    "os.path.abspath(os.curdir)\n",
    "os.mkdir( os.path.join('d:\\\\sync-cs\\\\bluoveGitHub\\\\note-on-cs\\\\python', 'testdir') )"
   ]
  },
  {
   "cell_type": "code",
   "execution_count": 89,
   "metadata": {},
   "outputs": [],
   "source": [
    "os.rmdir( os.path.join('d:\\\\sync-cs\\\\bluoveGitHub\\\\note-on-cs\\\\python', 'testdir') )"
   ]
  },
  {
   "cell_type": "code",
   "execution_count": 98,
   "metadata": {},
   "outputs": [
    {
     "name": "stdout",
     "output_type": "stream",
     "text": [
      "('d:\\\\a\\\\b\\\\c', 'd.py')\n",
      "('d:\\\\a\\\\b\\\\c\\\\d', '.py')\n"
     ]
    }
   ],
   "source": [
    "print(os.path.split('d:\\\\a\\\\b\\\\c\\\\d.py'))\n",
    "print(os.path.splitext('d:\\\\a\\\\b\\\\c\\\\d.py'))"
   ]
  },
  {
   "cell_type": "code",
   "execution_count": 91,
   "metadata": {},
   "outputs": [
    {
     "data": {
      "text/plain": [
       "['.ipynb_checkpoints', '__pycache__']"
      ]
     },
     "execution_count": 91,
     "metadata": {},
     "output_type": "execute_result"
    }
   ],
   "source": [
    "[x for x in os.listdir('.') if os.path.isdir(x)]"
   ]
  },
  {
   "cell_type": "code",
   "execution_count": 104,
   "metadata": {},
   "outputs": [
    {
     "data": {
      "text/plain": [
       "['mm.py']"
      ]
     },
     "execution_count": 104,
     "metadata": {},
     "output_type": "execute_result"
    }
   ],
   "source": [
    "[x for x in os.listdir('.') if os.path.isfile(x) and os.path.splitext(x)[1]=='.py']"
   ]
  },
  {
   "cell_type": "code",
   "execution_count": 114,
   "metadata": {},
   "outputs": [
    {
     "data": {
      "text/plain": [
       "['.ipynb',\n",
       " '.ipynb_checkpoints',\n",
       " 'img.png',\n",
       " 'leetcode-top100linked.ipynb',\n",
       " 'matplotlib-最常见的画图需求.ipynb',\n",
       " 'mm.py',\n",
       " 'numpy复习笔记1.ipynb',\n",
       " 'python -3 days review python for data science.ipynb',\n",
       " 'python -复习.ipynb',\n",
       " 'python -廖雪峰的官方网站python教程.ipynb',\n",
       " 'python -语法练习.ipynb',\n",
       " 'python-advanced--IO,进程,线程.ipynb',\n",
       " 'python-advanced--OOP.ipynb',\n",
       " 'python-advanced--RE,常用模块.ipynb',\n",
       " 'python-advanced--yield,生成器, 协程, 模块, 内存管理.ipynb',\n",
       " 'python-advanced--函数式.ipynb',\n",
       " 'python-advanced--矩阵操作极限.ipynb',\n",
       " '__pycache__']"
      ]
     },
     "execution_count": 114,
     "metadata": {},
     "output_type": "execute_result"
    }
   ],
   "source": [
    "os.listdir('.')"
   ]
  },
  {
   "cell_type": "markdown",
   "metadata": {},
   "source": [
    "### 序列化\n",
    "\n",
    "我们把变量从内存中变成可存储或传输的过程称之为序列化，在 Python 中叫 pickling，在\n",
    "其他语言中也被称之为 serialization，marshalling，flattening 等等，都是一个意思。"
   ]
  },
  {
   "cell_type": "code",
   "execution_count": 117,
   "metadata": {},
   "outputs": [],
   "source": [
    "try:\n",
    "    import cPickle as pickle\n",
    "except ImportError:\n",
    "    import pickle"
   ]
  },
  {
   "cell_type": "code",
   "execution_count": 121,
   "metadata": {},
   "outputs": [
    {
     "data": {
      "text/plain": [
       "{'name': 'haha', 'age': 99}"
      ]
     },
     "execution_count": 121,
     "metadata": {},
     "output_type": "execute_result"
    }
   ],
   "source": [
    "d = dict(name='haha', age=99)\n",
    "d"
   ]
  },
  {
   "cell_type": "code",
   "execution_count": 126,
   "metadata": {},
   "outputs": [
    {
     "name": "stdout",
     "output_type": "stream",
     "text": [
      "{'name': 'haha', 'age': 99}\n"
     ]
    }
   ],
   "source": [
    "with open('.\\\\pickling.txt','wb') as f:\n",
    "    pickle.dump(d,f)\n",
    "with open('.\\\\pickling.txt','rb') as f:\n",
    "    print(pickle.load(f))"
   ]
  },
  {
   "cell_type": "code",
   "execution_count": 130,
   "metadata": {},
   "outputs": [
    {
     "name": "stdout",
     "output_type": "stream",
     "text": [
      "b'\\x80\\x03}q\\x00(X\\x04\\x00\\x00\\x00nameq\\x01X\\x04\\x00\\x00\\x00hahaq\\x02X\\x03\\x00\\x00\\x00ageq\\x03Kcu.'\n"
     ]
    },
    {
     "data": {
      "text/plain": [
       "{'name': 'haha', 'age': 99}"
      ]
     },
     "execution_count": 130,
     "metadata": {},
     "output_type": "execute_result"
    }
   ],
   "source": [
    "cache = pickle.dumps(d)\n",
    "print(cache)\n",
    "pickle.loads(cache)"
   ]
  },
  {
   "cell_type": "code",
   "execution_count": 132,
   "metadata": {},
   "outputs": [
    {
     "name": "stdout",
     "output_type": "stream",
     "text": [
      "{\"name\": \"haha\", \"age\": 99}\n"
     ]
    },
    {
     "data": {
      "text/plain": [
       "{'name': 'haha', 'age': 99}"
      ]
     },
     "execution_count": 132,
     "metadata": {},
     "output_type": "execute_result"
    }
   ],
   "source": [
    "import json\n",
    "cache = json.dumps(d)\n",
    "print(cache)\n",
    "json.loads(cache)"
   ]
  },
  {
   "cell_type": "code",
   "execution_count": 151,
   "metadata": {},
   "outputs": [],
   "source": [
    "class Student(object):\n",
    "    def __init__(self,a,b):\n",
    "        self.a = a\n",
    "        self.b = b\n",
    "s = Student(2,3)"
   ]
  },
  {
   "cell_type": "code",
   "execution_count": 152,
   "metadata": {},
   "outputs": [
    {
     "name": "stdout",
     "output_type": "stream",
     "text": [
      "b'\\x80\\x03c__main__\\nStudent\\nq\\x00)\\x81q\\x01}q\\x02(X\\x01\\x00\\x00\\x00aq\\x03K\\x02X\\x01\\x00\\x00\\x00bq\\x04K\\x03ub.'\n"
     ]
    },
    {
     "data": {
      "text/plain": [
       "<__main__.Student at 0x1915e2e0240>"
      ]
     },
     "execution_count": 152,
     "metadata": {},
     "output_type": "execute_result"
    }
   ],
   "source": [
    "cache = pickle.dumps(s)\n",
    "print(cache)\n",
    "pickle.loads(cache)"
   ]
  },
  {
   "cell_type": "code",
   "execution_count": 160,
   "metadata": {},
   "outputs": [
    {
     "name": "stdout",
     "output_type": "stream",
     "text": [
      "{\"a\": 2, \"b\": 3}\n"
     ]
    },
    {
     "data": {
      "text/plain": [
       "<__main__.Student at 0x1915e2ef208>"
      ]
     },
     "execution_count": 160,
     "metadata": {},
     "output_type": "execute_result"
    }
   ],
   "source": [
    "# Studeng 不是一个课序列化为JSON的对象\n",
    "# cache = json.dumps(s)\n",
    "\n",
    "def student2dict(ss):\n",
    "    return {'a':ss.a, 'b':ss.b}\n",
    "cache = json.dumps(s, default=student2dict)\n",
    "print(cache)\n",
    "def dict2student(dd):\n",
    "    return Student(dd['a'], dd['b'])\n",
    "json.loads(cache, object_hook=dict2student)"
   ]
  },
  {
   "cell_type": "code",
   "execution_count": null,
   "metadata": {},
   "outputs": [],
   "source": []
  },
  {
   "cell_type": "code",
   "execution_count": null,
   "metadata": {},
   "outputs": [],
   "source": []
  },
  {
   "cell_type": "code",
   "execution_count": null,
   "metadata": {},
   "outputs": [],
   "source": []
  },
  {
   "cell_type": "code",
   "execution_count": null,
   "metadata": {},
   "outputs": [],
   "source": []
  },
  {
   "cell_type": "code",
   "execution_count": null,
   "metadata": {},
   "outputs": [],
   "source": []
  },
  {
   "cell_type": "code",
   "execution_count": null,
   "metadata": {},
   "outputs": [],
   "source": []
  },
  {
   "cell_type": "code",
   "execution_count": null,
   "metadata": {},
   "outputs": [],
   "source": []
  },
  {
   "cell_type": "code",
   "execution_count": null,
   "metadata": {},
   "outputs": [],
   "source": []
  },
  {
   "cell_type": "code",
   "execution_count": null,
   "metadata": {},
   "outputs": [],
   "source": []
  },
  {
   "cell_type": "code",
   "execution_count": null,
   "metadata": {},
   "outputs": [],
   "source": []
  },
  {
   "cell_type": "code",
   "execution_count": null,
   "metadata": {},
   "outputs": [],
   "source": []
  },
  {
   "cell_type": "code",
   "execution_count": null,
   "metadata": {},
   "outputs": [],
   "source": []
  },
  {
   "cell_type": "code",
   "execution_count": null,
   "metadata": {},
   "outputs": [],
   "source": []
  },
  {
   "cell_type": "code",
   "execution_count": null,
   "metadata": {},
   "outputs": [],
   "source": []
  },
  {
   "cell_type": "code",
   "execution_count": null,
   "metadata": {},
   "outputs": [],
   "source": []
  },
  {
   "cell_type": "code",
   "execution_count": null,
   "metadata": {},
   "outputs": [],
   "source": []
  },
  {
   "cell_type": "code",
   "execution_count": null,
   "metadata": {},
   "outputs": [],
   "source": []
  },
  {
   "cell_type": "code",
   "execution_count": null,
   "metadata": {},
   "outputs": [],
   "source": []
  },
  {
   "cell_type": "code",
   "execution_count": null,
   "metadata": {},
   "outputs": [],
   "source": []
  },
  {
   "cell_type": "code",
   "execution_count": null,
   "metadata": {},
   "outputs": [],
   "source": []
  },
  {
   "cell_type": "code",
   "execution_count": null,
   "metadata": {},
   "outputs": [],
   "source": []
  },
  {
   "cell_type": "code",
   "execution_count": null,
   "metadata": {},
   "outputs": [],
   "source": []
  },
  {
   "cell_type": "code",
   "execution_count": null,
   "metadata": {},
   "outputs": [],
   "source": []
  },
  {
   "cell_type": "code",
   "execution_count": null,
   "metadata": {},
   "outputs": [],
   "source": []
  },
  {
   "cell_type": "code",
   "execution_count": null,
   "metadata": {},
   "outputs": [],
   "source": []
  },
  {
   "cell_type": "code",
   "execution_count": null,
   "metadata": {},
   "outputs": [],
   "source": []
  },
  {
   "cell_type": "code",
   "execution_count": null,
   "metadata": {},
   "outputs": [],
   "source": []
  },
  {
   "cell_type": "code",
   "execution_count": null,
   "metadata": {},
   "outputs": [],
   "source": []
  },
  {
   "cell_type": "code",
   "execution_count": null,
   "metadata": {},
   "outputs": [],
   "source": []
  },
  {
   "cell_type": "code",
   "execution_count": null,
   "metadata": {},
   "outputs": [],
   "source": []
  },
  {
   "cell_type": "code",
   "execution_count": null,
   "metadata": {},
   "outputs": [],
   "source": []
  },
  {
   "cell_type": "code",
   "execution_count": null,
   "metadata": {},
   "outputs": [],
   "source": []
  },
  {
   "cell_type": "code",
   "execution_count": null,
   "metadata": {},
   "outputs": [],
   "source": []
  },
  {
   "cell_type": "code",
   "execution_count": null,
   "metadata": {},
   "outputs": [],
   "source": []
  },
  {
   "cell_type": "code",
   "execution_count": null,
   "metadata": {},
   "outputs": [],
   "source": []
  },
  {
   "cell_type": "code",
   "execution_count": null,
   "metadata": {},
   "outputs": [],
   "source": []
  },
  {
   "cell_type": "code",
   "execution_count": null,
   "metadata": {},
   "outputs": [],
   "source": []
  }
 ],
 "metadata": {
  "kernelspec": {
   "display_name": "Python 3",
   "language": "python",
   "name": "python3"
  },
  "language_info": {
   "codemirror_mode": {
    "name": "ipython",
    "version": 3
   },
   "file_extension": ".py",
   "mimetype": "text/x-python",
   "name": "python",
   "nbconvert_exporter": "python",
   "pygments_lexer": "ipython3",
   "version": "3.6.7"
  }
 },
 "nbformat": 4,
 "nbformat_minor": 2
}
